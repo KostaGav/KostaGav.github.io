{
 "cells": [
  {
   "cell_type": "markdown",
   "metadata": {},
   "source": [
    "# Python Skript zur Einführung in Python\n",
    "## CorrelAid-Meet Up Hamburg, 17.11.-19.11.2017\n",
    "## Autor: Konstantin Gavras"
   ]
  },
  {
   "cell_type": "markdown",
   "metadata": {},
   "source": [
    "Auf Grundlage dieses Skripts soll ein kurzer Einblick in verschiedene Funktionen von Python ermöglicht werden. Zunächst werden die grundlegenden Funktionen von Python innerhalb des Jupyter Notebooks besprochen. Darauf aufbauend folgt eine Einführung in die Syntax von Python. Im zweiten Teil werden die Libraries pandas und matplotlib kennengelernt. Diese Libraries begründen die Datenanalyse in Python. Abschließend möchte ich euch einen kleinen Einblick in die Webanalyse in Python auf Grundlage der Wikipedia und Beautiful Soup Libraries geben."
   ]
  },
  {
   "cell_type": "markdown",
   "metadata": {},
   "source": [
    "# Python 2.7 in Jupyter Notebook"
   ]
  },
  {
   "cell_type": "markdown",
   "metadata": {},
   "source": [
    "Jupyter Notebooks laufen lokal über euren Standardbrowser, d.h. ihr benötigt keine Internetverbindung obwohl Python über euren Browser gestartet ist. In der Leiste oben könnt ihr eure Datei bearbeiten, editieren und Zellen organisieren. "
   ]
  },
  {
   "cell_type": "markdown",
   "metadata": {},
   "source": [
    "Im Vergleich zu anderen Python Distributionen ist der **riesen** Vorteil von Jupyter Notebook, dass ihr euren gesamten Skript in einem Dokument habt. Viele andere Distributionen verlangen von den Nutzern viele kleine Python Skripts zu schreiben."
   ]
  },
  {
   "cell_type": "markdown",
   "metadata": {},
   "source": [
    "Um neue Zellen unterhalb eurer jetziger Zelle einzufügen, drückt entweder **ESC** und dann **b** oder wählt das kleine Punkt oben in der zweiten Leiste."
   ]
  },
  {
   "cell_type": "markdown",
   "metadata": {},
   "source": [
    "Um eine Zeile mit Code durchlaufen zu lassen, drückt den Pfeil nach rechts oder **ESC** und dann **Shift-Enter**"
   ]
  },
  {
   "cell_type": "markdown",
   "metadata": {},
   "source": [
    "Weitere Shortcuts findet ihr unter *Help* und dann *Keyboard Shortcuts*"
   ]
  },
  {
   "cell_type": "markdown",
   "metadata": {},
   "source": [
    "**Aufgabe:** Versucht eine Zelle *oberhalb* dieser Zelle zu erstellen."
   ]
  },
  {
   "cell_type": "markdown",
   "metadata": {},
   "source": [
    "# Einführung in die Syntax von Python"
   ]
  },
  {
   "cell_type": "markdown",
   "metadata": {},
   "source": [
    "**1.** Objekte darstellen (printen)"
   ]
  },
  {
   "cell_type": "code",
   "execution_count": 2,
   "metadata": {},
   "outputs": [
    {
     "name": "stdout",
     "output_type": "stream",
     "text": [
      "Pizza\n"
     ]
    }
   ],
   "source": [
    "print (\"Pizza\")"
   ]
  },
  {
   "cell_type": "markdown",
   "metadata": {},
   "source": [
    "Wichtig beim darstellen von Objekten ist nur, dass sich die Syntax für Python 3 geändert hat. Ab Python 3 müssen Objekte, die dargestellt werden sollen, eingeklammert werden. In Python 2 ist es egal, um aber nicht in Schwierigkeiten zu geraten, wollen wir von nun an Objekte bei der Darstellung in Klammern setzen."
   ]
  },
  {
   "cell_type": "markdown",
   "metadata": {},
   "source": [
    "**2.** Variablen mit Werten versehen"
   ]
  },
  {
   "cell_type": "code",
   "execution_count": 3,
   "metadata": {
    "collapsed": true
   },
   "outputs": [],
   "source": [
    "counter  = 0"
   ]
  },
  {
   "cell_type": "markdown",
   "metadata": {},
   "source": [
    "Wieso ist nicht in der Konsole erschienen? - Alle Objekte werden nur auch tatsächlich dargestellt, wenn sie geprinted werden."
   ]
  },
  {
   "cell_type": "code",
   "execution_count": 4,
   "metadata": {},
   "outputs": [
    {
     "name": "stdout",
     "output_type": "stream",
     "text": [
      "0\n"
     ]
    }
   ],
   "source": [
    "print (counter)"
   ]
  },
  {
   "cell_type": "markdown",
   "metadata": {},
   "source": [
    "**3.** Schleifen: for- und if-loops"
   ]
  },
  {
   "cell_type": "markdown",
   "metadata": {},
   "source": [
    "*For-loops*"
   ]
  },
  {
   "cell_type": "markdown",
   "metadata": {},
   "source": [
    "Ein übliches Vorgehen, um wiederkehrende Prozesse abzukürzen, ist die Verwendung von Schleifen. Die bekannteste Schleife ist der for-loop. Mit dem for-loop wird eine Funktion für jeden Wert einen definierten Raum iterativ durchgeführt. Dies entspricht den Bedingungen unter denen die Funktion durchgeführt werden soll."
   ]
  },
  {
   "cell_type": "markdown",
   "metadata": {},
   "source": [
    "**Frage:** Was erzeugt die unten beschriebene Schleife?"
   ]
  },
  {
   "cell_type": "code",
   "execution_count": 5,
   "metadata": {},
   "outputs": [
    {
     "name": "stdout",
     "output_type": "stream",
     "text": [
      "10\n"
     ]
    }
   ],
   "source": [
    "for i in range(10):\n",
    "    counter = counter + 1\n",
    "print (counter)"
   ]
  },
  {
   "cell_type": "markdown",
   "metadata": {},
   "source": [
    "**Frage:** Wie unterscheidet sich die nächste Schleife von der oben beschriebenen? Was bedeutet das für die Ergebnisdarstellung und welche Ergebnisse werden dargestellt?"
   ]
  },
  {
   "cell_type": "code",
   "execution_count": 6,
   "metadata": {},
   "outputs": [
    {
     "name": "stdout",
     "output_type": "stream",
     "text": [
      "11\n",
      "12\n",
      "13\n",
      "14\n",
      "15\n",
      "16\n",
      "17\n",
      "18\n",
      "19\n",
      "20\n"
     ]
    }
   ],
   "source": [
    "for i in range(10):\n",
    "    counter = counter + 1\n",
    "    print (counter)"
   ]
  },
  {
   "cell_type": "markdown",
   "metadata": {},
   "source": [
    "Objekte, welche in vorherigen Zellen erstellt werden, sind innnerhalb des Jupyter Notebooks gespeichert. Wenn diese Objekte in einer vorherigen Zelle verändert wurden, hat dies einen Einfluss auf das Objekt in nachfolgenden Analyseschritten. In Python ist es zudem fundamental wichtig, Befehle innerhalb von Schleifen (oder anderen Prozesses) auf die korrekte Ebene einzurücken. Alle Befehle, die auf der gleichen Ebene liegen, werden gemeinsam durchgeführt. Die am weitesten innen liegende Einrückung wird zuerst durchgeführt. Nach jeder neuen Bedingung muss in Python eingerückt werden. Dies zwingt einen sauber und konzentriert zu arbeiten."
   ]
  },
  {
   "cell_type": "markdown",
   "metadata": {},
   "source": [
    "*If-loops*"
   ]
  },
  {
   "cell_type": "code",
   "execution_count": 7,
   "metadata": {},
   "outputs": [
    {
     "name": "stdout",
     "output_type": "stream",
     "text": [
      "0\n",
      "1\n",
      "2\n",
      "3\n",
      "4\n"
     ]
    }
   ],
   "source": [
    "for i in range(10):\n",
    "    if i < 5:\n",
    "        print (i)"
   ]
  },
  {
   "cell_type": "markdown",
   "metadata": {},
   "source": [
    "**4.** Objekte in Python"
   ]
  },
  {
   "cell_type": "markdown",
   "metadata": {},
   "source": [
    "*4.1.* Listen"
   ]
  },
  {
   "cell_type": "code",
   "execution_count": 15,
   "metadata": {
    "collapsed": true
   },
   "outputs": [],
   "source": [
    "einkaufszettel = [\"Eiscreme\",\"Nutella\",\"Tomaten\",\"Bier\"]"
   ]
  },
  {
   "cell_type": "markdown",
   "metadata": {},
   "source": [
    "In einer Liste werden verschiedene Objekte zusammengefasst. In unserem Fall haben wir einen Einkaufszettel erstellt."
   ]
  },
  {
   "cell_type": "code",
   "execution_count": 16,
   "metadata": {},
   "outputs": [
    {
     "name": "stdout",
     "output_type": "stream",
     "text": [
      "['Eiscreme', 'Nutella', 'Tomaten', 'Bier']\n"
     ]
    }
   ],
   "source": [
    "print (einkaufszettel)"
   ]
  },
  {
   "cell_type": "markdown",
   "metadata": {},
   "source": [
    "Wenn wir uns genauer anschauen möchten, welche Objekte wir auf unserer Liste auf welche Position gesetzt haben, können wir dies mithilfe einer eckigen Klammer betrachten."
   ]
  },
  {
   "cell_type": "code",
   "execution_count": 17,
   "metadata": {},
   "outputs": [
    {
     "name": "stdout",
     "output_type": "stream",
     "text": [
      "Nutella\n"
     ]
    }
   ],
   "source": [
    "print (einkaufszettel[1])"
   ]
  },
  {
   "cell_type": "markdown",
   "metadata": {},
   "source": [
    "**Frage:** Mit welchem Ergebnis habt ihr gerechnet?"
   ]
  },
  {
   "cell_type": "code",
   "execution_count": 13,
   "metadata": {},
   "outputs": [
    {
     "name": "stdout",
     "output_type": "stream",
     "text": [
      "Eiscreme\n"
     ]
    }
   ],
   "source": [
    "print (einkaufszettel[0])"
   ]
  },
  {
   "cell_type": "markdown",
   "metadata": {},
   "source": [
    "Wir können unserer Liste auch durch neue Objekte ergänzen..."
   ]
  },
  {
   "cell_type": "code",
   "execution_count": 18,
   "metadata": {},
   "outputs": [
    {
     "name": "stdout",
     "output_type": "stream",
     "text": [
      "['Eiscreme', 'Nutella', 'Tomaten', 'Bier', 'Nudeln']\n"
     ]
    }
   ],
   "source": [
    "einkaufszettel.append(\"Nudeln\")\n",
    "\n",
    "print (einkaufszettel)"
   ]
  },
  {
   "cell_type": "markdown",
   "metadata": {},
   "source": [
    "oder bestehende Objekte aus einer Liste löschen."
   ]
  },
  {
   "cell_type": "code",
   "execution_count": 19,
   "metadata": {},
   "outputs": [
    {
     "name": "stdout",
     "output_type": "stream",
     "text": [
      "['Eiscreme', 'Nutella', 'Bier', 'Nudeln']\n"
     ]
    }
   ],
   "source": [
    "einkaufszettel.remove(\"Tomaten\")\n",
    "\n",
    "print (einkaufszettel)"
   ]
  },
  {
   "cell_type": "markdown",
   "metadata": {},
   "source": [
    "*4.2* Dictionaries"
   ]
  },
  {
   "cell_type": "markdown",
   "metadata": {},
   "source": [
    "Ein weiteres wichtiges Objekt ist das Dictionary. Hierbei werden den Elementen innerhalb des Dictionaries (Schlüssel) bestimmten Werte (Objekte) zugewiesen."
   ]
  },
  {
   "cell_type": "code",
   "execution_count": 20,
   "metadata": {},
   "outputs": [
    {
     "name": "stdout",
     "output_type": "stream",
     "text": [
      "{'Eiscreme': 3, 'Nudeln': 2, 'Nutella': 1, 'Bier': 6}\n",
      "2\n"
     ]
    }
   ],
   "source": [
    "tasche = {'Eiscreme':3, 'Nutella':1, 'Bier':6, 'Nudeln':2}\n",
    "\n",
    "print (tasche)\n",
    "print (tasche[\"Nudeln\"])"
   ]
  },
  {
   "cell_type": "markdown",
   "metadata": {},
   "source": [
    "Wenn ihr mal vergessen sollte, welche Art von Objekt erstellt wurde, könnt ihr mit dem type Befehl nachvollziehen, was ihr erstellt habt."
   ]
  },
  {
   "cell_type": "code",
   "execution_count": 21,
   "metadata": {},
   "outputs": [
    {
     "name": "stdout",
     "output_type": "stream",
     "text": [
      "<type 'str'>\n",
      "<type 'list'>\n",
      "<type 'dict'>\n"
     ]
    }
   ],
   "source": [
    "print (type(\"Pizza\"))\n",
    "print (type(einkaufszettel))\n",
    "print (type(tasche))"
   ]
  },
  {
   "cell_type": "markdown",
   "metadata": {},
   "source": [
    "**Aufgabe:** Erstellt eine weitere Liste mit vier Elementen. In diesen soll beschrieben werden, zu welcher Gelegenheit ihr die Produkte aus dem Einkaufszettel essen würdet. Verbindet anschließend mithilfe des zip()-Befehls eure Liste mit der einkaufszettel Liste. Was passiert mit den beiden Listen und welches Objekt wurde erstellt?"
   ]
  },
  {
   "cell_type": "markdown",
   "metadata": {},
   "source": [
    "# Datenanalyse mit Python"
   ]
  },
  {
   "cell_type": "markdown",
   "metadata": {},
   "source": [
    "Python erlaubt es ebenfalls klassische Datenanalyse durchzuführen. Hierfür ist die pandas Library fundamental. Da nicht alle Libraries standardmäßig installiert sind, sollten wir überprüfen, ob die pandas Library installiert ist. Öffnet hierfür bitte die Anaconda Prompt auf eurem Rechner. Um neue Libraries zu installieren benötigt die Anaconda prompt den pip install *Name der Library* Befehl. Grund für die Installation über die prompt ist, dass dass Jupyter Notebook die Library direkt richtig abspeichert."
   ]
  },
  {
   "cell_type": "code",
   "execution_count": 2,
   "metadata": {
    "collapsed": true
   },
   "outputs": [],
   "source": [
    "import pandas as pd\n",
    "\n",
    "titanic = pd.read_csv(\"Titanic.csv\")"
   ]
  },
  {
   "cell_type": "markdown",
   "metadata": {},
   "source": [
    "Wenn ihr bereits Erfahrung mit R habt, werden ein paar der folgenden Befehle euch bekannt vorkommen. Die Systematik von R und pandas unterscheidet sich nur unwesentlich. Die Namen der Funktionen unterscheiden sich oftmals jedoch stark voneinander. Damit die R Nutzer nicht zu stark mit den neuen Funktionen fremdeln, werden wir die grundlegende Befehle der Datenanalyse auf Basis des bekannten *titanic* Datensatzes durchgehen.😃"
   ]
  },
  {
   "cell_type": "markdown",
   "metadata": {},
   "source": [
    "Zunächst wollen wir uns die Struktur des Datensatzes anschauen:"
   ]
  },
  {
   "cell_type": "markdown",
   "metadata": {},
   "source": [
    "**1.** Ein erster Einblick in den Datensatz"
   ]
  },
  {
   "cell_type": "code",
   "execution_count": 3,
   "metadata": {},
   "outputs": [
    {
     "data": {
      "text/html": [
       "<div>\n",
       "<style>\n",
       "    .dataframe thead tr:only-child th {\n",
       "        text-align: right;\n",
       "    }\n",
       "\n",
       "    .dataframe thead th {\n",
       "        text-align: left;\n",
       "    }\n",
       "\n",
       "    .dataframe tbody tr th {\n",
       "        vertical-align: top;\n",
       "    }\n",
       "</style>\n",
       "<table border=\"1\" class=\"dataframe\">\n",
       "  <thead>\n",
       "    <tr style=\"text-align: right;\">\n",
       "      <th></th>\n",
       "      <th>Unnamed: 0</th>\n",
       "      <th>Name</th>\n",
       "      <th>PClass</th>\n",
       "      <th>Age</th>\n",
       "      <th>Sex</th>\n",
       "      <th>Survived</th>\n",
       "      <th>SexCode</th>\n",
       "    </tr>\n",
       "  </thead>\n",
       "  <tbody>\n",
       "    <tr>\n",
       "      <th>0</th>\n",
       "      <td>1</td>\n",
       "      <td>Allen, Miss Elisabeth Walton</td>\n",
       "      <td>1st</td>\n",
       "      <td>29.00</td>\n",
       "      <td>female</td>\n",
       "      <td>1</td>\n",
       "      <td>1</td>\n",
       "    </tr>\n",
       "    <tr>\n",
       "      <th>1</th>\n",
       "      <td>2</td>\n",
       "      <td>Allison, Miss Helen Loraine</td>\n",
       "      <td>1st</td>\n",
       "      <td>2.00</td>\n",
       "      <td>female</td>\n",
       "      <td>0</td>\n",
       "      <td>1</td>\n",
       "    </tr>\n",
       "    <tr>\n",
       "      <th>2</th>\n",
       "      <td>3</td>\n",
       "      <td>Allison, Mr Hudson Joshua Creighton</td>\n",
       "      <td>1st</td>\n",
       "      <td>30.00</td>\n",
       "      <td>male</td>\n",
       "      <td>0</td>\n",
       "      <td>0</td>\n",
       "    </tr>\n",
       "    <tr>\n",
       "      <th>3</th>\n",
       "      <td>4</td>\n",
       "      <td>Allison, Mrs Hudson JC (Bessie Waldo Daniels)</td>\n",
       "      <td>1st</td>\n",
       "      <td>25.00</td>\n",
       "      <td>female</td>\n",
       "      <td>0</td>\n",
       "      <td>1</td>\n",
       "    </tr>\n",
       "    <tr>\n",
       "      <th>4</th>\n",
       "      <td>5</td>\n",
       "      <td>Allison, Master Hudson Trevor</td>\n",
       "      <td>1st</td>\n",
       "      <td>0.92</td>\n",
       "      <td>male</td>\n",
       "      <td>1</td>\n",
       "      <td>0</td>\n",
       "    </tr>\n",
       "  </tbody>\n",
       "</table>\n",
       "</div>"
      ],
      "text/plain": [
       "   Unnamed: 0                                           Name PClass    Age  \\\n",
       "0           1                   Allen, Miss Elisabeth Walton    1st  29.00   \n",
       "1           2                    Allison, Miss Helen Loraine    1st   2.00   \n",
       "2           3            Allison, Mr Hudson Joshua Creighton    1st  30.00   \n",
       "3           4  Allison, Mrs Hudson JC (Bessie Waldo Daniels)    1st  25.00   \n",
       "4           5                  Allison, Master Hudson Trevor    1st   0.92   \n",
       "\n",
       "      Sex  Survived  SexCode  \n",
       "0  female         1        1  \n",
       "1  female         0        1  \n",
       "2    male         0        0  \n",
       "3  female         0        1  \n",
       "4    male         1        0  "
      ]
     },
     "execution_count": 3,
     "metadata": {},
     "output_type": "execute_result"
    }
   ],
   "source": [
    "titanic.head()"
   ]
  },
  {
   "cell_type": "markdown",
   "metadata": {},
   "source": [
    "Wir können uns ebenfalls anschauen, wie viele Zeilen und Spalten unser Datensatz hat."
   ]
  },
  {
   "cell_type": "code",
   "execution_count": 4,
   "metadata": {},
   "outputs": [
    {
     "data": {
      "text/plain": [
       "(1313, 7)"
      ]
     },
     "execution_count": 4,
     "metadata": {},
     "output_type": "execute_result"
    }
   ],
   "source": [
    "titanic.shape"
   ]
  },
  {
   "cell_type": "markdown",
   "metadata": {},
   "source": [
    "**Frage:** Was bedeuten diese beiden Zahlen?"
   ]
  },
  {
   "cell_type": "markdown",
   "metadata": {},
   "source": [
    "Wir können uns auch nur bestimmte Zeilen oder Spalten genauer anschauen. Hierfür werden der iloc und der loc Befehl benötigt. Der iloc Befehl verwendet die Indexnummer der Spalte, der loc Befehl das Label der Spalte. "
   ]
  },
  {
   "cell_type": "code",
   "execution_count": 5,
   "metadata": {},
   "outputs": [
    {
     "data": {
      "text/html": [
       "<div>\n",
       "<style>\n",
       "    .dataframe thead tr:only-child th {\n",
       "        text-align: right;\n",
       "    }\n",
       "\n",
       "    .dataframe thead th {\n",
       "        text-align: left;\n",
       "    }\n",
       "\n",
       "    .dataframe tbody tr th {\n",
       "        vertical-align: top;\n",
       "    }\n",
       "</style>\n",
       "<table border=\"1\" class=\"dataframe\">\n",
       "  <thead>\n",
       "    <tr style=\"text-align: right;\">\n",
       "      <th></th>\n",
       "      <th>Unnamed: 0</th>\n",
       "      <th>Name</th>\n",
       "      <th>PClass</th>\n",
       "      <th>Age</th>\n",
       "      <th>Sex</th>\n",
       "      <th>Survived</th>\n",
       "      <th>SexCode</th>\n",
       "    </tr>\n",
       "  </thead>\n",
       "  <tbody>\n",
       "    <tr>\n",
       "      <th>5</th>\n",
       "      <td>6</td>\n",
       "      <td>Anderson, Mr Harry</td>\n",
       "      <td>1st</td>\n",
       "      <td>47.0</td>\n",
       "      <td>male</td>\n",
       "      <td>1</td>\n",
       "      <td>0</td>\n",
       "    </tr>\n",
       "    <tr>\n",
       "      <th>6</th>\n",
       "      <td>7</td>\n",
       "      <td>Andrews, Miss Kornelia Theodosia</td>\n",
       "      <td>1st</td>\n",
       "      <td>63.0</td>\n",
       "      <td>female</td>\n",
       "      <td>1</td>\n",
       "      <td>1</td>\n",
       "    </tr>\n",
       "    <tr>\n",
       "      <th>7</th>\n",
       "      <td>8</td>\n",
       "      <td>Andrews, Mr Thomas, jr</td>\n",
       "      <td>1st</td>\n",
       "      <td>39.0</td>\n",
       "      <td>male</td>\n",
       "      <td>0</td>\n",
       "      <td>0</td>\n",
       "    </tr>\n",
       "    <tr>\n",
       "      <th>8</th>\n",
       "      <td>9</td>\n",
       "      <td>Appleton, Mrs Edward Dale (Charlotte Lamson)</td>\n",
       "      <td>1st</td>\n",
       "      <td>58.0</td>\n",
       "      <td>female</td>\n",
       "      <td>1</td>\n",
       "      <td>1</td>\n",
       "    </tr>\n",
       "    <tr>\n",
       "      <th>9</th>\n",
       "      <td>10</td>\n",
       "      <td>Artagaveytia, Mr Ramon</td>\n",
       "      <td>1st</td>\n",
       "      <td>71.0</td>\n",
       "      <td>male</td>\n",
       "      <td>0</td>\n",
       "      <td>0</td>\n",
       "    </tr>\n",
       "  </tbody>\n",
       "</table>\n",
       "</div>"
      ],
      "text/plain": [
       "   Unnamed: 0                                          Name PClass   Age  \\\n",
       "5           6                            Anderson, Mr Harry    1st  47.0   \n",
       "6           7              Andrews, Miss Kornelia Theodosia    1st  63.0   \n",
       "7           8                        Andrews, Mr Thomas, jr    1st  39.0   \n",
       "8           9  Appleton, Mrs Edward Dale (Charlotte Lamson)    1st  58.0   \n",
       "9          10                        Artagaveytia, Mr Ramon    1st  71.0   \n",
       "\n",
       "      Sex  Survived  SexCode  \n",
       "5    male         1        0  \n",
       "6  female         1        1  \n",
       "7    male         0        0  \n",
       "8  female         1        1  \n",
       "9    male         0        0  "
      ]
     },
     "execution_count": 5,
     "metadata": {},
     "output_type": "execute_result"
    }
   ],
   "source": [
    "titanic.iloc[5:10,:]"
   ]
  },
  {
   "cell_type": "code",
   "execution_count": 6,
   "metadata": {},
   "outputs": [
    {
     "data": {
      "text/plain": [
       "5                              Anderson, Mr Harry\n",
       "6                Andrews, Miss Kornelia Theodosia\n",
       "7                          Andrews, Mr Thomas, jr\n",
       "8    Appleton, Mrs Edward Dale (Charlotte Lamson)\n",
       "9                          Artagaveytia, Mr Ramon\n",
       "Name: Name, dtype: object"
      ]
     },
     "execution_count": 6,
     "metadata": {},
     "output_type": "execute_result"
    }
   ],
   "source": [
    "titanic.iloc[5:10,1]"
   ]
  },
  {
   "cell_type": "code",
   "execution_count": 7,
   "metadata": {},
   "outputs": [
    {
     "data": {
      "text/plain": [
       "5                               Anderson, Mr Harry\n",
       "6                 Andrews, Miss Kornelia Theodosia\n",
       "7                           Andrews, Mr Thomas, jr\n",
       "8     Appleton, Mrs Edward Dale (Charlotte Lamson)\n",
       "9                           Artagaveytia, Mr Ramon\n",
       "10                       Astor, Colonel John Jacob\n",
       "Name: Name, dtype: object"
      ]
     },
     "execution_count": 7,
     "metadata": {},
     "output_type": "execute_result"
    }
   ],
   "source": [
    "titanic.loc[5:10,\"Name\"]"
   ]
  },
  {
   "cell_type": "markdown",
   "metadata": {},
   "source": [
    "**Aufgabe:** Erstellt ein Objekt, in welchem ihr nur die Gäste 5 bis 10 abspeichert. Stellt das Objekt anschließend dar."
   ]
  },
  {
   "cell_type": "markdown",
   "metadata": {},
   "source": [
    "Weiterhin könnt ihr neue Spalten an bestehende Datensätze anhängen. Hierfür benennt ihr eine neue Spalte und definiert auf welcher Grundlage diese erstellt werden soll. In unserem Fall möchten wir eine neue Variable erstellen welche anzeigt, ob jemand beim Sinken der Titanic gestorben ist."
   ]
  },
  {
   "cell_type": "code",
   "execution_count": 8,
   "metadata": {
    "collapsed": true
   },
   "outputs": [],
   "source": [
    "titanic[\"Died\"] = ((titanic[\"Survived\"]-1)*-1)"
   ]
  },
  {
   "cell_type": "code",
   "execution_count": 9,
   "metadata": {
    "scrolled": true
   },
   "outputs": [
    {
     "data": {
      "text/html": [
       "<div>\n",
       "<style>\n",
       "    .dataframe thead tr:only-child th {\n",
       "        text-align: right;\n",
       "    }\n",
       "\n",
       "    .dataframe thead th {\n",
       "        text-align: left;\n",
       "    }\n",
       "\n",
       "    .dataframe tbody tr th {\n",
       "        vertical-align: top;\n",
       "    }\n",
       "</style>\n",
       "<table border=\"1\" class=\"dataframe\">\n",
       "  <thead>\n",
       "    <tr style=\"text-align: right;\">\n",
       "      <th></th>\n",
       "      <th>Unnamed: 0</th>\n",
       "      <th>Name</th>\n",
       "      <th>PClass</th>\n",
       "      <th>Age</th>\n",
       "      <th>Sex</th>\n",
       "      <th>Survived</th>\n",
       "      <th>SexCode</th>\n",
       "      <th>Died</th>\n",
       "    </tr>\n",
       "  </thead>\n",
       "  <tbody>\n",
       "    <tr>\n",
       "      <th>0</th>\n",
       "      <td>1</td>\n",
       "      <td>Allen, Miss Elisabeth Walton</td>\n",
       "      <td>1st</td>\n",
       "      <td>29.00</td>\n",
       "      <td>female</td>\n",
       "      <td>1</td>\n",
       "      <td>1</td>\n",
       "      <td>0</td>\n",
       "    </tr>\n",
       "    <tr>\n",
       "      <th>1</th>\n",
       "      <td>2</td>\n",
       "      <td>Allison, Miss Helen Loraine</td>\n",
       "      <td>1st</td>\n",
       "      <td>2.00</td>\n",
       "      <td>female</td>\n",
       "      <td>0</td>\n",
       "      <td>1</td>\n",
       "      <td>1</td>\n",
       "    </tr>\n",
       "    <tr>\n",
       "      <th>2</th>\n",
       "      <td>3</td>\n",
       "      <td>Allison, Mr Hudson Joshua Creighton</td>\n",
       "      <td>1st</td>\n",
       "      <td>30.00</td>\n",
       "      <td>male</td>\n",
       "      <td>0</td>\n",
       "      <td>0</td>\n",
       "      <td>1</td>\n",
       "    </tr>\n",
       "    <tr>\n",
       "      <th>3</th>\n",
       "      <td>4</td>\n",
       "      <td>Allison, Mrs Hudson JC (Bessie Waldo Daniels)</td>\n",
       "      <td>1st</td>\n",
       "      <td>25.00</td>\n",
       "      <td>female</td>\n",
       "      <td>0</td>\n",
       "      <td>1</td>\n",
       "      <td>1</td>\n",
       "    </tr>\n",
       "    <tr>\n",
       "      <th>4</th>\n",
       "      <td>5</td>\n",
       "      <td>Allison, Master Hudson Trevor</td>\n",
       "      <td>1st</td>\n",
       "      <td>0.92</td>\n",
       "      <td>male</td>\n",
       "      <td>1</td>\n",
       "      <td>0</td>\n",
       "      <td>0</td>\n",
       "    </tr>\n",
       "  </tbody>\n",
       "</table>\n",
       "</div>"
      ],
      "text/plain": [
       "   Unnamed: 0                                           Name PClass    Age  \\\n",
       "0           1                   Allen, Miss Elisabeth Walton    1st  29.00   \n",
       "1           2                    Allison, Miss Helen Loraine    1st   2.00   \n",
       "2           3            Allison, Mr Hudson Joshua Creighton    1st  30.00   \n",
       "3           4  Allison, Mrs Hudson JC (Bessie Waldo Daniels)    1st  25.00   \n",
       "4           5                  Allison, Master Hudson Trevor    1st   0.92   \n",
       "\n",
       "      Sex  Survived  SexCode  Died  \n",
       "0  female         1        1     0  \n",
       "1  female         0        1     1  \n",
       "2    male         0        0     1  \n",
       "3  female         0        1     1  \n",
       "4    male         1        0     0  "
      ]
     },
     "execution_count": 9,
     "metadata": {},
     "output_type": "execute_result"
    }
   ],
   "source": [
    "titanic.head()"
   ]
  },
  {
   "cell_type": "markdown",
   "metadata": {},
   "source": [
    "**2.** Univariate Analysen"
   ]
  },
  {
   "cell_type": "markdown",
   "metadata": {},
   "source": [
    "In pandas existieren alle Standard-Befehle für die Durchführung von univariaten Analysen, darunter der .mean(), .count(), .max(), .min(), .median() und der .std() Befehl"
   ]
  },
  {
   "cell_type": "code",
   "execution_count": 10,
   "metadata": {},
   "outputs": [
    {
     "data": {
      "text/plain": [
       "Unnamed: 0    657.000000\n",
       "Age            30.397989\n",
       "Survived        0.342727\n",
       "SexCode         0.351866\n",
       "Died            0.657273\n",
       "dtype: float64"
      ]
     },
     "execution_count": 10,
     "metadata": {},
     "output_type": "execute_result"
    }
   ],
   "source": [
    "titanic.mean()"
   ]
  },
  {
   "cell_type": "markdown",
   "metadata": {},
   "source": [
    "**Frage:** Was fällt euch auf, wenn ihr die Ergebnisse des mean-Befehl betrachtet?"
   ]
  },
  {
   "cell_type": "markdown",
   "metadata": {},
   "source": [
    "**Aufgabe:** Berechnet für wie viele Personen auf der Titanic das Alter bekannt war, wie alt der älteste Reisende und wie alt der jüngste Reisende war. Die groß war die Streuung im Alter?"
   ]
  },
  {
   "cell_type": "code",
   "execution_count": 15,
   "metadata": {},
   "outputs": [
    {
     "data": {
      "text/plain": [
       "14.259048710359023"
      ]
     },
     "execution_count": 15,
     "metadata": {},
     "output_type": "execute_result"
    }
   ],
   "source": [
    "titanic[\"Age\"].std()"
   ]
  },
  {
   "cell_type": "markdown",
   "metadata": {},
   "source": [
    "**3.** Bivariate Analysen"
   ]
  },
  {
   "cell_type": "markdown",
   "metadata": {},
   "source": [
    "Mit dem .corr() Befehl könnt ihr correlative Analysen berechnen. Bitte untersucht, ob das Geschlecht und die Wahrscheinlichkeit zu sterben miteinander korreliert ist."
   ]
  },
  {
   "cell_type": "code",
   "execution_count": 16,
   "metadata": {},
   "outputs": [
    {
     "data": {
      "text/html": [
       "<div>\n",
       "<style>\n",
       "    .dataframe thead tr:only-child th {\n",
       "        text-align: right;\n",
       "    }\n",
       "\n",
       "    .dataframe thead th {\n",
       "        text-align: left;\n",
       "    }\n",
       "\n",
       "    .dataframe tbody tr th {\n",
       "        vertical-align: top;\n",
       "    }\n",
       "</style>\n",
       "<table border=\"1\" class=\"dataframe\">\n",
       "  <thead>\n",
       "    <tr style=\"text-align: right;\">\n",
       "      <th></th>\n",
       "      <th>Unnamed: 0</th>\n",
       "      <th>Age</th>\n",
       "      <th>Survived</th>\n",
       "      <th>SexCode</th>\n",
       "      <th>Died</th>\n",
       "    </tr>\n",
       "  </thead>\n",
       "  <tbody>\n",
       "    <tr>\n",
       "      <th>Unnamed: 0</th>\n",
       "      <td>1.000000</td>\n",
       "      <td>-0.340922</td>\n",
       "      <td>-0.352925</td>\n",
       "      <td>-0.125035</td>\n",
       "      <td>0.352925</td>\n",
       "    </tr>\n",
       "    <tr>\n",
       "      <th>Age</th>\n",
       "      <td>-0.340922</td>\n",
       "      <td>1.000000</td>\n",
       "      <td>-0.061254</td>\n",
       "      <td>-0.055138</td>\n",
       "      <td>0.061254</td>\n",
       "    </tr>\n",
       "    <tr>\n",
       "      <th>Survived</th>\n",
       "      <td>-0.352925</td>\n",
       "      <td>-0.061254</td>\n",
       "      <td>1.000000</td>\n",
       "      <td>0.502891</td>\n",
       "      <td>-1.000000</td>\n",
       "    </tr>\n",
       "    <tr>\n",
       "      <th>SexCode</th>\n",
       "      <td>-0.125035</td>\n",
       "      <td>-0.055138</td>\n",
       "      <td>0.502891</td>\n",
       "      <td>1.000000</td>\n",
       "      <td>-0.502891</td>\n",
       "    </tr>\n",
       "    <tr>\n",
       "      <th>Died</th>\n",
       "      <td>0.352925</td>\n",
       "      <td>0.061254</td>\n",
       "      <td>-1.000000</td>\n",
       "      <td>-0.502891</td>\n",
       "      <td>1.000000</td>\n",
       "    </tr>\n",
       "  </tbody>\n",
       "</table>\n",
       "</div>"
      ],
      "text/plain": [
       "            Unnamed: 0       Age  Survived   SexCode      Died\n",
       "Unnamed: 0    1.000000 -0.340922 -0.352925 -0.125035  0.352925\n",
       "Age          -0.340922  1.000000 -0.061254 -0.055138  0.061254\n",
       "Survived     -0.352925 -0.061254  1.000000  0.502891 -1.000000\n",
       "SexCode      -0.125035 -0.055138  0.502891  1.000000 -0.502891\n",
       "Died          0.352925  0.061254 -1.000000 -0.502891  1.000000"
      ]
     },
     "execution_count": 16,
     "metadata": {},
     "output_type": "execute_result"
    }
   ],
   "source": [
    "titanic.corr()"
   ]
  },
  {
   "cell_type": "markdown",
   "metadata": {},
   "source": [
    "**4.** Grafische Darstellungen"
   ]
  },
  {
   "cell_type": "markdown",
   "metadata": {},
   "source": [
    "Für die Erstellung von Grafiken gibt es innerhalb der pandas Library die matplotlib Funktion, welche innerhalb des Jupyter Notebook separat geladen werden muss."
   ]
  },
  {
   "cell_type": "code",
   "execution_count": 17,
   "metadata": {
    "collapsed": true
   },
   "outputs": [],
   "source": [
    "%matplotlib inline"
   ]
  },
  {
   "cell_type": "markdown",
   "metadata": {},
   "source": [
    "Die plot Methode erstellt standardmäßig Liniengraphen, daher müssen wir ihr erklären, dass sie eine andere Art von Grafik erstellen soll. Dies funktioniert über das kind-Argument innerhalb der plot-Funktion."
   ]
  },
  {
   "cell_type": "code",
   "execution_count": 18,
   "metadata": {},
   "outputs": [
    {
     "data": {
      "text/plain": [
       "<matplotlib.axes._subplots.AxesSubplot at 0x1067d978>"
      ]
     },
     "execution_count": 18,
     "metadata": {},
     "output_type": "execute_result"
    },
    {
     "data": {
      "image/png": "[encoded data removed]",
      "text/plain": [
       "<matplotlib.figure.Figure at 0x1067d1d0>"
      ]
     },
     "metadata": {},
     "output_type": "display_data"
    }
   ],
   "source": [
    "titanic[\"Age\"].plot()"
   ]
  },
  {
   "cell_type": "code",
   "execution_count": 19,
   "metadata": {},
   "outputs": [
    {
     "data": {
      "text/plain": [
       "<matplotlib.axes._subplots.AxesSubplot at 0x1083b898>"
      ]
     },
     "execution_count": 19,
     "metadata": {},
     "output_type": "execute_result"
    },
    {
     "data": {
      "image/png": "[encoded data removed]",
      "text/plain": [
       "<matplotlib.figure.Figure at 0x10852240>"
      ]
     },
     "metadata": {},
     "output_type": "display_data"
    }
   ],
   "source": [
    "titanic[\"Age\"].plot(kind=\"hist\")"
   ]
  },
  {
   "cell_type": "markdown",
   "metadata": {},
   "source": [
    "Weiterhin ist es möglich, Bedingungen in die Erstellung der Grafiken zu integrieren. So können wir das Alter Derjenigen darstellen, welche an Bord der Titanic verstorben sind..."
   ]
  },
  {
   "cell_type": "code",
   "execution_count": 20,
   "metadata": {},
   "outputs": [
    {
     "data": {
      "text/plain": [
       "<matplotlib.axes._subplots.AxesSubplot at 0x12efda58>"
      ]
     },
     "execution_count": 20,
     "metadata": {},
     "output_type": "execute_result"
    },
    {
     "data": {
      "image/png": "[encoded data removed]",
      "text/plain": [
       "<matplotlib.figure.Figure at 0x108829b0>"
      ]
     },
     "metadata": {},
     "output_type": "display_data"
    }
   ],
   "source": [
    "titanic[titanic[\"Died\"]==1][\"Age\"].plot(kind=\"hist\")"
   ]
  },
  {
   "cell_type": "markdown",
   "metadata": {},
   "source": [
    "oder derjenigen, die überlebt haben."
   ]
  },
  {
   "cell_type": "code",
   "execution_count": 21,
   "metadata": {},
   "outputs": [
    {
     "data": {
      "text/plain": [
       "<matplotlib.axes._subplots.AxesSubplot at 0x13381ef0>"
      ]
     },
     "execution_count": 21,
     "metadata": {},
     "output_type": "execute_result"
    },
    {
     "data": {
      "image/png": "[encoded data removed]",
      "text/plain": [
       "<matplotlib.figure.Figure at 0x108ffeb8>"
      ]
     },
     "metadata": {},
     "output_type": "display_data"
    }
   ],
   "source": [
    "titanic[titanic[\"Died\"]==0][\"Age\"].plot(kind=\"hist\")"
   ]
  },
  {
   "cell_type": "markdown",
   "metadata": {},
   "source": [
    "Für weitergehende empirishe Datenanalyse klassischer Datensätze, schaut einfach in der Dokumentation von pandas vorbei: https://pandas.pydata.org/pandas-docs/stable/. Für die Berechnung von statistischen Modellen greift am besten auf die statsmodels Library zurücken (http://www.statsmodels.org/stable/index.html). Diese kann direkt auf pandas aufbauen."
   ]
  },
  {
   "cell_type": "markdown",
   "metadata": {},
   "source": [
    "# Web Analyse mit Python"
   ]
  },
  {
   "cell_type": "markdown",
   "metadata": {},
   "source": [
    "Eine weitere große Stärke von Python ist die Verknüpfung mit online verfügbaren Informationen. Viele Libraries sind so geschrieben, dass man ohne großen eigenen Programmieraufwand Informationen aus dem Internet \"scrapen\" kann. Ich möchte euch dafür einen kurzen Einblick in die Library Wikipedia geben, aus welchem ihr sehr einfach demographische oder geographische Fakten sowie (relativ) valide biografische Informationen extrahieren könnt. Weiterhin ist Wikipedia ideal dafür geeignet Kluster- und Netzwerkanalysen durchzuführen."
   ]
  },
  {
   "cell_type": "markdown",
   "metadata": {},
   "source": [
    "**Aufgabe:** Installiert die wikipedia Library auf eurem Jupyter Notebook"
   ]
  },
  {
   "cell_type": "code",
   "execution_count": 22,
   "metadata": {
    "collapsed": true
   },
   "outputs": [],
   "source": [
    "import wikipedia\n",
    "wikipedia.set_lang(\"de\")"
   ]
  },
  {
   "cell_type": "markdown",
   "metadata": {},
   "source": [
    "Wikipedia kann über diese Library in jeder Sprache gescrapt werden, in der auch ein Wikipedia-Eintrag geschrieben wurde. Ihr solltet also trotz aller Automatisierung in diesem Prozess immer vorher selber auf den Homepages vorbei schauen, um zu prüfen, ob eure Anfrage an Wikipedia auch sinnvoll ist."
   ]
  },
  {
   "cell_type": "markdown",
   "metadata": {},
   "source": [
    "Da wir in der schönen Hansestadt Hamburg sind, wollen wir uns diese Wikipedia-Seite einfach mal \"scrapen\"."
   ]
  },
  {
   "cell_type": "code",
   "execution_count": 23,
   "metadata": {},
   "outputs": [
    {
     "name": "stdout",
     "output_type": "stream",
     "text": [
      "<WikipediaPage 'Hamburg'>\n"
     ]
    }
   ],
   "source": [
    "page = wikipedia.page(\"Hamburg\")\n",
    "print (page)"
   ]
  },
  {
   "cell_type": "markdown",
   "metadata": {},
   "source": [
    "Die print Funktion ist bei der Web Analyse wichtig, um zu prüfen, ob die Anfrage an die Homepage auch tatsächlich funktioniert hat. In unserem Fall ist alles gut gegangen, da wir sehen, dass in dem Objekt page eine WikipediaPage mit Namen Hamburg gespeichert ist."
   ]
  },
  {
   "cell_type": "markdown",
   "metadata": {},
   "source": [
    "Schauen wir uns den Inhalt der Seite kurz an. \n",
    "Fangen wir mit dem Titel an:"
   ]
  },
  {
   "cell_type": "code",
   "execution_count": 24,
   "metadata": {},
   "outputs": [
    {
     "name": "stdout",
     "output_type": "stream",
     "text": [
      "Hamburg\n"
     ]
    }
   ],
   "source": [
    "print(page.title)"
   ]
  },
  {
   "cell_type": "markdown",
   "metadata": {},
   "source": [
    "Dann die URL:"
   ]
  },
  {
   "cell_type": "code",
   "execution_count": 25,
   "metadata": {},
   "outputs": [
    {
     "name": "stdout",
     "output_type": "stream",
     "text": [
      "https://de.wikipedia.org/wiki/Hamburg\n"
     ]
    }
   ],
   "source": [
    "print(page.url)"
   ]
  },
  {
   "cell_type": "markdown",
   "metadata": {},
   "source": [
    "Und anschließend den tatsächlichen Inhalt der Seite:"
   ]
  },
  {
   "cell_type": "code",
   "execution_count": 26,
   "metadata": {},
   "outputs": [
    {
     "name": "stdout",
     "output_type": "stream",
     "text": [
      "Die Freie und Hansestadt Hamburg ( [ˈhambʊʁk]; regional auch  [ˈhambʊɪ̯ç], niederdeutsch Friee un Hansestadt Hamborg [ˈhambɔːχ], Ländercode: HH, Abkürzung: FHH oder FuHH) ist als Stadtstaat eine Stadt und zugleich ein Land der Bundesrepublik Deutschland. Hamburg ist mit ca. 1,8 Millionen Einwohnern die zweitgrößte Stadt Deutschlands nach Berlin, die drittgrößte Stadt im deutschen Sprachraum, die achtgrößte in der Europäischen Union und dabei auch die größte, die nicht Hauptstadt eines Staates ist. Hamburg gliedert sich in sieben Bezirke und 104 Stadtteile. Die Stadt bildet einen Ballungsraum mit mehr als 2,7 Millionen Einwohnern und ist das Zentrum der über fünf Millionen Einwohner zählenden Metropolregion Hamburg.\n",
      "Der Hamburger Hafen ist einer der größten Häfen Europas und liegt auf Platz 17 in der Liste der größten Containerhäfen weltweit. Seit 1996 ist Hamburg Sitz des Internationalen Seegerichtshofs (ISGH). Die Hansestadt ist einschließlich ihres internationalen Flughafens und als Verkehrsknotenpunkt einer der bedeutendsten Logistikstandorte in Europa. Sie ist zudem wirtschaftlich und wissenschaftlich vor allem im Bereich der Luft- und Raumfahrttechnik, der Biowissenschaften und der Informationstechnik, für die Konsumgüterbranche sowie für die Medienlandschaft und die Kultur- und Kreativwirtschaft bedeutend.\n",
      "Der heute gültige offizielle Name Hamburgs ist Zeugnis der langen Geschichte als Mitglied der mittelalterlichen Hanse sowie als Freie Reichsstadt innerhalb des Heiligen Römischen Reiches. Hamburgs heutige Verfassung gilt mit Anpassungen seit 1952.\n",
      "Am 5. Juli 2015 wurden die Speicherstadt aus der Zeit der Industrialisierung und das angrenzende Kontorhausviertel von der UNESCO als Weltkulturerbe in die Welterbeliste aufgenommen. Im Stadtgebiet gibt es viele weitere wertvolle Kulturdenkmäler. Hamburg verzeichnet ein starkes Wachstum im Bereich des internationalen Stadttourismus.\n",
      "Vom 7. Juli bis 8. Juli 2017 fand in der Hansestadt der G20-Gipfel statt.\n",
      "\n",
      "\n",
      "== Allgemeines ==\n",
      "\n",
      "Die älteste urkundliche Erwähnung datiert aus dem 7. Jahrhundert. Durch seinen Vertrag mit Lübeck im Jahr 1241 wurde Hamburg einer der Gründungsorte der Hanse. Hamburg ist bedeutender Kultur-, Industrie- und Handelsstandort. Die wirtschaftliche Bedeutung der Stadt zeigt sich in der Metropolregion Hamburg, einer der insgesamt elf europäischen Metropolregionen in Deutschland, der Stellung des Hafens als zweitgrößtem in Europa und als einer der wichtigsten Medienstandorte im deutschsprachigen Raum.\n",
      "Mit 86 Millionen Tagesbesuchern und 12 Millionen Übernachtungen im Jahr 2014 ist Hamburg eines der gefragtesten Tourismusziele in Deutschland. Zu den Zielen der Besucher gehören die Hamburger Innenstadt samt Binnenalster, der Hamburger Hafen mit den St. Pauli-Landungsbrücken und der modernen HafenCity samt der Elbphilharmonie, St. Pauli mit der „sündigen Meile“ Reeperbahn, und weitere bekannte Hamburger Bauwerke wie die historischen Wahrzeichen Michel und Rathaus. Darüber hinaus sind Veranstaltungen wie der Hafengeburtstag, der Altonaer Fischmarkt, der Hamburger Dom und die Cruise Days mit der Parade der Traumschiffe Anziehungspunkte. Am weltweit bedeutenden Musicalstandort Hamburg werden Musicals wie beispielsweise Der König der Löwen und Das Wunder von Bern aufgeführt.\n",
      "Hamburg hat über 60 Theater, mehr als 60 Museen und international bekannte Galerien wie die Hamburger Kunsthalle und das Bucerius Kunst Forum. Bedeutende Messen wie die hanseboot oder die Internorga finden regelmäßig statt. Hamburg gilt als Sportstadt, weil neben den Fußballspielen des Hamburger SV und des FC St. Pauli, den Radrennen der Cyclassics Hamburg, den internationalen deutschen Meisterschaften im Tennis auch das Deutsche Derby sowie das Deutsche Spring- und Dressurderby ausgetragen werden und jährlich der Hamburg-Marathon stattfindet.\n",
      "\n",
      "\n",
      "== Geographie ==\n",
      "\n",
      "\n",
      "=== Überblick ===\n",
      "\n",
      "Hamburg liegt in Norddeutschland an den Mündungen der Bille und der Alster in die Unterelbe, die etwa 100 km weiter nordwestlich in die Nordsee mündet. Nahe dieser Mündung befindet sich der aus drei Inseln bestehende Stadtteil Neuwerk. An der Elbe erstreckt sich der Tidehafen etwa von der Veddel bis Finkenwerder, hauptsächlich auf dem Südufer der Norderelbe, gegenüber den Stadtteilen St. Pauli und Altona. Die beiden Ufer sind durch die Elbbrücken im Osten sowie durch den Alten und Neuen Elbtunnel verbunden. Das Land südlich und nördlich des Flusses ist Geest, höher gelegene Flächen, die durch die Sand- und Geröllablagerungen der Gletscher während der Eiszeiten entstanden sind. Die unmittelbar am Fluss liegenden Marschen wurden auf beiden Seiten der Elbe über Jahrhunderte von Nebenarmen der Elbe durchzogen und vom Flutwasser der Nordsee überschwemmt, wobei sich Sand und Schlick abgelagert haben. Inzwischen ist die Elbe beidseitig eingedeicht, Nebenarme wurden trockengelegt, umgeleitet, kanalisiert oder abgedeicht. Alte Deichanlagen erinnern in den Außenorten noch an die Zeit, als bei Hochwasser ganze Viertel unter Wasser standen. Höchste Erhebung ist mit 116,2 m ü. NN der Hasselbrack in einem Nordausläufer der Harburger Berge.\n",
      "Die Alster in der Innenstadt wurde schon seit dem Mittelalter zu einem See aufgestaut. Dieser teilt sich in die größere Außenalster und die kleinere, vom historischen Kern der Stadt umschlossene Binnenalster. Die Zuflüsse der Alster – wie die Alster selbst – sind im Stadtgebiet zum Teil kanalisiert. Sie sind zumeist von ausgedehnten öffentlichen Parkanlagen gesäumt. Die zahlreichen Fleete, Flüsschen und Kanäle der Stadt werden von fast 2500 Brücken überspannt.  Weithin unbekannt ist, dass sich auf der größten Flussinsel der Elbe, in Wilhelmsburg, einer der letzten Tideauenwälder Europas befindet.\n",
      "Hamburg grenzt im Norden an Schleswig-Holstein und im Süden an Niedersachsen. Bis auf einige kleinere „Gebietsbereinigungen“, wie den Erwerb der Insel Neuwerk und von Flurstücken beim Stauwerk Geesthacht, bestehen die heutigen Grenzen der Stadt Hamburg seit dem Groß-Hamburg-Gesetz, das am 1. April 1937 in Kraft trat. Die Stadt ist nach Berlin sowohl hinsichtlich ihrer Einwohnerzahl als auch ihrer Fläche die zweitgrößte Stadt Deutschlands.\n",
      "Südlich der Binnenalster liegt das historische Zentrum der Stadt. Der geographische Mittelpunkt von Hamburg in seinen gegenwärtigen politischen Grenzen soll ein Ort am Kuhmühlenteich im Stadtteil Uhlenhorst sein. Der nördlichste Punkt Hamburgs ist die Insel Scharhörn, der östlichste Altengamme, der südlichste der Krauel und der westlichste die Insel Nigehörn. Die größte Ausdehnung von der Stadt in Ost-West-Richtung beträgt 39,88 km und in Nord-Süd-Richtung 42,31 km.\n",
      "Fließgewässer in Hamburg\n",
      "Elbe (Unterelbe) mit Norderelbe, Süderelbe, Köhlbrand, Reiherstieg, Rethe, Dove Elbe und Gose Elbe\n",
      "Nebenflüsse der Elbe: Seevekanal, Bille, Alster, Flottbek und Este\n",
      "Nebenflüsse der Alster: Eilbek (Wandse), Osterbek, Goldbek, Isebek, Tarpenbek, Saselbek, Rodenbek, Bredenbek, Ammersbek\n",
      "\n",
      "\n",
      "=== Verwaltungsgliederung ===\n",
      "\n",
      "Die Verfassung der Freien und Hansestadt Hamburg legt fest, dass Bezirksämter zu bilden sind. Die Stadt ist verwaltungstechnisch in sieben Bezirke aufgeteilt. Jeder Bezirk gliedert sich in mehrere Stadtteile, von denen es in ganz Hamburg insgesamt 104 gibt; viele Stadtteile sind nochmals in Ortsteile gegliedert, deren Zahl seit 1. Januar 2011 auf 181 festgesetzt wurde. Einige Stadtteile im Kernbereich des Bezirks wurden bis 2008 direkt vom betreffenden Bezirksamt verwaltet, für die anderen Stadtteile des Bezirks gab es jeweils ein eigenes Ortsamt. Insgesamt waren 13 Ortsämter eingerichtet. Anfang 2008 wurden durch eine Gebietsreform die Grenzen einzelner Stadtteile und Bezirke neu gezogen. So fiel der Stadtteil Wilhelmsburg vom Bezirk Harburg an Mitte, und die Stadtteile Sternschanze im Bezirk Altona und HafenCity im Bezirk Hamburg-Mitte wurden neu geschaffen.\n",
      "\n",
      "\n",
      "=== Exklaven ===\n",
      "\n",
      "Zu Hamburg gehören die Nordseeinseln Neuwerk, Scharhörn und Nigehörn sowie der Nationalpark Hamburgisches Wattenmeer, der 2011 zum Gebiet des Weltnaturerbes des Wattenmeeres der Nordsee hinzukam. Als Stadtteil Hamburg-Neuwerk unterstehen sie administrativ dem Bezirk Hamburg-Mitte, der deshalb nördlichster und westlichster Bezirk Hamburgs ist.\n",
      "\n",
      "\n",
      "=== Nachbarstädte und Gemeinden ===\n",
      "Folgende Städte und Gemeinden grenzen an die Stadt Hamburg; sie werden im Uhrzeigersinn beginnend im Nordwesten genannt:\n",
      "in Schleswig-Holstein:\n",
      "im Kreis Pinneberg (PI): Wedel, Appen, Pinneberg, Schenefeld, Halstenbek, Rellingen, Ellerbek (Amt Pinnau) und Bönningstedt\n",
      "im Kreis Segeberg (SE): Norderstedt\n",
      "im Kreis Stormarn (OD): Tangstedt, Jersbek (Amt Bargteheide-Land), Ammersbek, Ahrensburg, Stapelfeld (Amt Siek), Barsbüttel, Oststeinbek, Glinde und Reinbek\n",
      "im Kreis Herzogtum Lauenburg (RZ): Wentorf bei Hamburg, Börnsen und Escheburg (beide Amt Hohe Elbgeest) und Geesthacht\n",
      "\n",
      "in Niedersachsen:\n",
      "im Landkreis Harburg (WL): Drage (Samtgemeinde Elbmarsch), Winsen (Luhe), Stelle, Seevetal, Rosengarten und Neu Wulmstorf\n",
      "im Landkreis Stade (STD): Jork\n",
      "im Landkreis Cuxhaven (CUX): Cuxhaven (Festland bei Neuwerk)\n",
      "\n",
      "\n",
      "=== Klima ===\n",
      "Hamburg liegt in der warmgemäßigten Klimazone und ist durch ein Seeklima geprägt. Aufgrund der durch vorherrschende Westwinde maritimen Einflüsse ist das Klima im Winter milder, im Sommer kühler als im östlichen Hinterland.\n",
      "Der wärmste Monat ist der Juli mit durchschnittlich 17,4 °C, der kälteste der Januar mit 1,3 °C. Temperaturen um die 28 °C sind im Hochsommer keine Seltenheit. An der Wetterstation Hamburg-Fuhlsbüttel wurde ein Maximalwert von 37,3 °C (9. August 1992) gemessen. Das Klima ist ganzjährig feucht. Im Laufe eines Jahres fallen durchschnittlich 773 mm Niederschlag, an durchschnittlich 52 Tagen im Jahr herrscht Nebel. Im Winterhalbjahr kann es sehr stürmisch werden. Sprichwörtlich ist das Hamburger Schmuddelwetter.\n",
      "\n",
      "\n",
      "== Geschichte ==\n",
      "\n",
      "Die ältesten festen Behausungen datieren auf das 4. Jahrhundert v. Chr. für die Ortschaft, die von dem antiken Wissenschaftler Claudius Ptolemäus noch als Treva bezeichnet wurde. Vom 4. bis ins 6. Jahrhundert siedelten sich Sachsen im nordelbischen Raum an.\n",
      "Im 8. Jahrhundert entstand die Hammaburg, in der Karl der Große im Jahr 810 eine Taufkirche errichten ließ, um den heidnischen Norden zu missionieren. 831 begründete Ludwig der Fromme hier ein Bistum, das kurze Zeit später zum Erzbistum wurde. Doch schon kurz nach der Reichsteilung von Verdun 843 überfielen Wikinger die Region, später die slawischen Abodriten, der Erzbischof verlegte seinen Amtssitz nach Bremen.\n",
      "Graf Adolf III. von Schauenburg und Holstein war im 12. Jahrhundert der Gründer einer Handels- und Marktsiedlung am westlichen Alsterufer. Maßgeblich durch das von Kaiser Friedrich I. Barbarossa 1189 verliehene Hafenrecht an diese Siedlung und die Handelsprivilegien für die ganze Unterelbe entwickelte sich die Stadt im Mittelalter zu einem florierenden Handelszentrum und galt mit ihren zeitweilig 600 Brauereien als „Brauhaus der Hanse“. Im 14. Jahrhundert entwickelte sich Hamburg als eines der ersten Mitglieder des Kaufmannsbundes Hanse zum wichtigsten deutschen Umschlag- und Stapelplatz zwischen Nord- und Ostsee. Ab 1510 galt Hamburg endgültig als Reichsstadt. 1558 wurde die Hamburger Börse als eine der ersten Deutschlands eröffnet, im Jahre 1678 unter dem Namen Opern-Theatrum die erste deutsche Oper am Gänsemarkt. Zur Reformationszeit wurde der Stadtstaat ohne Blutvergießen evangelisch. Die Stadt Hamburg erlebte ihre kulturelle Blüte vor allem im 17. und 18. Jahrhundert unter anderem mit der Gründung des Hamburgischen Nationaltheaters (1767).\n",
      "\n",
      "Auch nach dem Niedergang der Hanse und während der Aufklärung und der Industrialisierung blieb die Stadt neben Berlin das bedeutendste Wirtschaftszentrum Norddeutschlands. Hamburg blieb von den Auswirkungen des Dreißigjährigen Krieges verschont und konnte diesen zum Vorteil nutzen, um seine Vormachtstellung im Handel auszubauen. In ihrer wechselvollen Geschichte unterstand die Stadt der dänischen Königskrone (aber nie von Hamburg formal anerkannt), war Teil des Heiligen Römischen Reiches deutscher Nation und Hauptstadt des Départements Elbmündung (Département des Bouches de l’Elbe) im französischen Kaiserreich (Hamburger Franzosenzeit). 1813–1814 wurde Hamburg vom russischen General Bennigsen belagert. Als Freie Stadt trat es 1815 nach dem Wiener Kongress dem Deutschen Bund bei. 1867 wurde es Mitglied des von Otto von Bismarck initiierten Norddeutschen Bundes und blieb 1871 Gliedstaat des nun in Deutsches Reich umbenannten Bundesstaates.\n",
      "\n",
      "Besondere Ereignisse der Neuzeit waren der große Hamburger Brand 1842, die Choleraepidemie 1892, der erhebliche Flächen- und Bevölkerungszuwachs 1937/38 durch das Groß-Hamburg-Gesetz, die Bombardierungen im Zweiten Weltkrieg 1943, die Zerstörung der jüdischen Gemeinde (→ Geschichte der Juden in Hamburg), die Errichtung des Konzentrationslagers Neuengamme und seiner zahlreichen Nebenlager im Stadtgebiet, die kampflose Übergabe an die englischen Truppen am 3. Mai 1945, die Sturmflut 1962, die Anbindung an das internationale Straßennetz und den Flugverkehr (Finkenwerder und Fuhlsbüttel), die Veränderung im Hafen und die Auseinandersetzungen um die Hafenstraße in den 1980er-Jahren.\n",
      "Hamburgs Politik war immer auf größtmögliche Freiheit ihres Handels und politische Unabhängigkeit ausgerichtet. Auch heute noch ist Hamburg als Stadtstaat weitgehend selbständig und bietet dem Handel mit dem größten deutschen Seehafen gute Voraussetzungen.\n",
      "\n",
      "\n",
      "== Bevölkerung ==\n",
      "\n",
      "\n",
      "=== Bevölkerungsentwicklung ===\n",
      "\n",
      "Den bislang höchsten Einwohnerstand mit 1,86 Millionen erreichte Hamburg im Jahre 1964. Stadtflucht und Suburbanisierung führten anschließend zu einem Bevölkerungsrückgang bis 1986 auf rund 1,6 Millionen Einwohner. Seitdem ist die Bevölkerungszahl auf 1,86 Millionen (Dezember 2016) angestiegen. Für die kommenden Jahre (bis 2030) wird für Hamburg ein weiterer Bevölkerungsanstieg vorausgesagt, in der mittleren Projektion auf etwa 1,9 Millionen Einwohner. Neuerdings (2013) wird auch ein Wachstum auf über zwei Millionen Einwohner diskutiert.\n",
      "2010 und 2011 wurden in Hamburg erstmals seit Jahrzehnten wieder Geburtenüberschüsse verzeichnet. 2010 brachten Frauen in Hamburg 17.377 Kinder zur Welt, 2011 waren es 17.125. Dem standen 2010 17.060 und 2011 ebenfalls 17.060 Sterbefälle gegenüber. Daraus ergab sich 2011 ein positiver Saldo von 65 Einwohnern. Außerdem sorgten 93.466 Zuzüge bei nur 81.231 Fortzügen zu einer Bevölkerungszunahme von 12.235 Einwohnern gegenüber 2010.\n",
      "\n",
      "\n",
      "=== Bevölkerungsstruktur ===\n",
      "\n",
      "\n",
      "==== Herkunft ====\n",
      "Ende 2013 hatten 550.000 Einwohner einen Migrationshintergrund (melderechtlich registrierte Personen mit deutscher Staatsangehörigkeit und zugleich ausländischer Herkunft), dies sind ca. 31 Prozent aller Einwohner Hamburgs. Die Zahl an Ausländern (melderechtlich registrierte Personen ohne deutsche Staatsangehörigkeit) bezifferte sich Ende 2012 auf 238.000 Einwohner. Ende 2012 wurden 197.000 Personen eingebürgert und 78.000 waren Aussiedler. Der Ausländeranteil betrug Ende 2013 13,2 Prozent. Vertreten waren 183 Staatsangehörigkeiten.\n",
      "Von den Einwohnern ohne deutsche Staatsangehörigkeit kamen Ende 2012 51.799 Personen aus der Türkei, 20.635 aus Polen, 11.732 aus Afghanistan und 11.081 aus dem ehemaligen Serbien und Montenegro.\n",
      "Aus Mitgliedsländern der Europäischen Union kamen mehr als ein Viertel aller in Hamburg gemeldeten Ausländer.\n",
      "\n",
      "\n",
      "==== Beschäftigung ====\n",
      "2014 waren in Hamburg insgesamt 1.193.400 Menschen erwerbstätig. 339.600 davon waren bei öffentlichen und privaten Dienstleistern, 393.100 im Handel, Verkehr, Gastgewerbe, sowie im Informations- und Kommunikationsbereich, 304.300 im Unternehmensdienstleistungsbereich (Finanzwesen, Unternehmensdienstleistungen, Grundstücks- und Wohnungswesen), 115.900 im produzierenden Gewerbe, 38.200 im Baugewerbe sowie 2.400 in der Land-, Forst- und Fischereiwirtschaft beschäftigt.\n",
      "\n",
      "\n",
      "==== Einkommen ====\n",
      "\n",
      "2007 betrug das durchschnittliche steuerpflichtige Einkommen 35.887 Euro brutto jährlich. Weibliche Arbeitnehmer verdienten in Hamburg 2010 durchschnittlich rund 20 Prozent weniger als ihre männlichen Kollegen. An den Flüssen und an der waldreichen Peripherie des Nordostens haben sich drei größere Gebiete etabliert, in denen die Einwohner durchschnittlich über ein besonders hohes Einkommen verfügen: in den Elbvororten im Westen, in den im Nordosten gelegenen Stadtteilen samt den Walddörfern und rund um die Außenalster bzw. nördlich von ihr im Bereich der nördlichen Stadtmitte. Hinzu kommt der im Osten liegende Stadtteil Marienthal. Die höchsten durchschnittlichen Einkünfte haben die Einwohner der Elbvororte. Nienstedten liegt mit durchschnittlich 170.408 Euro (2007) weit vorn, gefolgt von Blankenese mit 110.108 Euro. In den Walddörfern erreichen die Einwohner in Wohldorf-Ohlstedt mit durchschnittlich 105.305 Euro (2007) die höchsten Einkommen. In den Stadtteilen rund um die Außenalster verfügen die Harvestehuder über 88.746 Euro (2007). Hamburg ist die Stadt mit den meisten Millionären Deutschlands.\n",
      "Der Gürtel der einkommensschwachen Gegenden zieht sich von Billstedt im Osten bis an die östliche Innenstadt; die Elbinsel Wilhelmsburg mit der Veddel und das südlich der Elbe gelegene Harburg; die westlichen Stadtteile Altona-Altstadt, Altona-Nord und St. Pauli. Darüber hinaus sind die östlichen Stadtteile Dulsberg, Barmbek-Nord und Steilshoop und der westliche Stadtteil Lurup betroffen. Das geringste durchschnittliche Einkommen haben die Einwohner der auf der Elbinsel gelegenen Stadtteile Veddel, Kleiner Grasbrook und Steinwerder mit 11.756 bis 15.491 Euro (2007). Danach folgt der Stadtteil Rothenburgsort mit 18.850 Euro. All diesen Stadtteilen ist die Nähe zum Hamburger Hafen und zu den Industrie- und Gewerbegebieten gemein. Der einkommensschwächste Stadtteil im zentralen Stadtgebiet ist Dulsberg mit einem durchschnittlichen Jahreseinkommen von 18.927 Euro. Der Stadtteil weist eine ältere, sehr dichte Bebauung auf.\n",
      "\n",
      "\n",
      "==== Leistungsempfänger ====\n",
      "Die Quote der Leistungsempfänger nach dem Zweiten Buch Sozialgesetzbuch (kurz SGB II), die Arbeitslosengeld II beziehen, lag hamburgweit im März 2013 bei durchschnittlich 10,3 Prozent und damit unter dem Durchschnitt des Stadtstaates Berlin und des Landes Bremen von 14,5 Prozent. In den einkommensstarken Gebieten, in den nördlichen Stadtteilen, südlichen Randgebieten und im größten Teil des Bezirks Bergedorf sind vergleichsweise wenige Leistungsempfänger registriert. Die Quote liegt dabei teilweise bei unter einem Prozent. In den einkommensschwachen dichtbesiedelten Altbau-Stadtteilen Altona und St. Pauli sowie in Stadtteilen mit Hochhaussiedlungen wie Steilshoop, Lurup und Hausbruch liegt der Anteil der Hilfeempfänger höher. Bei über 22 Prozent Hilfeempfänger liegen die Stadtteile, die sich im Osten von Jenfeld bis in den Süden nach Wilhelmsburg ziehen und durch Industrie und/oder Hochhaussiedlungen wie Mümmelmannsberg oder Kirchdorf Süd geprägt sind.\n",
      "\n",
      "\n",
      "=== Religionen und Weltanschauungen ===\n",
      "\n",
      "\n",
      "==== Statistik ====\n",
      "Ende Dezember 2015 gehörten 27 Prozent der Bevölkerung der evangelischen Kirche an, 10,7 Prozent waren Mitglieder der römisch-katholische Kirche. Die Zahl der Evangelischen ist in den letzten Jahren kontinuierlich gesunken, während die Mitgliederzahl der Katholischen Kirche etwas zugenommen hat.\n",
      "Hamburg ist seit der Reformation eine evangelisch-lutherisch geprägte Stadt. Der Rat der Stadt Hamburg unterzeichnete die lutherische Konkordienformel von 1577.\n",
      "Durch seine Stellung als wichtige Hafenstadt war es aber schon lange offen für andere Konfessionen. So entstand hier zum Beispiel 1834 die erste deutsche Baptistengemeinde. In Altona wurde bereits 1601 die heute noch bestehende Hamburger Mennonitengemeinde gegründet. Auch für die Apostolischen Gemeinschaften ist die Hansestadt ein wichtiger Ort. Von hier aus erfolgte die Trennung der Allgemeinen Christlichen Apostolischen Mission von den katholisch-apostolischen Gemeinden und die Entwicklung zur Neuapostolischen Kirche. Heute gibt es 16 Neuapostolische Kirchen in Hamburg, ebenso ist in Hamburg der Sitz der Neuapostolischen Kirche Norddeutschland. Hamburg ist außerdem seit 1995 Sitz des römisch-katholischen Erzbistums Hamburg mit seinem Zentrum im Neuen Mariendom. Ende 2004 lag der Anteil der römisch-katholischen Bürger bei 10,1 %. Hamburg ist auch der Geburtsort der Jesus Freaks und der Flussschifferkirche, einem Kirchenschiff im Binnenhafen. Seit 1910 gibt es auch in Hamburg Jehovas Zeugen.\n",
      "Die jüdische Gemeinde hat in Hamburg eine lange Tradition, die seit Ende des 16. bzw. Anfang des 17. Jahrhunderts mit der Besiedelung europäischer Juden begann und über die Jahrhunderte diverse Synagogen im Hamburger Raum entstehen ließen. Während der Novemberpogrome 1938 wurden die meisten Synagogen zerstört. Der 1611 gegründete Jüdischen Friedhof in Altona, auf dem sowohl von der iberischen Halbinsel eingewanderte Juden (Sepharden) als auch mittel- und osteuropäischen Juden (Aschkenasim) bestattet wurden, ist heute noch Zeugnis dieser über Jahrhunderte währenden Geschichte. Auf Grund seines Alters und der Anzahl an wertvollen Grabsteinen zählt der Friedhof zu den bedeutendsten jüdischen Grabstätten der Welt. Die Jüdische Gemeinde Hamburg ist heute mit ca. 3500 Mitgliedern eine der größten jüdischen Gemeinden Deutschlands. Das Zentrum jüdischen Lebens der Stadt befindet sich rund um die Talmud Tora Schule am Grindel, im Bezirk Eimsbüttel.\n",
      "Seit den 1960er-Jahren gibt es einen bedeutenden Anteil an muslimischer Bevölkerung. Am 22. Juni 1957 wurde in Stellingen mit der Fazle-Omar-Moschee die erste Moschee Deutschlands nach dem Zweiten Weltkrieg von der Ahmadiyya Muslim Jamaat eröffnet. Auch asiatische Religionen sind in Hamburg in zunehmendem Maße vertreten. Die Anhängerschaft des Buddhismus besteht sowohl aus asiatischen Einwanderern als auch aus deutschstämmigen Konvertiten. Insbesondere die buddhistischen Richtungen Zen und tibetischer Buddhismus genießen eine gewisse Popularität.\n",
      "\n",
      "\n",
      "=== Sprache und Mundarten ===\n",
      "Bis weit ins 19. Jahrhundert war Niederdeutsch die allgemeine Umgangssprache in der Stadt. Dann wurde es vom Hochdeutschen, das schon seit dem 16. Jahrhundert zunehmend als Schriftsprache Verwendung fand, immer stärker zurückgedrängt und verschwand um die Mitte des 20. Jahrhunderts schließlich weitgehend aus dem öffentlichen Gebrauch. Gegen diesen Trend veröffentlichte die Pressestelle der Bürgerschaft 1980 eine plattdeutsche Fassung der Hamburgischen Verfassung. Der niederdeutsche Einfluss bleibt jedoch auch im Hochdeutschen allgegenwärtig und manifestiert sich besonders im „Missingsch“.\n",
      "Das Hamburger Platt wird aber noch von vielen Hamburgern verstanden und gesprochen sowie in Literatur, Zeitungskolumnen usw. gepflegt. Dokumentiert wird es im Hamburgischen Wörterbuch sowie in einigen dialektologischen Dissertationen. Der bekannteste Ort der Mundartpflege in Hamburg ist das Ohnsorg-Theater, das Aufführungen in niederdeutscher Sprache anbietet.\n",
      "Infolge der starken Einwanderung seit den 1960er-Jahren sind in einigen Stadtteilen neben der deutschen Sprache auch andere Sprachen im öffentlichen Raum gegenwärtig Türkisch, Persisch, Paschto, Kurdisch und Albanisch in Altona, St. Georg, Harburg, Veddel und Wilhelmsburg), (Portugiesisch im Hafenviertel („Portugiesenviertel“) oder vor allem durch Teile der deutschstämmigen Aussiedler bzw. Spätaussiedler auch Russisch und Polnisch.\n",
      "Nach der Studie der Universität Hamburg aus dem Jahr 2015 gehören rund 25.000 Hamburger der dänischen Minderheit an.\n",
      "Rechtlichen Status nach der Europäischen Charta der Regional- oder Minderheitensprachen besitzen in Hamburg die Regionalsprache Niederdeutsch (gemäß Teil III der Charta) und die Minderheitensprache Romanes (gemäß Teil II der Charta).\n",
      "\n",
      "\n",
      "=== Persönlichkeiten ===\n",
      "Die lange Geschichte Hamburgs weist eine große Anzahl von wichtigen Personen aus allen Bereichen auf. Die Liste von Persönlichkeiten der Stadt Hamburg kann daher nur eine Auswahl ohne Bewertung bieten und steht stellvertretend für die zahllosen ungenannten Menschen, die die Stadt prägten und von ihr geprägt wurden.\n",
      "\n",
      "\n",
      "== Politik und Staat ==\n",
      "\n",
      "\n",
      "=== Staatsrecht ===\n",
      "Die Freie und Hansestadt Hamburg ist als Stadtstaat ein Land (Gliedstaat) der Bundesrepublik Deutschland und zugleich als Stadt eine Einheitsgemeinde. Hamburg verfügt über eine lange Tradition als bürgerliche Stadtrepublik und ist heute gemäß der Landesverfassung ein demokratischer und sozialer Rechtsstaat. Eine Trennung von gemeindlichen und staatlichen Aufgaben erfolgt nicht. Die Staatsgewalt geht vom Volk aus, das das Landesparlament, die Hamburgische Bürgerschaft, wählt, eigene Entscheidungen durch Volksgesetzgebung einbringt und in der Verwaltung, wie in den Deputationen, mitwirkt.\n",
      "Die Regierung des Landes ist der Senat, dessen Präsident der Erste Bürgermeister ist. Der Erste Bürgermeister wird seit Änderung der Verfassung 1996 direkt durch die Bürgerschaft gewählt, hat seitdem die Richtlinienkompetenz in der Politik und beruft seinen Stellvertreter (Zweiter Bürgermeister) und die übrigen Senatoren, die von der Bürgerschaft bestätigt werden müssen. Jeder Senator leitet als Präses eine der Senatsbehörden, vergleichbar einem von einem Minister geleiteten Ministerium in anderen Ländern.\n",
      "Zu Hamburgs Verfassungsorganen zählt neben Bürgerschaft und Senat zudem noch das Hamburgische Verfassungsgericht als Landesverfassungsgericht.\n",
      "Auf der Ebene der jeweiligen Bezirke in Hamburg wird mit den Bezirksversammlungen jeweils eine eigene Volksvertretung gewählt. Diese haben rechtlich allerdings die Stellung von Verwaltungsausschüssen, mit eingeschränkten Kompetenzen.\n",
      "Auf überregionaler Ebene hat Hamburg einen Sitz (drei Stimmen) im Bundesrat und ist mit sechs Direktmandaten der Wahlkreise Mitte, Altona, Eimsbüttel, Nord, Wandsbek und Bergedorf-Harburg sowie weiteren Abgeordneten über die Landesliste im Bundestag vertreten. Hamburg ist Mitglied im Deutschen Städtetag und entsendet einen Vertreter in den Ausschuss der Regionen.\n",
      "Eine Länderfusion – demgemäß ein Zusammenschluss Hamburgs mit anderen norddeutschen Ländern – wird seit Jahrzehnten unter dem Begriff Nordstaat gelegentlich ins Gespräch gebracht. Aus dieser Diskussion ist eine stärkere länderübergreifende Zusammenarbeit in verschiedenen Bereichen, wie in der Metropolregion Hamburg oder gemeinsamer Einrichtungen, wie dem Statistikamt Nord, hervorgegangen.\n",
      "\n",
      "\n",
      "=== Wahl zur Hamburgischen Bürgerschaft 2015 ===\n",
      "\n",
      "Die letzten Wahlen zur Hamburgischen Bürgerschaft fanden am 15. Februar 2015 statt. Bei diesen Wahlen verlor die SPD die absolute Mehrheit und erreichte 45,6 Prozent. Die CDU verlor – wie bei der Wahl 2011 – weiter an Zustimmung und errang nur noch 15,9 Prozent. Die Grünen erreichten 12,3 Prozent, die Linke 8,5 Prozent und die FDP 7,4 Prozent. Erstmals zog die AfD mit 6,1 Prozent in die Hamburgische Bürgerschaft ein und damit auch erstmals in ein Landesparlament Westdeutschlands. Somit sind seit der Wahl 2015 sechs Parteien in der Bürgerschaft vertreten.\n",
      "Das aufgrund eines Volksentscheides 2004 zu den Wahlen 2008 eingeführte personalisierte Verhältniswahlsystem wurde nach einem neuerlichen Volksbegehren nochmals verstärkt. Nach diesem Hamburger Wahlsystem hatte jeder Wähler zehn Stimmen: Fünf Wahlkreisstimmen für Kandidaten im Wahlkreis und fünf Landesstimmen für Kandidaten auf den Landeslisten oder für Landeslisten in ihrer Gesamtheit mit der Möglichkeit, die fünf Stimmen bei einer Person (oder Partei bei Landesliste) anzuhäufeln oder beliebig zu verteilen. Gleiches galt für die parallel stattfindenden Wahlen zu den Bezirksversammlungen, die zukünftig zeitgleich mit der Europawahl stattfinden sollen.\n",
      "\n",
      "\n",
      "=== Vertretungen und Konsulate ===\n",
      "\n",
      "Die wirtschaftliche Bedeutung Hamburgs für den Außenhandel der Bundesrepublik Deutschland („Hamburg, das Tor zur Welt“) sowie die Bedeutung als wichtiges Zentrum von Industrie, Handel und Logistik, als Sitz von ausländischen Unternehmen und mit einer Bevölkerung, in der mehr als 180 verschiedene Staatsangehörigkeiten vertreten sind, hat dazu geführt, dass Hamburg mit 100 Konsulaten (April 2010) nach New York und Hongkong der drittgrößte Konsularstandort weltweit ist. Über den Hafen bestanden bereits seit der Hansezeit Handelsbeziehungen zu anderen Städten und Ländern. Die ersten Vertretungen wurden von europäischen Staaten eröffnet, bevor im 18. und 19. Jahrhundert auch Staaten aus Nord- und Südamerika hinzukamen. Österreich (seit 1570) und Frankreich (1579) betreiben derzeit die am längsten ansässigen Konsulate. Besonders bekannt ist das Amerikanische Generalkonsulat am Alsterufer 27/28, das ursprünglich von Martin Haller als Doppelvilla erbaut wurde. Es wird oft als das „Weiße Haus an der Alster“ bezeichnet.\n",
      "Auswärtige Vertretungen Hamburgs\n",
      "Hamburg seinerseits hatte ebenfalls bereits früh auswärtige Vertretungen. Dies reichte von den gemeinschaftlichen Handelskontoren der Kaufleute der Hansezeit über gemeinsame konsularische Vertretungen mit den verbliebenen Hansestädten Lübeck und Bremen. Heute besteht die Vertretung der Freien und Hansestadt Hamburg beim Bund als Landesvertretung in Berlin. Als gemeinsame Vertretung von Hamburg und Schleswig-Holstein besteht das Hanse-Office bei der Europäischen Union in Brüssel und in St. Petersburg. Gemeinsam mit der Handelskammer Hamburg und anderen Partnern unterhält der Senat zudem die Hamburg-Vertretungen Hamburg Liaison Office in Shanghai und Hamburg Representative Office in Dubai. Zudem besteht im Ausland ein Netzwerk von ehrenamtlichen Botschaftern, den Hamburg Ambassadors, die vom Ersten Bürgermeister ernannt werden und für die Stadt werben sollen.\n",
      "\n",
      "\n",
      "=== Städtepartnerschaften ===\n",
      "Hamburg unterhält Partnerschaften mit neun Städten, vor allem mit anderen Hafenstädten.\n",
      "Der erste – mündliche – Partnerschaftsvertrag wurde 1957 mit Leningrad, dem heutigen Sankt Petersburg, Russland, geschlossen. Der Hamburger Senat war gegen den Willen des Auswärtigen Amtes einer Einladung in die Sowjetunion gefolgt. Die Partnerschaft ist die älteste zwischen einer deutschen und einer damals sowjetischen Stadt. Seit 1981 gibt es „Hamburg-Tage“ in Leningrad. Die Partnerschaft umfasst seit 1990 auch finanzielle Unterstützung in sozialen Angelegenheiten. Im Krisenwinter von 1990/1991 halfen Hamburger Bürger mit 400.000 Hilfspaketen gegen den Hunger in Sankt Petersburg. Es gibt einen Austausch von Schülern, Sportlern, Wissenschaftlern und Künstlern.\n",
      "Im Rahmen der deutsch-französischen Aussöhnung wurde 1958 die Partnerschaft mit Marseille besiegelt. Sie ist geprägt durch starken Austausch auf wirtschaftlicher Ebene, Schüler- und Jugendaustausch. Hamburg hat ähnliche Problemstellungen wie die Partnerstadt Marseille. Dies betrifft den Hafen, Hafenausbau, die Entwicklung von alten Hafenflächen, die Architekturen der HafenCity in Hamburg und der Euroméditerrané in Marseille sowie die Integration von Zuwanderern.\n",
      "Die 1986 begonnene Partnerschaft mit Shanghai, Volksrepublik China, wurde 1989 nach den Massaker auf dem Platz am Tor des Himmlischen Friedens eingefroren, der Austausch in kulturellen und wirtschaftlichen Bereichen besteht jedoch weiter. Jeden Sommer findet in Hamburg die Veranstaltungsreihe „China Time“ statt. Die Städtepartnerschaft beinhaltet insbesondere auch die Partnerschaft zu Shanghais seit 2003 im Bau befindlichen Hafenstadt Lingang New City.\n",
      "Am 14. Dezember 1987 wurde die Partnerschaft mit der Elbstadt Dresden, damals Deutsche Demokratische Republik, in Dresden und am 16. Dezember 1987 in Hamburg unterzeichnet. Sie war durch Gespräche zwischen Dohnanyi und Erich Honecker bei der 750-Jahr-Feier in Ost-Berlin vereinbart worden. Nach der Wiedervereinigung wurde 1990 ein „Beauftragter der Freien und Hansestadt Hamburg in Dresden und Sachsen“ ernannt. Ab 1991 half Hamburg bei der Strukturierung der Dresdener Verwaltung. Im Jahr 2002 half Hamburg der Stadt Dresden bei der Bewältigung der Folgen der Elbflut. Schwerpunkt ist der regelmäßige Austausch in der Kunstszene und die Reinhaltung der Elbe. Hamburg und Dresden führen beide seit den frühen Nachkriegsjahren eine Partnerschaft mit Sankt Petersburg.\n",
      "Die Partnerschaft mit Osaka, Japan, wurde 1989 geschlossen, nachdem der Senat seine bisherige außenpolitische Haltung aufgegeben und eine Orientierung in sogenannten Schwerpunktregionen beschlossen hatte. Höhepunkt der Partnerschaft war die Eröffnung des japanischen Gartens in Planten un Blomen. Zu León in Nicaragua besteht seit 1990 eine Partnerschaft, die hauptsächlich von Hamburger Entwicklungshilfe geprägt ist.\n",
      "Am 19. April 1990 wurde in Hamburg im Rahmen der Ost-West-Annäherung eine Partnerschaft mit der damaligen tschechoslowakischen, heute tschechischen Hauptstadt Prag zwischen dem Ersten Bürgermeister von Hamburg Henning Voscherau und Prags Primátor Jaroslav Korán geschlossen. Moldau und Elbe verbinden Prag und Hamburg. Im Dezember 2012 half Hamburg bei der Bewältigung der Folgen des Moldau-Hochwassers. Die Städtepartnerschaft konzentriert sich auf Verwaltung, Infrastruktur, kulturellen Austausch, Schüleraustausch und Wirtschaftsforen.\n",
      "Auf Initiative Chicagos besteht seit 1994 eine weitere Städtepartnerschaft. Gründe waren die große Zahl von in Chicago lebenden Nachfahren deutscher Auswanderer des neunzehnten Jahrhunderts und ein großes Interesse Hamburger Schulen an einer deutsch-amerikanischen Partnerschaft. Im Juni 2010 wurde die Städtepartnerschaft mit Daressalam in Tansania durch die Hamburger Bürgerschaft bestätigt und am 1. Juli durch den Hamburger Bürgermeister und den Bürgermeister Daressalams besiegelt.\n",
      "Weitere Verträge oder Partnerschaften\n",
      "Der Hamburger Hafen nimmt in Bezug auf Partnerschaften eine Sonderstellung ein. Mit einigen der Häfen zu denen Hamburgs Hafen in Verbindung steht, wurden Hafenpartnerschaften zum regelmäßigen fachlichen Wissensaustausch begründet. Seit 1992 besteht die erste Partnerschaft mit dem Hafen von Yokohama (Japan). Es folgten Hafenpartnerschaften mit Kaohsiung (auf Taiwan), dem Hafen von Shanghai (China; 2004), Montevideo (Uruguay), Dar es Salaam (Tansania), Shenzhen (China), Busan (Südkorea; 2010), Halifax (Kanada, 2014) und als jüngste Hafenpartnerschaften 2015 die Häfen von Göteborg (Schweden) und Bronka/St. Petersburg (Russland).\n",
      "Zudem existieren unabhängige Bezirkspatenschaften. So unterhält der Bezirk Hamburg-Mitte offizielle Beziehungen zu Shanghais innerem Stadtbezirk Hongkou (seit 2007), der Bezirk Eimsbüttel zur Stadt Warna (Bulgarien; seit 2003) sowie der Bezirk Wandsbek mit Londons Bezirk Waltham Forest (früher Leyton; seit 1949). Bereits aus dem Jahr 1281 stammt ein Beistands- und Partnerschaftsabkommen mit Wöhrden im heutigen Kreis Dithmarschen in Schleswig-Holstein. Dieses wurde vom Hamburger Senat im Juli 2007 offiziell erneuert, zählt aber nicht zu den Städtepartnerschaften im modernen Sinne.\n",
      "\n",
      "\n",
      "=== Hoheitszeichen ===\n",
      "Hamburg hat drei Wappen, drei Flaggen, ein Wappenzeichen, ein Logo und einen Stander. Die Landesflagge und das Wappenzeichen dürfen von den Bürgern frei verwendet werden, die Verwendung der weiteren Hoheitszeichen ist dem Staat vorbehalten. In der Landesverfassung sind die Gestalt von Wappen und Flagge sowie die Landesfarben weiß-rot geregelt. Letztere entsprechen den traditionellen Farben der Hanse.\n",
      "Wappen, Logo, Wappenzeichen\n",
      "Das kleine Staatswappen zeigt eine weiße (bzw. silberne) Burg in rotem Schild und geht auf die Stadtsiegel des 12. und 13. Jahrhunderts zurück. Der mittlere Turm, auf dem ein Kreuz steht, wird als Hinweis auf den Sitz eines Bischofs und als Darstellung des mittelalterlichen Mariendoms gedeutet, welcher der Schutzpatronin der Stadt geweiht war und von der auch die „Mariensterne“ über den Seitentürmen ihren Namen haben sollen. Die Gestaltung der Burg variierte im Laufe der Zeit erheblich. Das Tor war mal geöffnet, mit Fallgitter versehen oder als Ausdruck einer wehrhaften Stadt und der Unabhängigkeit gegenüber anderen Landesherren geschlossen. Seit 1835 besteht das Wappen mit geringen Änderungen in seiner heutigen Form. Das von Senat und Bürgerschaft verwendete große Staatswappen mit Helm, Helmzier und Löwen als Schildhalter entstand im 16. Jahrhundert. Ursprünglich wurde die Burg, entsprechend der Backstein-Bauweise in Hamburg, rot und der Fond weiß dargestellt. Dies wurde beim 1998 vom Designer Peter Schmidt entworfenen Hamburg-Logo wieder aufgenommen. Die Welle symbolisiert darin die Dynamik und Bedeutsamkeit des Hafens, während das offene Tor der roten Burg auf Hamburgs Weltoffenheit hindeutet. Mit dem eigens entwickelten Hamburg-Symbol erfüllte der Senat den Wunsch der Bürger nach einem von jedem verwendbaren Wappenzeichen, als Ausdruck der Zugehörigkeit oder Verbundenheit zu Hamburg.\n",
      "Flaggen und Admiralität\n",
      "Die Landesflagge zeigt die Wappen-Burg auf rotem Grund. Mit dem ältesten derartigen Gesetz überhaupt regelte Hamburg die Flaggenführung auf Schiffen seit 1270. Zunächst ist es eine rote Flagge auf die später das Wappen gesetzt wird. Aufgrund zunehmender Uneinheitlichkeit von Farben und Burg wird die genaue Gestaltung vom Senat 1751 und nochmals 1834 mit durchgreifenderem Erfolg festgelegt. Die Gestaltung der Burg folgt seit 1860 der Wappen-Darstellung. Die Staatsflagge ist dem Senat vorbehalten. Sie zeigt das große Wappen mit weißer Umrahmung auf rotem Grund und wurde 1897 geschaffen. Eine schwarz-rot-golden unterlegte Staatsflagge bildet den Stander, der vom Ersten Bürgermeister und dem Bürgerschaftspräsidenten bei Staatsbesuchen am Fahrzeug geführt wird.\n",
      "Ein Wappen der Admiralität, die Wappen-Burg mit darunter gelegtem Anker, besteht seit 1642 und wird von staatlichen Wasserfahrzeugen geführt. Ebenso tragen diese die Admiralitätsflagge, die das Wappen auf rotem Grund zeigt, als Bugflagge (Gösch). Sie wird sonst ausschließlich von Behörden verwendet, die der Seeschifffahrt dienen.\n",
      "\n",
      "\n",
      "=== Hymne, Stadtname, Stadtpatrone, Wahlsprüche ===\n",
      "Die bei offiziellen Anlässen verwendete, aber nicht rechtlich festgeschriebene Landeshymne Hamburgs ist Stadt Hamburg an der Elbe Auen. Das 1828 entstandene Lied wird auch Hammonia genannt, eine neulateinische Form des Stadtnamens (eigentlich Hamburgum). 1370 wird in einem Schreiben der Stadtname erstmals fälschlich als Burg bzw. Stadt des Hammon (= römischer Gott Jupiter) bezeichnet. Tatsächlich leitet sich der Name Hamburg – ausgehend von der Hammaburg im 9. Jahrhundert – vom altsächsischen Wort hamme/ham, für ein in die Marsch vorspringendes erhöhtes (auch bewaldetes) Gelände am Ufer von Fluss oder Sumpf ab. Die Bezeichnung Hammonia, als Name der Schutzgöttin der Stadt, geht auf eine 1710 erschaffene Kantate von Barthold Heinrich Brockes zurück und wird nachfolgend auch häufig als bildliche Allegorie, in Form einer Frauengestalt dargestellt, die die Stadt repräsentiert. Stadtpatronin der Zeit vor der Reformation ist hingegen Maria, der auch der ehemalige Hamburger Mariendom geweiht war.\n",
      "Der lateinische Inschrift über dem Portal des Rathauses: „Libertatem quam peperere maiores digne studeat servare posteritas“ (sinngemäß: „Die Freiheit, die die Alten erwarben, möge die Nachwelt würdig zu erhalten sich bemühen“) wird auch als Wahlspruch der Stadt angesehen, ist als solcher jedoch nicht verankert. Er war bereits an zwei früheren Stadttoren und im mittelalterlichen alten Rathaus zu lesen und weist auf das Selbstbewusstsein eines Stadtstaates hin, der als reichsunmittelbare Freie Reichsstadt jedwede Fürstenherrschaft abgestreift hat. Am Sitz von Parlament und Landesregierung wird er heute auch im Hinblick auf die errungene freiheitlich Demokratie und die republikanische Tradition der Stadt gedeutet. Seit Beginn des 19. Jahrhunderts trägt die Stadt auch offiziell den Beinamen Freie Stadt, als ehemals völlig souveräner Staat und heutiges Bundesland. In gleicher Zeit wurde der bereits zuvor verwendete Zusatz Hansestadt, wie auch in den beiden anderen gemeinsamen Erben der Hanse, der Schwesterstädte Bremen und Lübeck, Teil des Staatstitels.\n",
      " Der Ausspruch „Hamburg – Das Tor zur Welt“ oder „Deutschlands Tor zur Welt“ besitzt seit langem eine hohe Bekanntheit, im Gegensatz zu anderen kurzfristigen Beinamen oder Sprüchen der Stadtwerbung. Er tauchte erstmals nach dem Beitritt Hamburgs zum deutschen Zollgebiet (1888) auf, einer Zeit, in der sich Hamburg zu einem der führenden Welthäfen entwickelte. In der Präambel der 1952 verabschiedeten Landesverfassung bezeichnet Hamburg sich selbst als „Welthafenstadt“, die „eine ihr durch Geschichte und Lage zugewiesene, besondere Aufgabe gegenüber dem deutschen Volke zu erfüllen [hat]. Sie will im Geiste des Friedens eine Mittlerin zwischen allen Erdteilen und Völkern der Welt sein.“\n",
      "\n",
      "\n",
      "=== Auszeichnungen ===\n",
      "Zurückgehend auf das Hamburger Stadtrecht des 13. Jahrhunderts dürfen Hanseaten keine Auszeichnungen „fremder Herren“ annehmen. An diese Tradition hält man sich in der Regel bis heute und sie ist insbesondere bei Bediensteten des Staates vorgeschrieben. So lehnte der Hamburger Senator und Bundeskanzler Helmut Schmidt mehrfach die Annahme des Bundesverdienstordens ab.\n",
      "Da Hamburg auch selbst keine Orden vergibt, ehrt der Senat seit 1813 Persönlichkeiten mit der Ehrenbürgerwürde als wichtigster Auszeichnung (siehe: Liste Hamburger Ehrenbürger). Daneben bestehen eine Reihe weiterer Auszeichnungen, Medaillen, Ehrentitel und Kulturpreise der Stadt und die Vergabe der traditionellen Portugaleser-Münzen (weitere Preise: Bürgermeister-Stolten-Medaille, Biermann-Ratjen-Medaille, Lessing-Preis, Bach-Preis, Lichtwark-Preis, Fritz-Schumacher-Preis, Hubert-Fichte-Preis, Edwin-Scharff-Preis, Aby-M.-Warburg-Preis, Medaille für treue Arbeit im Dienste des Volkes). Darüber hinaus werden von anderen Hamburger Institutionen oder Stiftungen weitere Auszeichnungen und Preise vergeben.\n",
      "\n",
      "\n",
      "=== Webauftritt ===\n",
      "Der Webauftritt der Stadt Hamburg  hamburg.de  bietet Bürgern der Hansestadt Hamburg und Touristen mit Hotelangeboten, Veranstaltungsankündigungen, Jobinformationen und weiteren Informationen ein breites Angebot. Die Stadt Hamburg ist mit 87 Prozent an dem Portal beteiligt, die Hamburger Sparkasse mit 10,5 Prozent und die Sparkasse Harburg-Buxtehude mit 2,5 Prozent. Der Webauftritt hatte im Mai 2015 knapp 5,2 Millionen Besucher.\n",
      "\n",
      "\n",
      "=== Neubürger-Service ===\n",
      "Der Hamburger Neubürger Service (Hamburg Welcome Center) im Gebäude der Handelskammer am Alten Wall macht Neubürger, auswärtige/ausländische Unternehmen und ihre Mitarbeiter sowie qualifizierte ausländische Fachkräfte und ausländischen Studenten mit der Infrastruktur und den Behörden der Stadt vertraut.\n",
      "\n",
      "\n",
      "== Kultur und Sehenswürdigkeiten ==\n",
      "\n",
      "Hamburg hat über 60 Theater, über 100 Musikclubs, etwa 60 Museen, rund 280 Musikverlage und 200 Tonträger-Unternehmen. Außerdem leben und arbeiten in Hamburg mehr als 10.000 selbstständige Künstler. Es gibt fast 30 Kinos und Programmkinos. Über 10,3 Millionen Besucher zählte die Hamburger Kulturbehörde alleine für Veranstaltungen, die öffentlich gefördert wurden. 4,2 Millionen Besucher zählten die Theaterbühnen der Stadt in der Saison 2005/2006. Hamburg ist mit 2383 Theaterbesuchern je 1000 Einwohner führend in Deutschland und liegt selbst nach Abzug der Musicalbesucher vor den nachfolgenden Ländern Bremen (921) und Berlin (907).\n",
      "Zudem sind in Hamburg einige Sehenswürdigkeiten von überregionaler Bedeutung beheimatet. In einer weltweiten Umfrage der Deutschen Zentrale für Tourismus wurden 2017 erneut zahlreiche Hamburg Sehenswürdigkeiten unter die Top 100 in Deutschland gewählt, darunter das Miniatur Wunderland auf Platz 1.\n",
      "\n",
      "\n",
      "=== Musicals ===\n",
      "\n",
      "Hamburg ist – mit einigem Abstand – der weltweit drittgrößte Musicalstandort nach New York und London und zählte im Jahr 2007 zwei Millionen Musicalbesucher. Die Stage Entertainment unterhält mit dem Operettenhaus, der Neuen Flora, dem Theater im Hafen und dem Theater an der Elbe vier größere Musicaltheater mit einer Besucherkapazität zwischen 1400 (Operettenhaus) und 2030 (Theater im Hafen) Plätzen sowie in der Speicherstadt das Theater Kehrwieder (bis 320 Plätze) in dem zeitweise unter anderem Musicals, Varieté oder Kabarett dargeboten werden. In dem alten Speicher sind ebenfalls die Stage Entertainment Studios und die Joop van den Ende Academy eingerichtet, die auf die Musicalausbildung spezialisiert ist. Auch die seit 1985 bestehende Stage School bildet Darsteller für diesen Bereich aus.\n",
      "Hinzu kommen zahlreiche kleinere Bühnen, wie beispielsweise das St. Pauli Theater, der Delphi Showpalast oder Schmidts Tivoli und Schmidt Theater, auf denen vornehmlich eigenproduzierte Musicals und Gastaufführungen gespielt werden. Gastspiele sind zudem häufig in zahlreichen anderen Häusern, wie auch den großen Staatstheatern während der sommerlichen Spielzeitpausen, oder in temporären Spielstätten zu sehen. So kehrte Ende 2010 Cats vorübergehend nach Hamburg zurück: Zum Auftakt einer Europa-Tournee gastierte das Musical für zwei Monate in einem eigens angefertigten Musical-Zelt auf dem Heiligengeistfeld.\n",
      "Am 13. März 2013 feierte das vierte große Musicaltheater – nach dem Operettenhaus, Neuer Flora und Theater im Hafen – in der Hansestadt Richtfest. Das Stage Theater an der Elbe wurde im Frühjahr 2014 fertiggestellt und bietet 1.850 Sitzplätze. Im Stadtteil Hamburg-Hammerbrook, integriert in die bestehende Hamburger Großmarkthalle, eröffnete im März 2015 ein weiteres Musical-Theater, das Mehr! Theater, betrieben von Mehr! Entertainment. Das Theater zeichnet sich durch eine besonders wandlungsfähige Bühne aus, die neben Musicals für viele unterschiedliche Veranstaltungen genutzt werden soll und bis zu 3.500 Zuschauern Platz bietet.\n",
      "Ein Meilenstein bei der Entwicklung zur Musicalstadt war die Deutschlandpremiere von Andrew Lloyd Webbers Cats 1986 im umgebauten Operettenhaus, das durchgehend fünfzehn Jahre (bis 2001) gespielt wurde. In eigens neu erbauten Theatern folgten die Produktionen von Das Phantom der Oper, das in der Neuen Flora ab 1990 für elf Jahre gespielt wurde und Buddy, das ab 1994 über sechs Jahre im Theater im Hafen lief. Weitere mehrjährig gespielte Musicals in den gleichen Spielstätten waren Tanz der Vampire (Dezember 2003 bis Januar 2006), Dirty Dancing (März 2006 bis Juni 2008), Mamma Mia! (November 2002 bis September 2007), Ich war noch niemals in New York (Dezember 2007 bis September 2010), Sister Act, Dezember 2010 bis August 2012 im Operettenhaus, und Tarzan (Oktober 2008 bis September 2013).\n",
      "Zu den aktuellen Produktionen der Großtheater gehören Der König der Löwen – seit 2001 im Theater im Hafen, Das Phantom der Oper – seit 2013 in der Neuen Flora, Rocky – seit 2012 im Operettenhaus, und seit 2017 Ich war noch niemals in New York im Theater an der Elbe.\n",
      "\n",
      "\n",
      "=== Oper und Ballett ===\n",
      "\n",
      "Die staatseigene Hamburgische Staatsoper wurde am 2. Januar 1678 als erstes öffentliches Opernhaus Deutschlands in Hamburg gegründet. Kunstsinnige Hamburger Bürger setzten sich seinerzeit für eine „Oper für Jedermann“ in Hamburg ein.\n",
      "Ratsherr Gerhard Schott, Jurist Peter Lütjens und Organist Johann Adam Reincken setzen nicht nur die Gründung eines öffentlichen Opernhauses im Senat durch, sondern bildeten auch das erste Direktorium dieser auf privatwirtschaftlicher Basis geführten Oper am Gänsemarkt. Hier kam es zur Blüte der Barockoper, innerhalb welcher Georg Friedrich Händel und Georg Philipp Telemann zahlreich Opern für Hamburg schrieben.\n",
      "Zunächst als schlichter Holzbau des italienischen Architekten Sartorio erbaut, wurde dieses Haus Mitte des 18. Jahrhunderts abgerissen und an seinem heutigen Standort an der Dammtorstraße von dem Architekten Carl L. Wimmel neu erbaut; später dann – wiederum von Martin Haller – prunkvoller umgestaltet. Dieser Bau wurde durch die Luftangriffe des Zweiten Weltkrieges erheblich beschädigt. Heute steht an dieser Stelle ein Fünfziger-Jahre-Kubusbau, dessen Architektur nicht ganz unumstritten ist.\n",
      "Die Hamburgische Staatsoper ist eine Oper von Weltruf: Montserrat Caballé begann hier ihre Weltkarriere, Plácido Domingo startete von hier aus seine Karriere in Europa, ferner gaben hier unter anderem Opernstars wie Enrico Caruso, Luciano Pavarotti, Mirella Freni, Birgit Nilsson und Maria Callas ihr Können zum Besten.\n",
      "Seit 2015 ist Kent Nagano Generalmusikdirektor der Hamburgischen Staatsoper und des 1828 gegründeten Philharmonischen Staatsorchesters Hamburg. Opern- und Orchesterintendant ist der Schweizer Georges Delnon. In der Dekade von 2005 bis 2015 war die australische Dirigentin Simone Young Intendantin sowie Generalmusikdirektorin des Hauses.\n",
      "Eines der weltbesten Ballett-Ensembles, das Hamburg Ballett unter der Leitung von John Neumeier (seit 1973) hat an der Staatsoper seine Heimat. Unter Neumeier entstand auch ein Ballettzentrum mit seiner Ballettschule.\n",
      "\n",
      "\n",
      "=== Konzerthäuser ===\n",
      "\n",
      "Bis 2017 stand den Hamburgern und Besuchern nur ein Konzerthaus für klassische Musik zur Verfügung: die Laeiszhalle, benannt nach dem Reeder Carl Laeisz und dessen Frau Sophie Christine, die testamentarisch mit einer großzügigen Summe den Bau eines Konzerthauses ermöglichten. Nach den Plänen von Martin Haller und Wilhelm Emil Meerwein wurde das neobarocke Konzerthaus zwischen 1904 und 1908 am heutigen Johannes-Brahms-Platz errichtet. Inzwischen finden dort nicht nur klassische Konzerte statt, sondern auch Konzerte moderner Musikrichtungen, wie beispielsweise Jazz.\n",
      "Neben der Laeiszhalle wurde am 11. Januar 2017 ein zweites Konzerthaus mit einem Festakt eröffnet: die Elbphilharmonie in der HafenCity. Dieser repräsentative Bau hat eine Fassade aus Glas, ähnelnd einem Eisberg bzw. einer Meereswoge (je nach Inspiration des Betrachters), auf dem ehemaligen Kaispeicher A am Zipfel des Dalmannkais. 2.150 Sitzplätze bietet der große, weitere 550 der kleine Saal. Ebenso beherbergt das Konzerthaus ein 5-Sterne-Hotel mit Hafenblick sowie 45 Wohnungen.\n",
      "\n",
      "\n",
      "=== Theater ===\n",
      "\n",
      "Hamburg verfügt über zwei staatseigene Sprechtheater, das Deutsche Schauspielhaus und das Thalia Theater sowie eine große Zahl privat geführter Theater. Zu einem der ältesten und durch die zahlreichen TV-Sendungen bekanntesten Theater in Hamburg zählt das Ohnsorg-Theater, in dem Stücke in plattdeutscher Sprache aufgeführt werden. Die größten Bühnen für internationalen zeitgenössischen Tanz und Theater bietet die internationale Kulturfabrik Kampnagel in Winterhude. (Weitere Theater)\n",
      "\n",
      "\n",
      "=== Besucherorganisationen ===\n",
      "Hamburgs größte Besucherorganisation ist die Hamburger Volksbühne e. V. Sie wurde am 4. Januar 1919 als Verein gegründet und hat über 22.000 Mitglieder. Die TheaterGemeinde Hamburg e. V. wurde 1984 gegründet und hat 14.000 Mitglieder.\n",
      "\n",
      "\n",
      "=== Öffentliche Bücherhallen ===\n",
      "2015 existierten in Hamburg 36 Bücherhallen, die sich über das gesamte Stadtgebiet verteilen. 1.760.256 Medien (Bücher, Blu-rays, DVDs, Zeitschriften etc.) befanden sich im Medienbestand und wurden von 4.735.154 Besuchern 13.730.455 mal ausgeliehen.\n",
      "\n",
      "\n",
      "=== Museen und Ausstellungen ===\n",
      "\n",
      "In Hamburg sind etwa 60 Museen beheimatet. Darunter sind sieben staatliche Museen mit weiteren Außenstellen sowie zahlreiche private Museen und Sammlungen. Die Kunsthalle und das Museum für Kunst und Gewerbe zählen zu den wichtigen Kunstmuseen und die Deichtorhallen und das Bucerius Kunst Forum präsentieren bedeutende Ausstellungen. Daneben gibt es Museen zur Regionalgeschichte, wie das Museum für Hamburgische Geschichte, zu den Themen Technik und Arbeit, wie das Museum der Arbeit sowie eine Reihe von Sammlungen aus verschiedenen Bereichen der Wissenschaft vom Völkerkundemuseum bis zum modernen Planetarium.\n",
      "Einige Ausstellungen haben eher unterhaltenden Charakter, wie das Miniatur Wunderland mit der größten Modelleisenbahn der Welt oder Deutschlands ältestes Wachsfigurenkabinett, das Panoptikum. Das Internationale Maritime Museum ist eines von mehreren Museen, die auf die Themen Schifffahrt, Hafen und dort umgeschlagene Waren ausgerichtet sind. Darunter sind auch verschiedene, teils noch betriebsfähige Museumsschiffe im Hafen oder die BallinStadt, die über die früher von dort aufgebrochenen Auswanderer informiert.\n",
      "Einige Gedenkorte, wie die KZ-Gedenkstätte Neuengamme, erinnern zudem an die Verfolgungen während der Zeit des Nationalsozialismus und den Zweiten Weltkrieg.\n",
      "\n",
      "\n",
      "=== Bauwerke und Stadtentwicklung ===\n",
      "\n",
      "Das älteste Gebäude Hamburgs steht auf Hamburgs Exklave, der Insel Neuwerk in der Elbmündung. Der dortige Leuchtturm wurde 1310 errichtet. Das Gebäude mit einer noch älteren Geschichte auf dem Boden Hamburgs ist die Kirche Sinstorf im Stadtteil Sinstorf mit knapp 1000 Jahren, sie ist jedoch nicht originär von Hamburg erbaut worden.\n",
      "\n",
      "Die Stadtansicht wird geprägt durch die Türme der fünf Hauptkirchen St. Petri, St. Jacobi, St. Katharinen und St. Michaelis („Michel“, 1648–1673), dem Wahrzeichen der Stadt, sowie die als Mahnmal für den Zweiten Weltkrieg erhalten gebliebene Turmruine von St. Nikolai. Wenig bekannt ist, dass der Turm das höchste konventionelle Gebäude der Stadt ist und von 1874 bis 1876 das höchste weltweit war.\n",
      "Sechster Turm ist das 1897 fertiggestellte Rathaus mit seinen 647 teils prunkvoll ausgestalteten Sälen und Zimmern. Auf seiner Rückseite steht die Handelskammer Hamburg mit der Hamburger Börse. Diese architektonische Silhouette soll gewahrt werden, weshalb sich nur wenige andere hohe Gebäude in der weiteren Innenstadt befinden.\n",
      "Die Hamburger Wallanlagen wurden von 1616 bis 1625 um Hamburg herum zum Schutz vor dem Königreich Dänemark, das mit Altona an Hamburg angrenzte, errichtet. Mit dem Wall wurde die Alster fortan in Außen- und Binnenalster trennt, wo sich heute die Lombardsbrücke und Kennedybrücke befinden. Während der ersten Hälfte des 19. Jahrhunderts wurden die Wallanlagen abgetragen und in Grünanlagen entlang des Holstenwalls umgewandelt, in die Parkanlagen Planten un Blomen mit Teilen des Alten Botanischen Gartens und dem Wallringpark, mit den Kleinen und Großen Wallanlagen, sowie dem Alten Elbpark, nahe den St. Pauli-Landungsbrücken an der Elbe.\n",
      "Die Grenze zwischen Altstadt und Neustadt und die südliche Altstadt wird von Fleeten und Kanälen durchzogen, die über die Binnenalster das Zentrum mit dem Hafen verbinden und früher als Transportwege elementarer Bestandteil der Hamburger Wirtschaft waren.\n",
      "Relikte des „alten Hamburg“ sind in der Innenstadt in der Deichstraße und dem auf dem anderen Ufer des Nikolaifleets im Cremon zu sehen. Auch das Gängeviertel sowie die Krameramtswohnungen von 1676 bieten einen Einblick in typische Hamburger Bebauung vor der großflächigen Umgestaltung der City im 19. und 20. Jahrhundert.\n",
      "\n",
      "Das Altonaer Rathaus am Platz der Republik in Hamburg-Altona-Altstadt ist seit 1898 das (zeitlich dritte) Rathaus der bis 1938 selbständigen Stadt Altona.\n",
      "Die Hamburger Sternwarte (1909) im Stadtteil Bergedorf, die als Forschungssternwarte der Universität Hamburg betrieben wird, wurde 2008 mit ihren zahlreichen historischen Gebäuden und Instrumenten zum Kulturdenkmal von nationalem Rang ernannt.\n",
      "Der Bereich um die Binnenalster mit dem Jungfernstieg, dem Ballindamm, den Alsterarkaden (1843–1846) und den Colonnaden gilt als Hamburgs Flaniermeile.\n",
      "Am Hafen und entlang der Elbe gibt es zahlreiche Sehenswürdigkeiten wie die Speicherstadt, die Landungsbrücken (1839), der 1911 für den Fußgängerverkehr und Fahrzeuge freigegebene Alte Elbtunnel, der Hamburger Fischmarkt mit der Fischauktionshalle (1896) und das Blankeneser Treppenviertel.\n",
      "Die Speicherstadt als größtes zusammenhängendes Lagerhaus-Ensemble mit ihren Brücken, Wasserwegen und Straßen wurde zwischen 1885 und 1927 in drei Bauabschnitten auf einer Inselgruppe in der Elbe errichtet. Mit dem benachbarten Kontorhausviertel wurde es 2015 zum UNESCO-Welterbe ernannt. Hamburg war damit das letzte deutsche Bundesland, das eine eigene Kulturerbe-Stätte bekam. Beide Viertel stehen für die Entwicklung Hamburgs zu einer weltweiten Handelsmetropole, in der im Gegensatz zum vormaligen alt-hamburgischen Bürgerhaus, eine Trennung von Warenlagerung, Büro- und Wohnnutzung notwendig wurde.\n",
      "Wie im ganzen norddeutschen Raum ist auch in Hamburg die traditionelle Grundbausubstanz aus Backstein bzw. Klinker. Die zwischen 1920 und 1940 überwiegend mit regionaltypischen Klinkerfassaden errichteten Häuser des Kontorhausviertels bildeten das erste eigene Bürostadtviertel auf dem europäischen Kontinent. Der Bautypus des Kontorhauses, dessen deutsches Zentrum und Ausgangsort in Hamburg lag, erreichte hier den Höhepunkt seiner Entwicklung. So ist die Gestaltung des 1924 erbauten Chilehauses, mit seiner an einen Schiffsbug erinnernden Spitze, ein herausragendes Beispiel der Architektur der Moderne und Paradebeispiel des Backsteinexpressionismus.\n",
      "Weitere architektonische Besonderheiten in der Hamburger Innenstadt sind der Hauptbahnhof, der Bahnhof Hamburg Dammtor und das Curiohaus (1908–1911). Am Sievekingplatz befindet sich das Justizforum, das aus dem Hanseatische Oberlandesgericht (1912) im Zentrum, dem Strafjustizgebäude und dem Ziviljustizgebäude besteht. Zusammen mit den Grünflächen rundherum und der benachbarten Laeiszhalle (1908) stellt das Justizforum ein Ensemble historischer Architektur dar, das unter Denkmalschutz steht.\n",
      "Durch schwere Bombardierungen im Zweiten Weltkrieg wurden ganze Stadtteile vollständig zerstört, und städtebauliche Maßnahmen der nachfolgenden Jahrzehnte taten ihr Übriges, so dass heute verhältnismäßig wenig zusammenhängende Quartiere aus alten Gebäuden in Hamburg zu finden sind. So sind beispielsweise in Eimsbüttel, im Grindelviertel oder in Eppendorf noch zusammenhängende Viertel aus gründerzeitlichen Etagenhäusern zu finden, in Harvestehude und entlang des Elbufers viele ältere Villen aus den letzten zwei Jahrhunderten.\n",
      "Zu den herausstechenden Nachkriegsbauten Hamburgs zählen das dreiflügelige Emporio-Hochhaus (vormals Unilever-Haus) von 1964, das Hotel am Kongresszentrum von 1973, der Baukomplex am Berliner Tor von 1962 bzw. 2004 und die drei Mundsburg-Türme. Die höchsten Bauwerke sind der 279,8 Meter hohe Fernsehsender Heinrich-Hertz-Turm („Tele-Michel“) und ein Sendemast des Rundfunksenders Billwerder-Moorfleet mit 304 m. Markantestes Bauwerk im Hafen ist die 1974 erbaute Köhlbrandbrücke.\n",
      "Aufgrund der wachsenden Nachfrage nach Büroflächen in Hamburg in den 1960er Jahren, insbesondere für die Hauptverwaltungen von Großkonzernen, wurde zur Entlastung des innerstädtischen Ballungsraums nördlich des Hamburger Stadtparks die Bürostadt City Nord errichtet. Auf einem 117 Hektar großen Gelände haben sich rund 300 Unternehmen mit etwa 29.000 Beschäftigten angesiedelt.\n",
      "Die größten städtebaulichen Veränderungen in der Innenstadt nach der Jahrtausendwende sind der Bau der HafenCity mit der 2017 eingeweihten Elbphilharmonie, der U-Bahn-Linie U4 und des Kreuzfahrtterminals.\n",
      "\n",
      "\n",
      "=== Brücken ===\n",
      "\n",
      "Mit etwa 2500 Brücken gilt die Stadt als eine der brückenreichsten in Europa. Bedingt ist diese hohe Zahl durch die Lage der Stadt im Binnendelta der Elbe sowie den Niederungen von Alster und Bille nebst zahlreichen Nebenflüssen, Fleeten und Kanälen. Hinzu kommt der Ausbau des Hafens und dessen Anschluss an ein dichtes Straßen- und Eisenbahnnetz, das die vielen Wasserläufe überbrückt. Eine weitere Besonderheit ist die als Hochbahn ausgebaute U-Bahn, die zu großen Teilen oberirdisch und damit über zahlreiche Brücken durch die Stadt verläuft.\n",
      "Die tatsächliche Zahl der Brücken ist nicht bekannt. Die Zählung von Brücken gilt als schwierig, weil unterschiedliche Definitionen einer Brücke bestehen. Nach dem Hamburger Landesbetrieb Straßen, Brücken und Gewässer (LSBG) gilt als Fahrzeugbrücke, was mindestens eine lichte Weite von zwei Metern, und als Fußgängerbrücke, was eine Stützweite von mindestens fünf Metern hat. Wenn eine Überführung allerdings mehr als 80 Meter Breite hat, so ist sie ein Tunnel. Die Deutsche Bahn hingegen definiert alles, was mehr als zwei Meter Spannweite hat, als Brücke, so dass auch größere Signalausleger über Gleisen dazu gehören.\n",
      "Nach einer offiziellen Statistik hatte die Stadt Hamburg im Jahr 2004 einen Bestand von 2496 Brücken, davon wurden 1256 von dem Landesbetrieb (LSBG) betreut, 354 standen als Hafenbrücken unter der Verwaltung der Hamburg Port Authority (HPA) einschließlich der Brücken der Hafenbahn, 477 Brücken gehören zur Deutschen Bahn, 396 zur Hamburger Hochbahn und 13 zur AKN Eisenbahn. Private Brücken, wie zum Beispiel in Hagenbecks Tierpark oder auf Fabrikgrundstücken wurden nicht einbezogen. Hingegen zählen Rohrbrücken, also die Überbauungen für Fernwärme und Wasserleitungen, oder auch größere Schilderträger über Autobahnen und die Blendschutzbauten über die Flughafenumgehung in Fuhlsbüttel dazu.\n",
      "\n",
      "\n",
      "=== Stolpersteine ===\n",
      "Von den weltweit über 60.000 verlegten Stolpersteinen befinden sich allein 4643 Stolpersteine in Hamburg, davon wiederum die meisten, nämlich 1992, im Bezirk Eimsbüttel.\n",
      "\n",
      "\n",
      "=== Parks und Grünanlagen ===\n",
      "\n",
      "Über das gesamte Stadtgebiet hinweg sind kleinere Parks und Grünanlagen verteilt, die Hamburg zu einer grünen Stadt machen. Zu den größten Anlagen zählen der Altonaer Volkspark und der Stadtpark. Zu den besonders aufwendig gestalteten Anlagen gehört Planten un Blomen mit der größten japanischen Gartenanlage in Deutschland. Bekannt sind weiterhin der Loki-Schmidt-Garten oder der Jenischpark. Südöstlich befinden sich die weitläufigen Obstanbaugebiete der Vier- und Marschlande. Insgesamt größte Grünanlage ist mit 400 Hektar der Friedhof Ohlsdorf, der größte Parkfriedhof der Welt. Der Alsterpark rund um die Außenalster ist Hamburgs beliebteste Joggingstrecke.\n",
      "Der Tierpark Hagenbeck verfügt ebenfalls über eine schöne Parkanlage, wird jedoch vor allem durch seine 210 Tierarten zur Sehenswürdigkeit. Der von der Familie Carl Hagenbecks geführte Tierpark war bereits zu seiner Eröffnung als weltweit erster gitterloser Zoo wegweisend für die Gestaltung solcher Anlagen und wird neben den historischen Freigehegen beständig erweitert. Als eigenständige Attraktion entstand so auch 2007 das Tropen-Aquarium Hagenbeck.\n",
      "\n",
      "\n",
      "=== Sport ===\n",
      "\n",
      "Bedeutende Sportstätten Hamburgs sind das Volksparkstadion, die Barclaycard Arena, die Alsterschwimmhalle, die Sporthalle Hamburg (auch als „Alsterdorfer Sporthalle“ bekannt), das Millerntor-Stadion und die Jahnkampfbahn im Hamburger Stadtpark. Der älteste deutsche Sportverein kommt mit der Hamburger Turnerschaft von 1816 aus Hamburg.\n",
      "Seit Anbeginn 1963 spielt der 1887 gegründete Hamburger SV in der Fußball-Bundesliga und ist das einzige Gründungsmitglied der Bundesliga, das bis heute nie abgestiegen ist. Mit dem FC St. Pauli kommt ein weiterer Verein, der schon mehrfach in der ersten Fußball-Bundesliga spielte, aus Hamburg. Im Jubiläumsjahr 2010 feiert der Verein seinen fünften Aufstieg in die erste Liga. Im Hockey gehören Hamburger Vereine wie Der Club an der Alster, der Harvestehuder THC, oder der Uhlenhorster HC sowohl bei den Herren als auch den Damen bundesweit zu den dominierenden Klubs. Im Unihockey ist der ETV Hamburg seit 2003 in der 1. Bundesliga der Herren. Im Basketball sind seit der Saison 2014/15 die Hamburg Towers in der ProA aktiv. Der Baseball-Bundesligist Hamburg Stealers war 2000 Deutscher Meister. Im American Football spielen die Hamburg Huskies in der höchsten deutschen Spielklasse der German Football League. In der Box-Bundesliga wird Hamburg durch die Hamburg Giants vertreten.\n",
      "Von 2002 an waren die Handballer des HSV Hamburg (Handball-Bundesliga, bis 2015) sowie das Eishockeyteam der Hamburg Freezers (Deutsche Eishockey Liga, bis 2016) in der Barclaycard Arena zu Hause. Der VT Aurubis Hamburg, der in der CU-Arena in Hamburg-Neugraben spielte, gehörte bis 2016 zur 1. Volleyball-Bundesliga der Frauen.\n",
      "Zu den großen jährlichen Sportereignissen in Hamburg gehören in der zweiten Aprilhälfte der Hamburg-Marathon sowie im Sommer der ITU World Triathlon Hamburg, das Radrennen Vattenfall Cyclassics und der HSH Nordbank Run durch die Hafen-City. Alle Ereignisse ziehen an den Wettkampfstrecken durch die Stadt ein Massenpublikum an. Pferdesport hat in der Hansestadt einen hohen Stellenwert. Ein gesellschaftliches Ereignis sind die Hamburger Derbys im Pferderennen (Juli) sowie im Springreiten (Mai). Ebenso seit 1892 die German Open im Herrentennis.\n",
      "Hamburg gehörte zu den offiziellen Ausrichtungsorten der Fußball-Weltmeisterschaft 1974 und 2006 sowie der Handball-Weltmeisterschaft der Männer 2007 und war im August 2007 Gastgeber der ITU World Championships 2007 im Triathlon. Am 12. Mai 2010 fand im Volksparkstadion das Finale der Europa League statt.\n",
      "Der Snookerverein SC Hamburg spielt in der 1. Bundesliga Snooker. Der Squashverein Sportwerk Hamburg Walddörfer ist in der 1. Squash-Bundesliga aktiv. Der Billardverein BC Queue Hamburg spielt in der 2. Bundesliga Pool.\n",
      "Hamburg bewarb sich für die Austragung der Olympischen Spiele 2024. Die Stadt zog ihre Bewerbung aber zurück, nachdem sich die Hamburger Bevölkerung in einem Referendum mit 51,6 % gegen die Bewerbung entschieden hatte. Zuvor hatte sich Hamburg bereits um die Olympischen Spiele 2012 beworben, scheiterte jedoch in der nationalen Auswahl an Leipzig.\n",
      "\n",
      "\n",
      "=== Regelmäßige Veranstaltungen ===\n",
      "\n",
      "Hamburg bietet zu jeder Jahreszeit Veranstaltungen, wie den allsonntäglichen Hamburger Fischmarkt und den dreimal im Jahr stattfindenden Hamburger Dom, einen großen Jahrmarkt. Der Hafengeburtstag, der im Mai gefeiert wird, ist neben dem Alstervergnügen, das im August rund um die Binnenalster stattfindet, mit mehr als einer Million Besucher die größte Veranstaltung. Die Cruise Days finden alle zwei Jahre im August/September mit 200.000 Zuschauern statt mit der Auslaufparade mehrerer Kreuzfahrtschiffe im besonders beleuchteten Hafen.\n",
      "Einige Filmfestivals (Filmfest Hamburg, Lesbisch Schwule Filmtage Hamburg, Fantasy Filmfest); der Christopher Street Day (CSD) sowie die Hamburg Harley-Days, eines der größten deutschen Motorradtreffen finden hier alljährlich statt. Jedes Jahr im Sommer wird der europaweit größte Motorradgottesdienst mit bis zu 40.000 Teilnehmern abgehalten.\n",
      "Im August findet auf dem Gelände der Theaterfabrik Kampnagel das Internationale Sommerfestival statt, das größte Festival für zeitgenössischen Tanz, Performances, Konzerte und Theater in der Hansestadt. Im Bezirk Altona findet seit 1999 im Juni die altonale statt, ein zweiwöchiges Kultur- und Straßenfest. Im September findet jährlich das Internationale Straßenkunstfestival STAMP und im Winter der Hamburger Weihnachtsmarkt statt.\n",
      "\n",
      "\n",
      "=== Kulinarische Spezialitäten ===\n",
      "\n",
      "Zu den bekannten Hamburger Gerichten gehören unter anderem Birnen, Bohnen und Speck, Scholle Finkenwerder Art, Stint, Grünkohl, Hamburger Aalsuppe, Labskaus, Snuten un Poten, Rundstück warm, Rote Grütze, Schwarzsauer und Franzbrötchen.\n",
      "\n",
      "\n",
      "== Wirtschaft und Infrastruktur ==\n",
      "Hamburg hat als Handels-, Verkehrs- und Dienstleistungszentrum überregionale Bedeutung und zählt zu den wichtigsten Industriestandorten in Deutschland. Der Hafen zählt zu den weltweit führenden Seehäfen. Wichtigste Wirtschaftszweige sind Logistik, Hafen und maritime Wirtschaft, Luftfahrtindustrie (drittgrößter Standort weltweit), Konsumgüterindustrie (vor allem Lebensmittel), Chemie, Elektrotechnik, Maschinen-, Fahrzeug- und Schiffbau, Mineralölwirtschaft, Banken, Medien und Versicherungen. Neben dem Handels- und Dienstleistungssektor spielen zudem die Bereiche Tourismus, Regenerative Energien und Life Sciences (Medizin und Biotechnologie) eine zunehmend wichtige Rolle.\n",
      "Über 160.000 Unternehmen sind Mitglied in der Handelskammer Hamburg, die als älteste deutsche Handelskammer (1665) ihren Sitz im Gebäude der Hamburger Börse hat.\n",
      "Die Wirtschaftsleistung im Land Hamburg lag, gemessen am Bruttoinlandsprodukt (BIP), bei 94,4 Milliarden Euro im Jahr 2011 (2010: 92,2 Milliarden Euro) und stieg damit im Vergleich zum Vorjahr preisbereinigt um 1,4 Prozent. Die Bruttowertschöpfung im verarbeitenden Gewerbe lag (2010) bei 10,0 Milliarden Euro. Im Vergleich von 272 Regionen der Europäischen Union (ausgehend von Zahlen aus 2011) steht Hamburg nach London, Luxemburg und Brüssel in der Liste der Regionen mit dem höchsten Bruttoinlandsprodukt je Einwohner auf dem vierten Platz und hält diesen Platz auch in Bezug auf den Kaufkraftstandard (KKS = 202 im Vergleich zum EU-Durchschnitt: EU-28 = 100).\n",
      "Den Spitzenplatz in Deutschland erreicht Hamburg auch hinsichtlich der Kaufkraft (109,8 Prozent) in den Ländern, gefolgt von Bayern und Baden-Württemberg. Als Region liegt die Kaufkraft Hamburgs bundesweit ebenfalls mit Abstand vorn, gefolgt von Oberbayern und dem hessischen Regierungsbezirk Darmstadt.\n",
      "Nach dem Regierungswechsel 2001 bemühte sich der Senat, mit dem Leitspruch „Metropole Hamburg – Wachsende Stadt“ den Wirtschaftsstandort auszubauen und ein langfristiges Bevölkerungswachstum zu erreichen. Als Ansatzpunkt verfolgte der Senat eine kombinierte Strategie aus der Aktivierung endogener Potenziale und der Stärkung von Hamburgs internationaler Ausstrahlung. Hierdurch wurde auch die Entwicklung Hamburgs zum bevorzugten Standort chinesischer Unternehmen in Deutschland gefördert, von denen die Stadt 2013 mehr als 500 beheimatete – so viele wie keine andere deutsche Stadt. Das Leitbild wurde unter dem CDU-Grünen-Senat im Jahre 2010 inhaltlich weiterentwickelt in „Wachsen mit Weitsicht“. Seit dem Regierungswechsel 2011 lautet das Leitbild des derzeitigen SPD-Senats „Wir schaffen das moderne Hamburg“. Auch dieses Leitbild entwickelt die Schwerpunkte der Wirtschafts- und Stadtentwicklung in den Bereichen Wirtschaft und Innovation, Hafen und Schifffahrt, Verkehr und Infrastruktur weiter. Nach den Wahlen 2015 wurde daraus der Koalitionsvertrag zwischen SPD und Bündnis90/Die Grünen mit dem Titel „Zusammen schaffen wir das moderne Hamburg“.\n",
      "Der Schuldenstand des Hamburger Haushalts belief sich im Juni 2013 nach Angaben des Statistischen Bundesamtes auf 24,913 Milliarden Euro. Dabei werden die Auslagerungen in andere Haushalte (Öffentliche Fonds, Einrichtungen und wirtschaftliche Unternehmen, z.T. auch gemeinsam mit anderen Ländern) oft nicht berücksichtigt. Bei Einbeziehung dieser – oft auch als „Schattenhaushalt“ bezeichnet – ergab sich 2013 ein Gesamtschuldenstand von 37,40 Milliarden Euro. Ferner ist bei diesen Zahlen zu beachten, dass es Bürgschaften gibt, die ausfallen können. Diese beliefen sich 2013 auf über 20 Milliarden Euro. Belastungen durch die HSH Nordbank sind in den Folgejahren noch nicht abzuschätzen, da Ende 2015 Kredite zur Rettung dieser Bank bewilligt wurden und Erlöse aus der Verkauf dieser Bank Anfang März 2017 noch ungewiss waren.\n",
      "Den öffentlichen Schulden standen Ende Juli 2012 private Vermögen in Höhe von 218 Milliarden Euro gegenüber. Statistisch verfügte demnach jeder Hamburger über ein Vermögen von über 120.000 Euro.\n",
      "\n",
      "\n",
      "=== Unternehmen ===\n",
      "In Hamburg haben mindestens 1 von 30 DAX-, 5 von 50 MDAX- und 3 von 50 SDAX-Unternehmen ihren Hauptsitz (DAX: Beiersdorf AG; MDAX: Aurubis AG, Deutsche EuroShop AG, Fielmann AG, Jungheinrich AG und TAG Immobilien AG; SDAX: Hamburger Hafen und Logistik AG, VTG AG und Capital Stage AG).\n",
      "Nach Anzahl der Beschäftigten waren im Jahr 2013 die drei größten Arbeitgeber in Hamburg die Stadt selbst (70.000 Mitarbeiter), Airbus (13.300 Mitarbeiter) und die Asklepios Kliniken Hamburg (11.997 Mitarbeiter). Stadteigene Unternehmensbeteiligungen werden größtenteils über die HGV Hamburger Gesellschaft für Vermögens- und Beteiligungsmanagement mbH verwaltet.\n",
      "\n",
      "\n",
      "=== Tourismus ===\n",
      "\n",
      "Hamburg ist das am schnellsten wachsende Tourismusziel in Europa der vergangenen zehn Jahre. 2015 lag Hamburg auf Rang 11 der beliebtesten Ziele für Städtereisen in Europa. Es wurden mehr als 12,6 Millionen Übernachtungen, gegenüber etwa 6,5 Millionen 10 Jahre zuvor, verzeichnet. Die meisten der 6,2 Millionen Besucher der Stadt waren Deutsche, während etwa 1,39 Millionen aus dem Ausland kamen.\n",
      "Seit 2013 erhebt Hamburg eine Kultur- und Tourismustaxe, die zu 100 Prozent in touristische, kulturelle und sportliche Projekte investiert wird.\n",
      "Hamburg ist die deutsche Stadt mit den meisten 5-Sterne-Hotels (Stand 2017).\n",
      "\n",
      "\n",
      "=== Verkehr ===\n",
      "\n",
      "\n",
      "==== Verkehrsmittelverteilung ====\n",
      "\n",
      "Der öffentliche Personennahverkehr (ÖPNV) hatte 2008 in Hamburg einen Anteil von 18 % an der Verkehrsmittelwahl (Daten von 2008; motorisierter Individualverkehr 42 %, Fußgänger 28 %, Radfahrer 12 %). Im Vergleich der fünf größten deutschen Städte hatte Hamburg damit den geringsten Anteil des ÖPNV an der Verkehrsmittelwahl (Berlin 26 %, Frankfurt am Main 24 %, München und Köln jeweils 21 %) und, zusammen mit Köln, den höchsten Anteil am Kfz-Verkehr. Beim Fahrradverkehr lag Hamburg knapp über dem deutschen Durchschnitt. Gegenüber 2002 war eine deutliche Steigerung zu verzeichnen; diese war geringer als in Berlin oder München.\n",
      "\n",
      "\n",
      "==== Straßenverkehr ====\n",
      "\n",
      "\n",
      "===== Kfz-Verkehr =====\n",
      "\n",
      "2012 waren in Hamburg 834.906 Fahrzeuge zugelassen. Jährlich werden in Hamburg ca. 133.000 Neuwagen zugelassen.\n",
      "Hamburg verfügt über gute Straßenverbindungen im Fernverkehr. Mehrere Bundesautobahnen berühren das Stadtgebiet: die A 1 (im Raum Hamburg zudem als Europastraße E 22), A 7 (im Raum Hamburg zudem als Europastraße E 45), A 23, A 24 (im Raum Hamburg zudem als E 26) und A 25. Ferner existieren südlich der Elbe Autobahnabschnitte mit wenigen Kilometern, die als A 252, A 253 und A 255 bezeichnet sind.\n",
      "Geplant ist eine weiträumige Umfahrung Hamburgs mit der A 20, die von Prenzlau/Rostock kommend derzeit bei Bad Segeberg endet. Sie soll künftig über das nördliche und westliche Umland Hamburgs durch einen neuen, westlich gelegenen Elbtunnel an die A 26 (Hamburg–Stade), von der erst ein Teil gebaut ist, angeschlossen werden. Von dort soll sie durch den Wesertunnel die A 28 und die A 29 anbinden. Diese Planung ist in Schleswig-Holstein umstritten.\n",
      "Auf Hamburgischem Gebiet verlaufen die Bundesstraßen B 4, B 5, B 73, B 75, B 207, B 431, B 432, B 433 und B 447, die größtenteils radial auf den Innenstadtbereich zuführen. Damit wird der Straßenverkehr dort konzentriert, was zu erheblichen Verkehrsproblemen führt. Tangentialverbindungen zur Umleitung des Durchgangsverkehrs und zur großräumigen Erschließung des Stadtgebietes waren in den 1960er-Jahren als Stadtautobahnen geplant. Die Planungen wurden größtenteils, auch durch massive Proteste aus der Bevölkerung insbesondere der betroffenen Stadtteile, aufgegeben.\n",
      "Es bestehen jedoch drei Ringstraßen, die halbkreisförmig um die innere (Ring 1) und äußere Innenstadt (Ring 2) herum und als Viertelkreis durch die nordwestlichen Außenbezirke (Ring 3) verlaufen. Dazu kommen einige weitere vierspurige ausgebaute Hauptstraßen. Das so gebildete „Kernnetz“ ist sehr stark durch den Auto- und Schwerlastverkehr belastet, obwohl es häufig als Stadtstraße direkt durch dichtbesiedelte Quartiere führt. So fuhren 2013 durchschnittlich 54.000 Fahrzeuge pro Werktag über die Fruchtallee im Stadtteil Eimsbüttel, davon waren über 3.000 Fahrzeuge des Schwerverkehrs.\n",
      "Insgesamt verfügt Hamburg über fast 4.000 Kilometer Straßen (August 2006) mit etwa 7.000 Straßennamen. Ein großer Teil dieser Straßen liegt in Tempo-30-Zonen, die in Deutschland in den frühen 1980er-Jahren erstmals in Hamburg ausgewiesen wurden. Hamburgs höchste Hausnummer ist die 792, die sich in der Fuhlsbüttler Straße befindet.\n",
      "\n",
      "\n",
      "===== Fahrradverkehr =====\n",
      "\n",
      "Hamburg verfügt über etwa 1700 Kilometer Radwege in überwiegend marodem Zustand, die oft den geltenden Verwaltungsvorschriften in der Bauausführung nicht entsprechen. Beim ADFC-Fahrradklima-Test 2005, einer Radfahrer-Befragung, hat Hamburg als schlechteste aller 28 beteiligten Städte über 200.000 Einwohner abgeschnitten. Obwohl vom Senat 2008 die Umsetzung einer Radverkehrsstrategie beschlossen wurde, konnte auch 2012 nur Platz 34 von 38 beteiligten Städten dieser Größe erreicht werden. Die Umsetzung des Fahrradverleihsystems StadtRAD wurde von den befragten Radfahrern allerdings mit der besten Note aller deutschen Städte gewürdigt. Bei mehreren anderen Themen, so Falschparker auf Radwegen, deren Breite und Oberflächenbeschaffenheit sowie Ampelschaltungen, hat Hamburg hingegen die schlechtesten oder zweitschlechtesten Bewertungen aller 332 beteiligen Städte erhalten.\n",
      "Eine Besonderheit sind die Hamburger Fahrradhäuschen, die seit Anfang der 1990er-Jahre vor allem in den dichtbebauten Wohngebieten der Bezirke Altona, Eimsbüttel und Hamburg-Nord stehen. Darin können Fahrräder abgestellt werden, für die in den gründerzeitlichen Gebäuden und auf den stark genutzten Grundstücken anderweitig kaum diebstahl- und vandalismussichere Abstellplätze bestehen.\n",
      "Auf einigen wenigen bereits ausgebauten Abschnitten von Velorouten sind Straßenabschnitte als Fahrradstraßen ausgewiesen, so etwa entlang des Eilbekkanals und seit 2012 am Falkensteiner Ufer im Verlauf des Elberadwegs. Im Herbst 2014 ließ der Senat am Westufer der Außenalster den Harvestehuder Weg in eine Fahrradstraße umbauen. Dies sorgte zunächst für Diskussionen, weil Parkplätze auf die Fahrbahn verlegt worden waren, um den Autoverkehr auszubremsen. Nach einem knappen Jahr wurden die Parkmarkierungen abgefräst und das Parken auf dem Seitenstreifen wieder erlaubt.\n",
      "In Hamburg sind etwa 700 von 900 Einbahnstraßenabschnitte innerhalb von Tempo-30-Straßen für Radfahrer entgegen der Fahrtrichtung frei gegeben. Seit etwa 2010 werden im Rahmen des Busbeschleunigung-Programms des Senates bei Straßenumbauten häufiger Radfahrstreifen und Schutzstreifen eingesetzt.\n",
      "Zu Fahrrad-Fahrten durch die Stadt verfügt Hamburg über ein Netz an Velorouten. Für Fahrten in die Region oder sogar in andere Länder ist Hamburg an zahlreiche nationale und internationale touristische Fernradwege angeschlossen, u.a. an die EuroVelo-Route Nordseeküstenradweg, den Elberadweg und den Radfernweg Hamburg-Bremen.\n",
      "Der rot-grüne Senat der 21. Legislaturperiode gab das Ziel aus, Hamburg bis zur Mitte der 2020er zu „Fahrradstadt“ zu machen. Hierzu sollen die 14 Velorouten mit einer Gesamtlänge von 280 Kilometer bis 2020 fertig gestellt werden, jährlich 50 Kilometer Radwege saniert oder umgewidmet werden und das StadtRAD-Angebot mit der Neuausschreibung 2017 ausgebaut und attraktiver gemacht werden. Daneben ist die Planung von je einem Radschnellweg pro Bezirk geplant, die dann bis 2025 umgesetzt werden sollen.\n",
      "Der Loop in den Stadtteilen Wilhelmsburg und Veddel sowie die Konzertkultour Fahrradgarderobe haben 2014 den Deutschen Fahrradpreis, gewonnen, einmal in der Kategorie Alltagsmobilität, einmal in Freizeit und Tourismus.\n",
      "\n",
      "\n",
      "==== Schienen- und öffentlicher Verkehr ====\n",
      "\n",
      "\n",
      "===== Fernverkehr =====\n",
      "\n",
      "Hamburg ist der größte Eisenbahn-Knotenpunkt Nordeuropas. Die Hansestadt kann auf eine lange Eisenbahngeschichte, seit der ersten Strecke 1842, zurückblicken. Im Schienenpersonenfernverkehr gibt es verschiedene ICE-Linien und IC-Linien bis in das europäische Ausland, beispielsweise nach Kopenhagen oder Basel, einzelne Züge fahren nach Breslau, Wien oder Prag. Durch Nachtzüge sind unter anderem München, Zürich und Wien direkt von Hamburg aus erreichbar. Die meisten Fernzüge führen über den Hauptbahnhof und beginnen und enden oft im Bahnhof Hamburg-Altona. Daneben existieren die Fernbahnhöfe Hamburg Dammtor, Hamburg-Harburg und Hamburg-Bergedorf.\n",
      "Vom Hamburger Zentral-Omnibusbahnhof (ZOB) beim Hauptbahnhof bestehen Fernbuslinien in das In- und Ausland, besonders nach Osteuropa (Baltikum, Polen). Mehrmals täglich verkehren Busse in Richtung Berlin.\n",
      "Südlich der Stadtgrenze – im niedersächsischen Maschen – befindet sich der größte Rangierbahnhof Europas (→ Maschen Rangierbahnhof). Er hat Bedeutung für den paneuropäischen Schienengüterverkehr. Hier beginnt oder endet etwa zehn Prozent des deutschen Schienengüterverkehrs. Die Hamburger Hafenbahn besitzt und unterhält das Schienennetz im Hamburger Hafen.\n",
      "\n",
      "\n",
      "===== Stadt- und Regionalverkehr =====\n",
      "\n",
      "Neben zahlreichen Regionalbahn-Linien, die das Hamburger Umland erschließen, bestehen Regional-Express-Verbindungen in Richtung Elmshorn – Neumünster – Kiel bzw. Flensburg – Padborg, Lübeck, Schwerin – Rostock und in Richtung Elmshorn – Westerland (Sylt). Ähnliche Angebote bilden die Metronom-Züge in Richtung Stade – Cuxhaven, Bremen und Lüneburg – Uelzen (– Hannover – Göttingen).\n",
      "Der öffentliche Personennahverkehr (ÖPNV) wird u. a. durch ein Schnellbahn-Netz bedient, das vorwiegend aus sechs S-Bahn- und vier U-Bahn-Linien besteht. Das Netz erschließt auch einige Vororte außerhalb des Stadtgebietes. Außerdem verkehren Regionalbahnen und RE-Züge sowie im Norden der Stadt die Schnellbahnzüge der AKN von (Neumünster –) Kaltenkirchen und Henstedt-Ulzburg bis Hamburg-Eidelstedt bzw. -Norderstedt Mitte.\n",
      "Zur Erschließung der HafenCity südlich der früher abgetrennten Speicherstadt wurde eine U-Bahn-Strecke vom Bahnhof Jungfernstieg neu gebaut. Die Linie wird als U4 bezeichnet und führt in östlicher Richtung zur Entlastung der U2 weiter bis Billstedt. Sie wurde am 29. November 2012 eröffnet.\n",
      "Daneben besteht ein flächenmäßig gut ausgebautes, jedoch tendenziell deutlich überlastetes Stadtbusnetz (auch Metrobusse, Eilbusse, zuschlagpflichtige Schnellbusse). Der Hafen wird neben Bus- und Bahnanschlüssen auch von Hafenfähren erschlossen. In den Nächten vor Sonnabenden, Sonn- und Feiertagen werden die wichtigsten Buslinien, U- und S-Bahnen durchgehend betrieben (Nachtverkehrsnetz), wobei Randbereiche durch besondere Nachtbuslinien erschlossen werden. Für die übrigen Nächte gibt es ein Nachtbusnetz mit 19 Linien.\n",
      "Die Straßenbahn Hamburg wurde Strecke für Strecke bis 1978 eingestellt. Die Wiedereinführung als Stadtbahn war bereits mehrere Male Ziel einer Hamburger Regierung. 2001 und 2011 waren die Vorbereitungen bis zum Planfeststellungsverfahren vorangeschritten. Beide Male wurden diese umfangreichen Arbeiten unmittelbar nach einem Regierungswechsel vom Senat wieder eingestellt.\n",
      "Alle Verkehrsmittel des Regional- und Nahverkehrs (alle Regionalzüge, auch von privaten Betreibern, S-, U-, A-Bahn sowie Busse und Hafenfähren) können in und um Hamburg mit Fahrkarten des Hamburger Verkehrsverbundes (HVV), der 1965 als erster Verkehrsverbund der Welt gegründet wurde, benutzt werden. Außerdem sind die Ländertickets Schleswig-Holstein-Ticket, Niedersachsen-Ticket und Mecklenburg-Vorpommern-Ticket sowie das Schönes-Wochenende-Ticket auch für alle Verkehrsmittel des HVV im „Großbereich Hamburg“ (Schnellbusse mit Zuschlag) gültig.\n",
      "\n",
      "\n",
      "==== Schifffahrt ====\n",
      "\n",
      "Die Niederelbe verbindet Hamburg direkt mit dem offenen Meer, der Nordsee. Seeschiffe können den Hamburger Hafen von dort und von der Ostsee über den elbabwärts gelegenen Nord-Ostsee-Kanal erreichen. Elbaufwärts bestehen weitere Wasserstraßen für die Binnenschiffahrt, die Hamburg über die Elbe (Richtung Magdeburg, Dresden bis Tschechien) und abzweigende Kanäle mit dem weiteren Hinterland und dem Binnenwasserstraßennetz verbinden. So sind über ein kurzes Stück der oberen Unterelbe und der Oberelbe der abzweigende Elbe-Lübeck-Kanal (Verbindung nach Lübeck und zur Ostsee) und der Elbe-Seitenkanal (Verbindung zum Mittellandkanal) zu erreichen.\n",
      "Im Stadtgebiet verkehren auf der Elbe und besonders im Hafengebiet sechs Schiffslinien bzw. Fähren der HADAG zum Verbundtarif des HVV. Die Linien 62 und 64 (Fähre ab Teufelsbrück) dienen zur Anbindung des Stadtteils Finkenwerder. Außerdem gibt es eine Fähre ab Blankenese nach Cranz. Als Touristik- und Ausflugslinie besteht eine Verbindung St. Pauli-Landungsbrücken–Blankenese–Wittenbergen–Schulau–Lühe–Stadersand.\n",
      "Am Jungfernstieg beginnen die Touristik- und Linienverkehre der Alsterschifffahrt. Bis 1984 übernahmen Alsterdampfer als fester Bestandteil des Verkehrsverbundes Aufgaben im ÖPNV. Heute gibt es eine „Kreuzfahrt-Linie“ und Alsterrundfahrten, teilweise kommen Museumsschiffe zum Einsatz.\n",
      "\n",
      "\n",
      "==== Luftverkehr ====\n",
      "\n",
      "Der internationale Flughafen Hamburg (HAM) – eigene Bezeichnung Hamburg Airport – ist vom Passagieraufkommen der fünftgrößte und der älteste noch in Betrieb befindliche Flughafen Deutschlands. Er wurde 1911 in Fuhlsbüttel bei Hamburg eröffnet und liegt etwa 8,5 km nordwestlich des Stadtzentrums. Etwa 60 Fluggesellschaften bedienen 125 Zielflughäfen, darunter auch die Langstreckenziele Dubai, New York City und Teheran. Der Flughafen zählt nach einem bis 2008/2009 geführten, umfassenden Ausbauprogramm zu den modernsten in Europa und ist seitdem mit der S-Bahn-Linie S1 an die Innenstadt angeschlossen. Daneben ist er über einige Buslinien des Hamburger Verkehrsverbundes und Fernbuslinien zu erreichen. Zudem wurde die Zahl der PKW-Parkplätze für Besucher auf 12.000 erhöht und die Gastronomie und Einkaufsmöglichkeiten erweitert. Am Flughafen befindet sich auch die Basis der Lufthansa Technik. Wegen der Lärmbelästigung in den relativ dicht besiedelten Einflugschneisen besteht ein Nachtflugverbot. Als Ersatz für den Flughafen Fuhlsbüttel ist seit den 1960er-Jahren der Bau eines neuen Großflughafens in der Nähe von Kaltenkirchen im Gespräch, der bisher nicht realisiert wurde.\n",
      "Auf dem Gelände der Airbus Operations GmbH (einer Division der Airbus Group, ehemals EADS) – ca. 10 km südwestlich des Hamburger Stadtzentrums – befindet sich der Werksflugplatz Hamburg-Finkenwerder. Dort landen neben den dort endmontierten Maschinen der Airbus-A320-Familie und der zur Lackierung und Innenausrüstung der Kabine aus Toulouse überführten Airbus A380, nur Flugzeuge zur hauseigenen Versorgung, wie der Airbus Beluga sowie Verkehrsflugzeuge, die Werksangehörige von und nach Toulouse bringen.\n",
      "Der Flughafen Lübeck (LBC) ist mit einer Busverbindung von Hamburg aus erreichbar. Obwohl er rund 70 km von Hamburg entfernt liegt, kommen nach Angaben des Flughafens etwa 40 Prozent der Fluggäste aus Hamburg. Von der Billigfluggesellschaft Ryanair, die von 2005 bis 2014 den Flughafen anflog, wurde er als „Hamburg-Lübeck“ bezeichnet.\n",
      "\n",
      "\n",
      "=== Versorger ===\n",
      "\n",
      "\n",
      "==== Wasserversorgung ====\n",
      "\n",
      "Die Trinkwasserversorgung Hamburgs wird durch die 17 Wasserwerke Baursberg, Bergedorf, Billbrook, Bostelbek, Curslack, Glinde, Großensee, Großhansdorf, Haseldorfer Marsch, Langenhorn, Lohbrügge, Hausbruch, Nordheide, Schnelsen, Stellingen, Süderelbmarsch und Walddörfer sichergestellt, die vom Gleichordnungskonzern Hamburg Wasser betrieben werden. Je nach Jahreszeit werden täglich zwischen 250.000 und 400.000 m³ Trinkwasser bereitgestellt.\n",
      "\n",
      "\n",
      "==== Energieversorgung ====\n",
      "In den 1990er-Jahren wurden die Gas-, Strom- und Fernwärmeversorgung der Stadt Hamburg in Gestalt der HeinGas Hamburger Gaswerke GmbH sowie der Hamburgische Electricitäts-Werke AG privatisiert. Von 1974 bis 2001 wurde im Stadtteil Moorburg ein Kraftwerk betrieben, das für die Verbrennung von Gas und Öl ausgelegt war. Dieses Kraftwerk wurde durch das Kohlekraftwerk Moorburg ersetzt, das 2015 in Betrieb genommen wurde.\n",
      "\n",
      "\n",
      "=== Industrie ===\n",
      "\n",
      "Hamburg ist mit dem Airbus-Werk im Stadtteil Finkenwerder der größte deutsche, zweitgrößte europäische (nach Toulouse) und weltweit drittgrößte (nach Seattle und Toulouse) Flugzeugbau-Standort. Einige Zulieferer wie Diehl Aerosystems sind ebenfalls in Hamburg aktiv. Der Werft-Standort Hamburg umfasst unter anderem die größeren Firmen Blohm & Voss sowie J. J. Sietas mit den Tochterunternehmen Norderwerft und Neuenfelder Maschinenfabrik, einem der weltweit führenden Hersteller von Schiffskränen. Auch Schiffbau-Zulieferer wie Muehlhan sind in der Hansestadt ansässig. Die Beiersdorf AG hat nicht nur ihren Sitz in Hamburg, sondern produziert dort auch Produkte der Marken Nivea und Tesa. Im Stadtteil Heimfeld produziert die Daimler AG Achsen und Komponenten. Die Deutschland-Tochter des niederländischen Philips-Konzern, Philips Deutschland GmbH befindet sich in Hamburg, wo unter anderem auch Medizin-Geräte hergestellt werden. Das aus dem Philips-Konzern ausgegliederte Unternehmen NXP Semiconductors produziert im Stadtteil Hausbruch Halbleiter. Im Bereich der Rohstoffverarbeitung sind die Aurubis AG auf der Peute, Europas größte Kupferhütte, Trimet Aluminium und zwei Ölraffinerien der Firmen Holborn und Shell tätig. Das Maschinenbauunternehmen Körber AG hat seinen Sitz in Hamburg. Zu dem Konzern gehört unter anderem Hauni Maschinenbau, Weltmarktführer bei Maschinen und Anlagen für die Tabakindustrie und damit einer von mehreren sogenannten Hidden Champions in der Hansestadt. Zu ihnen gehören auch die Maschinenbauer Harburg-Freudenberger und BW Papersystems Hamburg (als E.C.H. Will in Hamburg gegründet, inzwischen Produktion in Wedel). Die Hamburger Unternehmen Jungheinrich (produziert allerdings im benachbarten Norderstedt und in Lüneburg) und Still stellen (Flur-)Förderfahrzeuge her. Der Klavier- und Flügelhersteller Steinway & Sons fertigt im Stadtteil Bahrenfeld, der Schreibgerätehersteller Montblanc im benachbarten Eidelstedt. Uhren verlassen die Manufaktur des Herstellers Wempe Chronometerwerke. Der Sägen-Hersteller Dolmar produziert in Jenfeld. Der Agrarprodukte-Konzern Archer Daniels Midland besitzt die Ölmühle Hamburg an der Nippoldstraße und der Palmölmühle der früheren Noblee & Thoerl GmbH in Harburg. Die Holsten-Brauerei braut in Altona-Nord Biere.\n",
      "Lediglich mit der Verwaltung, nicht aber mit Produktionsstandorten in Hamburg vertreten sind die Nahrungsmittelhersteller Unilever (Deutschland-Zentrale) und Carl Kühne KG sowie der Windenergieanlagen-Hersteller Senvion.\n",
      "\n",
      "\n",
      "=== Medien ===\n",
      "\n",
      "Unter anderem werden Der Spiegel, Stern und Die Zeit in Hamburg produziert. Zahlreiche Verlage, darunter die Großverlage Axel Springer AG (Bild) und Gruner + Jahr sowie die Bauer Verlagsgruppe, die Verlagsgruppe Milchstrasse (mittlerweile Teil des Burda-Verlags) und der Jahreszeiten-Verlag, haben hier ihren Sitz. Insgesamt wird gut die Hälfte aller überregionalen Presseprodukte Deutschlands in Hamburg produziert. Zwei bedeutende Tiefdruckereien befinden sich im Großraum Hamburg. Dies sind Gruner Druck, Itzehoe, und die Axel Springer Tiefdruckerei, Ahrensburg, die der prinovis angehören. Außerdem hat die Deutsche Presse-Agentur (dpa) ihren Sitz in der Hansestadt. Die ARD-Redaktion für Nachrichten und Zeitgeschehen ARD-aktuell produziert auf dem NDR-Gelände in Lokstedt unter anderem die Tagesschau, die Tagesthemen, das Nachtmagazin und Tagesschau24, das Informationsprogramm innerhalb der Senderfamilie der ARD.\n",
      "Hamburg ist traditionell Sitz zahlreicher Firmen aus der Musikbranche, allen voran der Deutschlandzentrale von Warner Music sowie Edel Music. Trotzdem verlor die Stadt im Sommer 2002 Universal Music und den Deutschen Phonoverband an Berlin. Der ausschlaggebende Grund, die Subventionierung des Umzugs durch Berlin, zog seitens Hamburg Kritik nach sich, da Berlin seinen Haushalt mit Hilfe des Länderfinanzausgleiches stützt, in den unter anderem Hamburg einzahlte – Hamburg hätte damit in gewisser Hinsicht die Abwanderung selbst bezahlt.\n",
      "Weiterhin ist Hamburg Hauptsitz des Norddeutschen Rundfunks (NDR) und seiner (über die NDR Media GmbH) Enkeltochtergesellschaft Studio Hamburg, die zahlreiche Fernsehsendungen und auch Filme entweder selbst produziert, synchronisiert oder ihre Kapazitäten zur Verfügung stellt. Außerdem ist Hamburg Sitz eines ZDF-, RTL- sowie Sat.1-Landesstudios sowie des regionalen Fernsehsenders Hamburg 1.\n",
      "Um die Belange der örtlichen, nationalen, wie auch internationalen Filmwirtschaft kümmert sich von staatlicher Seite die Filmförderung Hamburg Schleswig-Holstein.\n",
      "Die Sitze zahlreicher international renommierter Werbeagenturen wie Scholz & Friends, Jung von Matt, TBWA, Zum goldenen Hirschen, Kolle Rebbe, Grabarz&Partner und Designagenturen, darunter Peter Schmidt Group, Landor Associates und Factor Design, machen Hamburg zu einem überregionalen Standort der Werbe- und Designbranche.\n",
      "\n",
      "\n",
      "=== IT-Sektor ===\n",
      "Der Informations- und Telekommunikationssektor (IT-Sektor) gehört zu den Branchen, die den Wirtschaftsstandort Hamburg prägen. Die Zahl der Unternehmen hat sich seit 1996 auf fast 8000 mehr als verdoppelt, und die Branche beschäftigt ca. 45.000 Mitarbeiter (Stand 2. Halbjahr 2006). Hamburg ist einer der zentralen IT-Standorte Deutschlands.\n",
      "Die Branchenstruktur der Hamburger IT-Unternehmen gliedert sich in die Sektoren Multimedia, Herstellung Geräte, Telekommunikation, Hard- und Softwareberatung und DV-Dienste. Die anteilsmäßig größten Zuwächse der letzten Jahre im IT-Sektor verzeichnet die Multimedia-Branche. Die Zahl der ihr zugehörigen Unternehmen ist seit dem Jahr 2000 um über 50 Prozent auf 2227 Unternehmen angewachsen (Stand 2. Halbjahr 2006). Zu den bekanntesten Internetdienstleistern der Elbmetropole gehören unter anderem SinnerSchrader, Immonet oder Tipp24.\n",
      "Seit der Jahrtausendwende haben sich in Hamburg vermehrt Social-Media-Unternehmen angesiedelt. Unter anderem haben XING, ElitePartner und Parship ihren Hauptsitz in Hamburg. Unternehmen wie Google, Facebook, Twitter, Yelp und Dropbox unterhalten Niederlassungen in Hamburg. Mit der Freenet AG hat auch ein großer deutscher Telekommunikationsdienst- und Internetanbieter in Hamburg seinen Standort. Des Weiteren umfasst die Multimedia-Branche Online-Vermarkter wie beispielsweise Bauer Media KG und Quality Channel GmbH sowie international bekannte Suchmaschinen wie Google Germany GmbH und Yahoo! Marketplace/Kelkoo Deutschland GmbH.\n",
      "Ein weiterer Bereich der Multimedia-Branche ist die Games-Branche. Zahlreiche Publisher haben sich angesiedelt, (zum Beispiel dtp entertainment AG, Codemasters, EIDOS, Bigpoint GmbH, InnoGames, Goodgame Studios). Darüber hinaus haben Anbieter mobiler Entertainment-Inhalte (zum Beispiel Fishlabs Entertainment) ihren Sitz in der Hansestadt.\n",
      "Mit 1900 Unternehmen sind die Software-Unternehmen am zweitstärksten in der Hamburger IT-Wirtschaft vertreten (Stand 2. Halbjahr 2006). In Hamburg sind einige der größten internationalen und deutschen Software-Unternehmen angesiedelt, darunter unter anderem IBM, Lufthansa Systems, Oracle, Adobe Systems, Logica sowie die SAP.\n",
      "Die Rolle Hamburgs als Medienstadt kommt der IT-Branche entgegen und ermöglicht Synergien mit den verschiedenen Mediengattungen. Hamburger Institutionen wie die Behörde für Wirtschaft, Verkehr und Innovation, die Hamburgische Gesellschaft für Wirtschaftsförderung mbH und Unternehmen der IT- und Medien-Branche haben sich in der Initiative Hamburg@work zusammengeschlossen, um die Zusammenarbeit der beiden Sektoren zu unterstützen und Neuankömmlingen einen Branchen-Überblick zu geben.\n",
      "\n",
      "\n",
      "=== Finanzen ===\n",
      "\n",
      "\n",
      "==== Banken ====\n",
      "Hamburg ist der bedeutendste Bankenplatz im norddeutschen Raum. Eine von neun Hauptverwaltungen der Deutschen Bundesbank befindet sich in der Willy-Brandt-Straße (ehemals Ost-West-Straße) in Hamburg. Sie ist für die Bundesländer Hamburg, Mecklenburg-Vorpommern und Schleswig-Holstein zuständig. Außerdem ist die älteste deutsche Münzprägeanstalt, die Hamburgische Münze mit dem Münzzeichen „J“ in Hamburg beheimatet.\n",
      "Zum öffentlichen Bankensektor gehört neben der HSH Nordbank AG (ehemals: Hamburgische Landesbank), die einen ihrer zwei Hauptsitze in der Hansestadt hat, mit der Hamburger Sparkasse (HASPA) auch die größte deutsche Sparkasse. Als weiteres, deutlich kleineres Institut hat die Sparkasse Harburg-Buxtehude ihren Sitz in Hamburg. Auch der Dachverband für Hamburg und Bremen, der Hanseatische Sparkassen- und Giroverband befindet sich in Hamburg.\n",
      "Die genossenschaftliche Bankengruppe ist in Hamburg mit der überregionalen DG HYP – Deutsche Genossenschafts-Hypothekenbank AG sowie den regionalen Instituten Hamburger Volksbank und Sparda-Bank Hamburg vertreten. Weitere Genossenschaftsbanken mit Sitz in Hamburg sind die MKB Mittelstandskreditbank AG, die Edekabank AG und die NetBank AG.\n",
      "Auch Großbanken haben Hamburger Wurzeln, die Deutsche Bank mit der Norddeutschen Bank, die Unicredit Bank/Hypovereinsbank mit der Vereins- und Westbank und die UBS mit dem Bankhaus Schröder, Münchmeyer, Hengst & Co. Die Commerzbank hatte in der Anfangszeit als Commerz- und Disconto-Bank sogar ihren Sitz in Hamburg.\n",
      "Traditionell sind bedeutende Privatbanken in Hamburg beheimatet. Mit der M. M. Warburg Bank hat eine der größten Privatbanken Deutschlands ihren Sitz in Hamburg. Weitere Hamburger Privatbanken sind Joh. Berenberg, Gossler & Co. KG, Bankhaus Wölbern & Co., Donner & Reuschel (zur Signal-Iduna Gruppe), Bankhaus Marcard, Stein & Co, Otto M. Schröder Bank AG, Goyer & Göppel und Max Heinr. Sutor oHG.\n",
      "Zusätzlich hat die Bank des Otto-Versand, die Hanseatic Bank ihren Sitz in Hamburg. Aufgrund Hamburgs internationaler Bedeutung als Handelsplatz sind zahlreiche ausländische Banken mit einer Niederlassung in Hamburg vertreten.\n",
      "\n",
      "\n",
      "==== Versicherungen ====\n",
      "Hamburg ist mit 21.850 Beschäftigten (nach München und Köln) drittgrößter Versicherungsstandort in Deutschland. Der Versicherungsplatz ist mit rund 300 Versicherungsgesellschaften insbesondere von mittelständischen Versicherungsgesellschaften, Versicherungsmaklern und -vermittlern geprägt, wie der Signal Iduna Gruppe einschließlich des Deutschen Rings, der HanseMerkur Versicherungsgruppe, der neue leben, der Hamburger Pensionskasse von 1905, des größten deutschen Versicherungsmaklers Aon Jauch & Hübener und des größten deutschen inhabergeführten Versicherungsmaklers Funk Gruppe.\n",
      "Große Versicherungskonzerne sind zwar nicht mit ihrem Konzernsitz, wohl aber mit wichtigen Konzernteilen in Hamburg vertreten. Der Allianz Versicherungskonzern mit dem Kreditversicherer Euler Hermes, die Munich-Re-/Ergo-Gruppe mit der Ergo Lebensversicherung (ehemals Hamburg-Mannheimer), die Generali-Gruppe mit Volksfürsorge und Advocard Rechtsschutzversicherung, die R+V Versicherung mit Condor und KRAVAG und die Bâloise mit der Deutscher Ring Versicherungsgruppe.\n",
      "Hamburg ist Sitz der Techniker Krankenkasse, der größten Krankenkasse innerhalb der gesetzlichen Krankenversicherung, sowie der DAK-Gesundheit, HEK – Hanseatische Krankenkasse, Securvita BKK und Continentale Betriebskrankenkasse.\n",
      "Die sehr lange Tradition der Versicherungswirtschaft in Hamburg wird durch das älteste Versicherungsunternehmen der Welt, die 1676 gegründete Hamburger Feuerkasse und eine von nur drei Versicherungsbörsen weltweit, die mit der Vermittlung und dem Abschluss von Versicherungsverträgen seit Gründung der Hamburger Börse 1558 zum Börsengeschäft gehört, unterstrichen.\n",
      "Der Versicherungsstandort Hamburg wird durch den Sitz der GDV Dienstleistungs-GmbH des Gesamtverband der Deutschen Versicherungswirtschaft, dem Verband Deutscher Versicherungsmakler, dem 1982 in Hamburg gegründeten und nun im Umland beheimateten Bund der Versicherten und dem börsenähnlichen Policenhandel (Handel mit bestehenden Lebens- und Rentenversicherungspolicen) der Börsen AG in Hamburg abgerundet.\n",
      "\n",
      "\n",
      "=== Hafen ===\n",
      "\n",
      "Der Hamburger Hafen, auch „Deutschlands Tor zur Welt“ genannt, ist der größte Seehafen in Deutschland und der drittgrößte in Europa (nach Rotterdam und Antwerpen, Stand 2016). Weltweit steht der Hamburger Hafen an 15. Stelle. Für einige Spezialgüter, zum Beispiel Teppiche, ist er der größte Umschlaghafen weltweit.\n",
      "Den größten Umsatz macht der Hafen mit dem Containerumschlag. Es befinden sich mit den Firmen Hamburger Hafen und Logistik AG (HHLA) und der Bremer Firma Eurogate GmbH & Co. KGaA zwei Hauptcontainer-Terminal-Betreiber in Hamburg. Das Hafengebiet umfasst etwa 7399 Hektar (nutzbar 6480 ha), von denen 4331 Hektar (nutzbar 3412 ha) Landflächen sind. Dazu kommen 919 Hektar, die zum Teil seit Jahrzehnten stadtplanerisch für die Hafenerweiterung vorgesehen sind.\n",
      "Auch für den Hamburg-Tourismus hat der Hafen eine große Bedeutung. Angeboten werden Hafenrundfahrten mit unterschiedlichsten Schiffstypen, angefangen bei einfachen Barkassen bis zu großen Schaufelraddampfern mit Gastronomie. Anziehungskraft haben auch Aussichtspunkte rund um die Elbe (u. a. Altonaer Balkon) oder der Alte Elbtunnel.\n",
      "Angesichts von Konstruktionsüberlegungen für Containerschiffsgrößen mit einem maximalen Tiefgang von mehr als 16 m hat Hamburg eine Anpassung des Fahrwassers der Unterelbe beim Bund beantragt. Die Stadt Hamburg fordert eine Vertiefung der Unterelbe um 1,50 m. Dieses Projekt befindet sich in der Prüfung. Aus der Zusammenarbeit mit Niedersachsen und Bremen zum Bau des neuen Containerhafens JadeWeserPort hat sich die Stadt Hamburg nach dem Regierungswechsel 2001 zurückgezogen, weil die im Hamburger Hafen anstehenden Investitionsvorhaben von vordringlicher Bedeutung sind.\n",
      "In direkter Anbindung an die Speicherstadt und den Innenstadtbereich wird der neue Stadtteil HafenCity bebaut. Das Projekt HafenCity soll auf einer Fläche von 155 Hektar Wohnen, Arbeiten und Unterhaltung ermöglichen. Seit dem ersten März 2008 ist die HafenCity formell ein eigener Stadtteil Hamburgs. Unmittelbar zwischen der historischen Speicherstadt und der Elbe entstehen von Norden nach Süden, von Westen nach Osten 13 Teilquartiere, die die Innenstadt Hamburgs um 40 Prozent vergrößern werden.\n",
      "\n",
      "\n",
      "=== Handel ===\n",
      "\n",
      "\n",
      "==== Börse ====\n",
      "Die Hamburger Börse wurde 1558 als erste Börse in Deutschland und vierte in Europa gegründet. Sie hat heute keine nennenswerte Bedeutung mehr für den Aktienhandel. Die Hamburger Börse spezialisierte sich seit Beginn des 21. Jahrhunderts auf den Handel mit Fondsanteilen.\n",
      "\n",
      "\n",
      "==== Messen und Kongresse ====\n",
      "\n",
      "Hamburg wird zu den führenden Kongressorten weltweit gezählt. Das Congress Center Hamburg (CCH) wurde 1973 als Deutschlands erstes Kongress- und Tagungszentrum zusammen mit einem Hotelturm, Hamburgs höchstem Haus, neben dem Dammtorbahnhof eröffnet. Mit einem 2008 beendeten Ausbau auf 23 Säle mit 12.500 Sitzplätzen und einer multifunktionalen Ausstellungshalle mit 7000 Quadratmetern hofft die Stadt unter die weltweit ersten zehn Kongressorte vorzurücken. Jährlich finden dort etwa 400 Kongresse, Veranstaltungen und Konzerte statt.\n",
      "Nahe dem CCH und über einen überdachten Gang durch den Park Planten un Blomen erreichbar, befindet sich das Hamburger Messegelände. Die Hamburg Messe wurde bis zum Jahr 2008 auf elf Messehallen mit einer Fläche von 87.000 Quadratmetern erweitert. Über eine Million Besucher verzeichnen die etwa 45 Messen und anderen Veranstaltungen pro Jahr. Darunter international bedeutende Fachmessen wie die traditionsreiche Internorga (Hotellerie- und Gastronomie-Fachmesse) oder die Weltleitmesse der Schifffahrtsindustrie SMM (Shipbuilding, Machinery & Marine technology), die publikumsstarke Bootsausstellung hanseboot, die 2009 zum 50. Mal stattfand.\n",
      "Bei der Auslastung der Messeflächen war die Hamburg Messe im Jahr 2008 in Deutschland führend. Einschließlich der Flächen des CCH stehen insgesamt 107.000 Quadratmeter an Ausstellungsflächen zur Verfügung, die von der städtischen Hamburg Messe und Congress GmbH vermarktet werden.\n",
      "\n",
      "\n",
      "==== Einzelhandel ====\n",
      "Neben dem Außenhandel mit Ein- und Ausfuhr sowie dem Großhandel ist der Einzelhandel von Bedeutung. Die Geschäfte für den Massenkonsum liegen in der Spitalerstraße und der Mönckebergstraße. Sehr unterschiedliche Geschäfte findet man in der Straße Neuer Wall. Wegen des nassen Wetters in Hamburg wurde ein Netz von Einkaufspassagen aufgebaut. Sie führen von der Shoppingpassage am Mönckebergbrunnen zur Europa Passage, zum Kaufmannshaus, zum Hanseviertel bis zur Gänsemarktpassage und andere wetterfeste Passagen.\n",
      "\n",
      "\n",
      "=== Institutionen, öffentliche Einrichtungen und Stiftungen ===\n",
      "Die bedeutendste Einrichtung der Vereinten Nationen in Deutschland, der Internationale Seegerichtshof, residiert in Hamburg. Er wurde 1982 eingerichtet. In ihrem Gebäude an der berühmten Elbchaussee amtieren die UN-Richter seit 1996.\n",
      "Weiterhin ist Hamburg unter anderem Sitz folgender Institutionen:\n",
      "Hanseatisches Oberlandesgericht (HansOLG)\n",
      "Landgericht Hamburg\n",
      "Bundesforschungsanstalt für Fischerei (BFAFi)\n",
      "Bundesamt für Seeschifffahrt und Hydrographie (BSH) (vormals: Deutsches Hydrographisches Institut (DHI))\n",
      "Deutscher Wetterdienst (DWD; Seewetteramt)\n",
      "Bernhard-Nocht-Institut für Tropenmedizin (BNI)\n",
      "Heinrich-Pette-Institut, Leibniz-Institut für Experimentelle Virologie (HPI)\n",
      "Deutsches Elektronen-Synchrotron (DESY)\n",
      "Gewerkschaft Nahrung-Genuss-Gaststätten (NGG)\n",
      "Greenpeace Deutschland\n",
      "Ferner sind in Hamburg drei Hauptzollämter (Hamburg-Hafen, Hamburg-Jonas und Hamburg-Stadt), ein Bundespolizeiamt, ein Dienstsitz der Generalzolldirektion, ein Prüfungsamt des Bundes, ein Wasser- und Schifffahrtsamt und ein Zollfahndungsamt sowie drei von neun Berufsgenossenschaften angesiedelt.\n",
      "Mit der Führungsakademie und der Helmut-Schmidt-Universität befinden sich zudem zwei bedeutende Dienststellen der Bundeswehr in Hamburg.\n",
      "Aus alter Hamburger Tradition geben einige der reichen Bürger als Mäzen ihrer Stadt etwas von ihrem Reichtum zurück, so dass es in Hamburg mehr als 1300 Stiftungen gibt, die das Leben in allen Lebensbereichen der Stadt unterstützen – auch dies ist ein Rekord in Deutschland.\n",
      "\n",
      "\n",
      "== Bildung, Forschung, Gesundheit ==\n",
      "\n",
      "\n",
      "=== Bildung ===\n",
      "Hamburg bietet neben seinen allgemein- und berufsbildenden Schulen spezielle Sonderschulen wie zum Beispiel die Sprachheilschulen sowie 19 Hochschulen. 2012 waren in Hamburg 222.700 Schüler an 218 Grund- und 297 weiterführenden Schulen gemeldet, hinzu kamen 19.300 Schüler an 95 privaten Schulen. Die Hoch- und Fachschulen besuchten 75.514 Studenten.\n",
      "2010 wurden 64.044 Schüler an 178 berufsbildenden Schulen unterrichtet. 2012 beschäftigte die Stadt Hamburg 12.256 Lehrkräfte. Das Durchschnittsalter lag 2011 bei 46,02 und wird aufgrund vieler Neueinstellungen in den nächsten Jahren weiter sinken. Hamburg ist das einzige deutsche Land mit einem wachsenden Schulsystem. Im restlichen Bundesgebiet sinken die Schülerzahlen und damit der Bedarf an Lehrkräften. Der Senat stellt deshalb von 2013 bis 2019 zusätzliche zwei Milliarden Euro für Sanierungen, Neu- und Umbauten zur Verfügung. Dennoch wurden 2012 mehr als 10.000 Kinder in über 400 Containern unterrichtet.\n",
      "\n",
      "\n",
      "=== Forschung ===\n",
      "An der Grenze zwischen Hamburg und Schleswig-Holstein entsteht das europäische Röntgenlaserprojekt XFEL. Das Forschungszentrum Deutsches Elektronen-Synchrotron (DESY) baut für den XFEL den auf Supraleiter-Technik ausgelegten 3,3 km langen Teilchenbeschleuniger. Der Freie-Elektronen-Laser für Röntgenlicht (XFEL steht für X-ray free-electron laser) wird Elektronen auf sehr hohe Energien beschleunigen und anschließend zur Aussendung von hochintensiven Röntgenlaserblitzen bringen. Die einzigartigen Röntgenlaserblitze des XFEL eröffnen völlig neue experimentelle Möglichkeiten in der Materialforschung. 2009 wurde mit seinem Bau begonnen, die Inbetriebnahme ist für 2015 geplant.\n",
      "\n",
      "\n",
      "=== Gesundheit ===\n",
      "Ende 2014 waren in Hamburg 12.197 Ärzte, 1.906 Zahnärzte (2013) und 1.445 Apotheker (2013) berufstätig. 2015 standen in 52 (2013) Hamburger Krankenhäusern 12.407 Betten zur Verfügung, es wurden ca. 502.000 Patienten stationär behandelt. Die Bettenauslastung betrug 83,7 % und die durchschnittliche Verweildauer sank von 7,7 Tagen im Jahr 2014 auf 7,5 Tage (2015). Insgesamt waren 2013 28.761 Personen in den Hamburger Kliniken beschäftigt.\n",
      "\n",
      "\n",
      "== Umwelt ==\n",
      "Die Umweltsituation ist und war in Hamburg häufig Gegenstand heftiger Auseinandersetzungen. Regelmäßig ist die für zahlreiche Einwohner gesundheitsgefährdende Belastung durch Lärm aufgrund des Straßen-, Bahn- und Luftverkehrs ein Thema. Hamburg hat trotz hohem Kfz-Anteil an den Wegen der Einwohner und einem hohen Pendleraufkommen, das ebenfalls zu einem erheblichen Anteil mit Autos erfolgt, keine Umweltzone, anders als die meisten anderen deutschen Ballungsgebiete. Bei der Luftverschmutzung kommen zu den für Großstädte typischen Belastungen aus Heizungen, Stromerzeugung, drei Müllverbrennungsanlagen und Autoverkehr weitere Belastungen durch hafenbezogenen Schiffsverkehr und Industrie, hier auch mit Geruchsbelästigungen, hinzu.\n",
      "Debatten gab es Anfang der 2000er-Jahre um die Erweiterung bei Airbus und im Zusammenhang damit das teilweise Verfüllen des Mühlenberger Lochs und bis 2008 um den Neubau des Kohlekraftwerks Moorburg. Bundesweit bekannt geworden sind Umweltskandale wie die Dioxin-Verseuchung des Boehringer-Geländes in Billbrook und der Giftberg mit Dioxin und Parathion in Georgswerder Anfang der 1980er-Jahre sowie die Probleme mit belastetem oder giftigem Elbschlick, unter anderem in Altenwerder. Zudem ist die Elbvertiefung ein Streitpunkt in der Hamburger Politik.\n",
      "Hamburg hat bereits seit 1978 eine Behörde, die „Umwelt“ in ihrem Namen führt. Sie bewarb sich für die Stadt erfolgreich um den Titel Umwelthauptstadt Europas, den Hamburg 2011 führen durfte, was bei Umweltverbänden kritisch bewertet wurde.\n",
      "\n",
      "\n",
      "== Haustiere ==\n",
      "\n",
      "\n",
      "=== Hunde ===\n",
      "2016 waren im Hamburger Hunderegister 73.394 Tiere eingetragen. Seit 2007 besteht in Hamburg für Hunde außerhalb von Privatgrundstücken und den ungefähr 122 Hundeauslaufzonen eine generelle Leinenpflicht. Sogenannte gefährliche Hunde sind auch innerhalb der Hundeauslaufzonen anzuleinen. Vom Leinenzwang im Stadtgebiet ausgenommen sind Hunde, die erfolgreich eine Gehorsamsprüfung abgelegt haben. Eingezäunte und nicht eingezäunte Auslaufzonen für Hunde finden sich beispielsweise im Alstervorland und Höltigbaum, am Kupferteich, auf der Horner Rennbahn sowie im Öjendorfer Park. Die Gesamtfläche der unterschiedlich großen Hundeauslaufzonen beträgt mehr als 239 Hektar. Außerhalb von Hundeauslaufzonen gilt in öffentlichen Grün- und Erholungsanlagen stets Leinenzwang; ausgenommen sind freigegebene Wege, Pfade und Rasenflächen für gehorsamsgeprüfte Hunde. In einige Hamburger Parkanlagen dürfen Hunde – ausgenommen Führhunde – grundsätzlich nicht mitgenommen werden. Auch ist die Mitnahme von Hunden auf Hamburger Wochenmärkte und Volksfeste (z. B. den DOM) sowie zum Hafengeburtstag nicht gestattet. Nach dem Hamburger Hundegesetz gilt in der Hansestadt eine Chip-, Registrier- und Versicherungspflicht.\n",
      "Erstmals 1954 war Hamburg Austragungsort für das Deutsche Windhund-Derby. Das Rennen findet seit 2001 auf der Hunderennbahn am Höltigbaum statt. Veranstalter ist der Norddeutsche Windhund-Rennverein.\n",
      "\n",
      "\n",
      "=== Pferde ===\n",
      "\n",
      "Mindestens 3800 Pferde wurden im Jahr 2013 in Hamburg gehalten.\n",
      "\n",
      "\n",
      "== Hamburgensien ==\n",
      "\n",
      "\n",
      "=== Hamburger Liedgut ===\n",
      "Neben der rechtlich inoffiziellen Hymne des Landes („Stadt Hamburg an der Elbe Auen“) gibt es viele Lieder mit Bezug zu Hamburg, die teilweise den Status einer „inoffiziellen“ Hymne haben, wie zum Beispiel „Auf der Reeperbahn nachts um halb eins“ (unter anderem gesungen von Hans Albers) oder „In Hamburg sagt man tschüß“ (unter anderem gesungen von Heidi Kabel) sowie dem Shanty „Ick heff ’mol een Hamborger Veermaster seh’n“. Bis in die 1950er-Jahre wurden Musikstücke mit lokalem Anklang auch gerne von Pankokenkapellen auf der Straße gespielt. Vor dem Zweiten Weltkrieg war „An de Eck steit’n Jung mit’n Tüdelband“ der Gebrüder Wolf sehr beliebt, neuer ist „Hamburg, meine Perle“ von Lotto King Karl.\n",
      "Mit den Bands Blumfeld, Die Sterne und Tocotronic ging ab etwa 1990 der Begriff der Hamburger Schule als eigenständiges Genre deutschsprachiger Musik in die Popkultur ein. Erweitert wird die mit Hamburg verbundene alternative Musik mittlerweile von Kettcar und Tomte. Auch die deutschsprachige Hip-Hop-Band Absolute Beginner beschreibt in „City Blues“ ihr Lebensgefühl zu ihrer Heimatstadt; Samy Deluxe in „Hamburg Anthem“.\n",
      "Als Urgesteine gelten mittlerweile die Hip-Hopper von Fettes Brot, die ursprünglich aus dem Kreis Pinneberg stammen und sich selbst als „Hamburgs Hip-Hop-Dinosaurier“ bezeichnen. 1995 schrieben sie mit „Nordisch by Nature“ ein Loblied über den Norden Deutschlands im Allgemeinen und die Hansestadt im Speziellen. Bekannt ist außerdem Udo Lindenberg, dessen Wurzeln in der Hamburger Szene sind.\n",
      "\n",
      "\n",
      "=== „Hamburger Gruß“ ===\n",
      "Der Hamburger Gruß „Hummel, Hummel“ beantwortet mit „Mors, Mors“ stammt einer Legende zufolge vom Wasserträger Johann Wilhelm Bentz, der den Spitznamen „Hummel“ trug und bis zu seinem Tod 1854 in Hamburg lebte. Wenn er vorbeikam, riefen ihn die Kinder spöttisch „Hummel, Hummel“. Er antwortete darauf wütend mit „Mors, Mors“ (verkürzend für „Klei mi am Mors“, das plattdeutsche Pendant des Götz-Zitates). Thematisiert wird dies am Hummel-Brunnen in der Neustadt (Rademachergang/Breiter Gang), der den Wasserträger darstellt. An den gegenüberliegenden Hausfassaden finden sich Kinderskulpturen, die ihm ihr entblößtes Hinterteil präsentieren.\n",
      "Der Hamburger Gruß wird allerdings eher außerhalb Hamburgs als Erkennungszeichen oder wie beim Fußball als Schlachtruf verwendet. Zur Begrüßung allgemein üblicher ist zum Beispiel das in Teilen Norddeutschlands verbreitete „Moin“, beziehungsweise „Tschüs“ zur Verabschiedung.\n",
      "\n",
      "\n",
      "=== Hamburger Witze ===\n",
      "Es gibt eine Reihe traditioneller Witzgestalten, die in Hamburger Witzen vorkommen, insbesondere die Hafenarbeiter Hein und Fiete sowie die Göre Klein Erna mit ihrer Verwandtschaft und Nachbarschaft (gesammelt von Vera Möller). Die Witze um diese Gestalten besitzen tendenziell recht lakonische und häufig auch recht anzügliche Pointen. Ebenso hat sich die Spielart des He lücht in Bezug auf die Hafenrundfahrt herausgebildet.\n",
      "\n",
      "\n",
      "=== Hamburger Aalsuppe ===\n",
      "\n",
      "Überregional bekannt ist die besonders reichhaltige Hamburger Aalsuppe, die Backobst enthält und dadurch eine süßsäuerliche Note erhält. Sie wird als Hauptgericht serviert.\n",
      "\n",
      "\n",
      "=== Fliegender Hamburger ===\n",
      "\n",
      "Der Verbrennungstriebwagen 877 (später DB-Baureihe VT 04.0) war der erste Dieselschnelltriebwagen der Deutschen Reichsbahn und zugleich der erste Stromlinienzug in planmäßigem Einsatz. Mit ihm wurde ab 1933 zwischen Berlin und Hamburg die damals weltweit schnellste Zugverbindung hergestellt. Er war als „Fliegender Hamburger“ bekannt.\n",
      "\n",
      "\n",
      "=== Briefmarken ===\n",
      "\n",
      "Bis 1868 waren die Stadt Hamburg und die zeitweise vom Land Hamburg regierte Stadt Bergedorf, berechtigt, eigene Postwertzeichen herauszugeben. Außerdem gibt es einige Beispiele von Hamburger Motiven auf Briefmarken.\n",
      "\n",
      "\n",
      "== Siehe auch ==\n",
      "\n",
      "Liste der Kulturdenkmäler in Hamburg\n",
      "Liste von Filmen mit Bezug zu Hamburg\n",
      "Liste von Persönlichkeiten der Stadt Hamburg\n",
      "Wechseltaler zur Begünstigung des Handels mit Hamburg und den Niederlanden.\n",
      "\n",
      "\n",
      "== Literatur ==\n",
      "Uwe Bahnsen, Kerstin von Stürmer: Die Stadt, die auferstand: Hamburgs Wiederaufbau 1948–1960. Convent, Hamburg 2005, ISBN 3-934613-89-6.\n",
      "Behörde für Stadtentwicklung und Umwelt, Freie und Hansestadt Hamburg: Hamburg. Architektur der sich wandelnden Stadt – Stadtentwicklung und Denkmalschutz. JOVIS, Berlin 2010, ISBN 978-3-86859-078-4.\n",
      "Jörg Berlin (Hrsg.): Das andere Hamburg. Freiheitliche Bestrebungen in der Hansestadt seit dem Spätmittelalter. Pahl-Rugenstein Verlag, Köln 1981, ISBN 3-7609-0654-0.\n",
      "Matthias Blazek: Die Geschichte des Hamburger Sportvereins von 1887: 125 Jahre im Leben eines der populärsten Fußballvereine. Mit einem besonderen Blick auf die Vorgängervereine, die Frühzeit des Hamburger Ballsports und das Fusionsjahr 1919. Ibidem, Stuttgart 2012, ISBN 978-3-8382-0387-4.\n",
      "Matthias Blazek: Seeräuberei, Mord und Sühne – Eine 700-jährige Geschichte der Todesstrafe in Hamburg 1292–1949. Ibidem, Stuttgart 2012, ISBN 978-3-8382-0457-4.\n",
      "Hans Bunge, Gert Kähler (Hrsg.): Villen und Landhäuser. Bürgerliche Baukultur in den Hamburger Elbvororten von 1900 bis 1935. Dölling und Galitz, München 2012, ISBN 978-3-86218-031-8.\n",
      "Ulrich Alexis Christiansen: Hamburgs dunkle Welten. Der geheimnisvolle Untergrund der Hansestadt. Ch. Links, Berlin 2008, ISBN 978-3-86153-473-0.\n",
      "Jörg Duppler (Hrsg.): Hamburg zur See. Maritime und militärische Beiträge zur Geschichte Hamburgs. Im Auftrag der Führungsakademie der Bundeswehr, Mittler, Herford 1989, ISBN 3-8132-0318-2.\n",
      "Volker Hage: Hamburg 1943. Literarische Zeugnisse zum Feuersturm. Fischer, Frankfurt 2003, ISBN 3-596-16036-7.\n",
      "Freie und Hansestadt Hamburg: Mit Hamburg verbunden – Hamburg-Handbuch 2012/2013.\n",
      "Hamburg-Bibliographie.\n",
      "Redaktion HASPA-Stadtteilbuch: Hamburg, Von Altona bis Zollenspieker. Hoffmann und Campe, Hamburg 2002, ISBN 3-455-11333-8.\n",
      "Werner Jochmann, Hans-Dieter Loose: Hamburg, Geschichte der Stadt und ihrer Bewohner. Band 1: Von den Anfängen bis zur Reichsgründung. Hoffmann und Campe, Hamburg 1986, ISBN 3-455-08709-4.\n",
      "Werner Jochmann, Hans-Dieter Loose: Hamburg, Geschichte der Stadt und ihrer Bewohner. Band 2: Vom Kaiserreich bis zur Gegenwart. Hoffmann und Campe, Hamburg 1986, ISBN 3-455-08255-6.\n",
      "Hella Kemper, Kerstin Schmidtfrerick, Eva-Christiane Wetterer: Hummelbuch, Hamburg Brevier. Murmann, Hamburg 2007, ISBN 978-3-86774-009-8.\n",
      "Ute Kleinelümern, Hanno Ballhausen: Alles über Hamburg. Erstaunliches & Kurioses. Zahlen Daten Fakten. Komet, Köln 2008, ISBN 978-3-89836-784-4.\n",
      "Eckart Kleßmann: Geschichte der Stadt Hamburg. Die Hanse / Groenewold / Europäische Verlagsanstalt, Hamburg 2002, ISBN 3-434-52596-3.\n",
      "Franklin Kopitzsch, Daniel Tilgner (Hrsg.): Hamburg Lexikon. Aktualisierte Sonderausgabe. Ellert & Richter, Hamburg 2011, ISBN 978-3-8319-0373-3.\n",
      "Ralf Lange: Hamburg – Wiederaufbau und Neuplanung 1943–1963. Königstein i. Ts. 1994, ISBN 3-7845-4610-2.\n",
      "Hans-Helmut Poppendieck u. a. (Hrsg.): Der Hamburger Pflanzenatlas von A bis Z. Dölling und Galitz, München und Hamburg 2010, ISBN 978-3-937904-93-1.\n",
      "Hermann Rauhe: Musikstadt Hamburg. Eine klingende Chronik. Ellert & Richter, Hamburg 2008, ISBN 978-3-8319-0314-6.\n",
      "Hermann Schnabel: Hamburg: 99× die Nummer eins. 10. Auflage. DV Druck&Design, 2004.\n",
      "Rolf Stephan: Hamburg, ehemals, gestern und heute. Steinkopf, Stuttgart 1985, ISBN 3-7984-0633-2.\n",
      "Erik Verg, Martin Verg: Das Abenteuer das Hamburg heißt. Der weite Weg zur Weltstadt. Ellert & Richter, Hamburg 1997, ISBN 3-8319-0137-6.\n",
      "\n",
      "\n",
      "== Weblinks ==\n",
      "\n",
      "Offizielle Website der Freien und Hansestadt Hamburg\n",
      "Offizielle Website der Metropolregion Hamburg\n",
      "Vereins-Wiki: Vereine in Hamburg\n",
      "Bürgerservice – Landesrecht online\n",
      "\n",
      "\n",
      "== Einzelnachweise und Kommentare ==\n"
     ]
    }
   ],
   "source": [
    "print(page.content)"
   ]
  },
  {
   "cell_type": "markdown",
   "metadata": {},
   "source": [
    "**Aufgabe:** Scrapt eure Lieblings-Wikipedia-Seite und speichert den Inhalt der Seite in einem Objekt ab."
   ]
  },
  {
   "cell_type": "markdown",
   "metadata": {},
   "source": [
    "# Web Scraping in Python"
   ]
  },
  {
   "cell_type": "markdown",
   "metadata": {},
   "source": [
    "Wir verwenden nun die Beautiful Soup Library, um Pressemitteilungen von der Fraktionshomepage der CDU/CSU zu scrapen. Zunächst müssen die entsprechenden Libraries installiert (pip install) und geladen werden. (Dieser Script funktioniert nur mit Python 2)"
   ]
  },
  {
   "cell_type": "code",
   "execution_count": 27,
   "metadata": {
    "collapsed": true
   },
   "outputs": [],
   "source": [
    "import lxml\n",
    "import requests\n",
    "import urllib2\n",
    "import re\n",
    "import os\n",
    "\n",
    "from lxml import html\n",
    "from bs4 import BeautifulSoup"
   ]
  },
  {
   "cell_type": "markdown",
   "metadata": {},
   "source": [
    "Nachdem wir auf der Homepage den Stamm der Homepage für Pressemitteilungen identifiziert haben, erstellen wir eine Liste an relevanten Seiten auf denen wir Pressemitteilungen finden können. Die Liste geht eigentlich bis 2082, um den Prozess zu beschleunigen, scrapen wir nur die ersten beiden Seiten."
   ]
  },
  {
   "cell_type": "code",
   "execution_count": 30,
   "metadata": {},
   "outputs": [
    {
     "name": "stdout",
     "output_type": "stream",
     "text": [
      "['https://www.cducsu.de/presse?type_1=All&page=0', 'https://www.cducsu.de/presse?type_1=All&page=1']\n"
     ]
    }
   ],
   "source": [
    "count = 0\n",
    "page_list =[]\n",
    "url1 = \"https://www.cducsu.de/presse?type_1=All&page=\"\n",
    "for count in range(0,2):\n",
    "    page_one = url1 + str(count)\n",
    "    page_list.append(page_one)\n",
    "print page_list"
   ]
  },
  {
   "cell_type": "markdown",
   "metadata": {},
   "source": [
    "Hier werden nun die Links auf den Seiten in der Liste gescrapt. Beautiful Soup scrapt zunächst den kompletten Inhalt. Anschließend fragen wir an, dass nur die Informationen behalten werden sollen, in denen sich Links zu den tatsächlichen Pressemitteilungen befinden."
   ]
  },
  {
   "cell_type": "code",
   "execution_count": 31,
   "metadata": {
    "collapsed": true
   },
   "outputs": [],
   "source": [
    "link_list=[]\n",
    "for p in page_list:\n",
    "    page = urllib2.urlopen(p)\n",
    "    soup = BeautifulSoup(page, 'lxml') # 'html.parser')\n",
    "    links = soup.findAll(\"a\")\n",
    "    \n",
    "    for link in links:\n",
    "        link_one = link.get(\"href\")\n",
    "        link_one = unicode(link_one)\n",
    "        link_one = link_one.encode('utf-8') # decode('iso-8859-1')\n",
    "#        print link_one  # prints out #rows of links, where #rows = #links; if I write print outside the loop, only last link is printed (\"...datenschutz...\"\n",
    "        link_list.append(link_one)\n",
    "        link_list = filter(None, link_list)  # filters out 'None' entries\n",
    "    #print link_list  # same content as is print link_one, but single row"
   ]
  },
  {
   "cell_type": "markdown",
   "metadata": {},
   "source": [
    "Wir speichern die Liste an Homepages in einem .txt File, um es einfach wieder aufrufen zu können."
   ]
  },
  {
   "cell_type": "code",
   "execution_count": 32,
   "metadata": {
    "collapsed": true
   },
   "outputs": [],
   "source": [
    "newfile = open(\"cdu.txt\", \"a\")\n",
    "for lst in link_list:\n",
    "    newfile.write(lst+ '\\n')\n",
    "newfile.close()"
   ]
  },
  {
   "cell_type": "markdown",
   "metadata": {},
   "source": [
    "In diesem Schritt filtern wir alle Links heraus, welche nicht zu einer Pressemitteilung führen. Hierzu suchen wir einen Stamm, welche alle Pressemitteilungslinks gemeinsam haben (Und im besten Fall sonst kein Link hat)"
   ]
  },
  {
   "cell_type": "code",
   "execution_count": 33,
   "metadata": {
    "collapsed": true
   },
   "outputs": [],
   "source": [
    "contentInUrl = [\"presse/pressemitteilungen\"]\n",
    "\n",
    "#contentnotInUrl = [\"/seite/\"]\n",
    "#Extract only those URLs we are interested in:\n",
    "with open (\"cdu.txt\", \"r\") as myfile:\n",
    "    data = myfile.read().split(\"\\n\")\n",
    "\n",
    "#print data\n",
    "\n",
    "data_correct = []\n",
    "for dat in data:\n",
    "    if any(word in dat for word in contentInUrl):\n",
    "        dat = \"https://www.cducsu.de/\" + dat\n",
    "        data_correct.append(dat)\n",
    "        #print data_correct\n",
    "\n",
    "\n",
    "seen = set()\n",
    "result = []\n",
    "for item in data_correct:\n",
    "    if item not in seen:\n",
    "        seen.add(item)\n",
    "        result.append(item)\n",
    "\n",
    "#print result\n",
    "\n",
    "#del result[0]\n",
    "\n",
    "newfile = open(\"cdu_korrekt_pm.txt\", \"w\")\n",
    "for ele in result:\n",
    "    newfile.write(ele+'\\n')\n",
    "newfile.close()"
   ]
  },
  {
   "cell_type": "markdown",
   "metadata": {},
   "source": [
    "In diesem Schritt werden die einzelnen Elemente der Pressemitteilung gescrapt. Dieser Schritt ist nicht auf andere Homepages replizierbar, da jeder Web Designer seine/ihre Seite und die Einbindung des Inhalt anders gestaltet. Ihr müsst für diesen Schritt genau nachvollziehen, in welchen HTMl-Elementen und CSS-Klassen der Inhalt untergebracht ist. Dem entsprechend könnt ihr mithilfe von Beautiful Soup Queries den entsprechenden Inhalt scrapen. Dieser Schritt beinhaltet viel trial and error - lasst euch davon aber nicht entmutigen! Zu guter Letzt werden die gescrapten Pressemitteilungen wieder in einer .txt gespeichert."
   ]
  },
  {
   "cell_type": "code",
   "execution_count": null,
   "metadata": {
    "collapsed": true
   },
   "outputs": [],
   "source": [
    "from __future__ import with_statement\n",
    "\n",
    "\n",
    "with open (\"cdu_korrekt_pm.txt\", \"r\") as myfile:\n",
    "    data = myfile.read().split(\"\\n\")\n",
    "\n",
    "length_data = len(data)\n",
    "print length_data\n",
    "#length_data_actually = length_data - 2\n",
    "\n",
    "\n",
    "count = 0\n",
    "content_list =[]\n",
    "\n",
    "output = codecs.open(\"cdu.tsv\",\"w\",\"utf-8\")\n",
    "\n",
    "for count in range(1,length_data-1):\n",
    "    web_page = data[count]\n",
    "    print web_page\n",
    "\n",
    "    req = urllib2.Request(web_page)\n",
    "    page = urllib2.urlopen(req)\n",
    "\n",
    "    content = page.read()\n",
    "\n",
    "    #print content\n",
    "\n",
    "    soup = BeautifulSoup(content, \"lxml\",from_encoding='utf-8')\n",
    "    print soup.prettify('utf-8')\n",
    "\n",
    "    meta = soup.findAll(\"span\", class_=\"meta-tag press\")\n",
    "    for line in meta:\n",
    "        metalvl = line.get_text()\n",
    "            #print type(metalvl)\n",
    "        metalvl = metalvl.replace(\"\\n\", \" \")\n",
    "        print metalvl\n",
    "\n",
    "    head = soup.findAll(\"h1\") # (\"h2\")\n",
    "    for line in head:\n",
    "        header = line.get_text()\n",
    "        header = header.replace(\"\\n\", \" \")\n",
    "        #print type(header)\n",
    "        print header\n",
    "\n",
    "    corp1 = soup.findAll(\"h2\")  # (\"h2\")\n",
    "    for line in corp1:\n",
    "        corpus1 = line.get_text()\n",
    "        corpus1 = corpus1.replace(\"\\n\", \" \")\n",
    "        # print type(header)\n",
    "        print corpus1\n",
    "\n",
    "    corp2 = soup.findAll(\"strong\", class_=\"subtitle\")  # (\"h2\")\n",
    "    for line in corp2:\n",
    "        corpus2 = line.get_text()\n",
    "        corpus2 = corpus2.replace(\"\\n\", \" \")\n",
    "        # print type(header)\n",
    "        print corpus2\n",
    "\n",
    "    corp3 = soup.findAll(\"div\", class_=\"wysiwyg-wrapper\")  # (\"h2\")\n",
    "    for line in corp3:\n",
    "        corpus3 = line.get_text()\n",
    "        corpus3 = corpus3.replace(\"\\n\", \" \")\n",
    "        # print type(header)\n",
    "        print corpus3\n",
    "\n",
    "    print metalvl\n",
    "    print header\n",
    "    corpus = corpus1 + corpus2 + corpus3\n",
    "\n",
    "    print count\n",
    "\n",
    "    output.write(metalvl +  \"\\t\" + header + '\\t' + corpus + '\\n')\n",
    "\n",
    "    time.sleep(random.randint(1,5))\n",
    "\n",
    "output.close()\n"
   ]
  },
  {
   "cell_type": "markdown",
   "metadata": {},
   "source": [
    "Da der Inhalt von gescrapten Seite nie sonderlich schön aufbereitet ist, finden in diesem Schritt noch ein paar Bereinigungen statt."
   ]
  },
  {
   "cell_type": "code",
   "execution_count": null,
   "metadata": {
    "collapsed": true
   },
   "outputs": [],
   "source": [
    "\n",
    "def cleaning(myfile):\n",
    "    global data\n",
    "    data = myfile.read()\n",
    "    data = data.lower()\n",
    "    data = data.replace(\"\\n\", \". \")\n",
    "    data = data.replace(\"\\r\", \"\")\n",
    "    pattern = re.compile(\"[^\\w.']\", re.UNICODE)\n",
    "    data = pattern.sub(' ', data)\n",
    "    data = re.sub(' +[.]', '.', data)\n",
    "    data = re.sub('\\.\\.+', '.', data)\n",
    "    data = \" \".join(data.split())\n",
    "    data = data + \"\\n\"\n",
    "    print data\n",
    "\n",
    "#Fügt ihr eure eigenen Pfade ein\n",
    "path_1= \"PATH\"\n",
    "\n",
    "path2_1 = \"PATH\"\n",
    "\n",
    "for filename in os.listdir(path_1):\n",
    "    with codecs.open(str(path_1 + filename), encoding=\"utf-8\") as myfile:\n",
    "        cleaning(myfile)\n",
    "        with codecs.open(str(path2_1 + filename), mode=\"w\", encoding=\"utf-8\") as newfile:\n",
    "                newfile.write(data)\n",
    "\n"
   ]
  }
 ],
 "metadata": {
  "kernelspec": {
   "display_name": "Python 2",
   "language": "python",
   "name": "python2"
  },
  "language_info": {
   "codemirror_mode": {
    "name": "ipython",
    "version": 2
   },
   "file_extension": ".py",
   "mimetype": "text/x-python",
   "name": "python",
   "nbconvert_exporter": "python",
   "pygments_lexer": "ipython2",
   "version": "2.7.13"
  }
 },
 "nbformat": 4,
 "nbformat_minor": 2
}
